{
 "cells": [
  {
   "cell_type": "markdown",
   "metadata": {},
   "source": [
    "# Getting and cleaning complaint problems data"
   ]
  },
  {
   "cell_type": "markdown",
   "metadata": {},
   "source": [
    "First, data from the NYC Housing Complaint problems dataset are read into a pandas data frame."
   ]
  },
  {
   "cell_type": "code",
   "execution_count": null,
   "metadata": {
    "collapsed": false
   },
   "outputs": [],
   "source": [
    "import pandas as pd\n",
    "import numpy as np\n",
    "import re\n",
    "\n",
    "### \n",
    "\n",
    "def get_problem_data():\n",
    "    query = (\"https://data.cityofnewyork.us/api/views/a2nx-4u46/rows.csv?accessType=DOWNLOAD\")\n",
    "    complaint_problems = pd.read_csv(query)\n",
    "    return complaint_problems\n",
    "            \n",
    "complaint_problems = get_problem_data()\n",
    "complaint_problems.head(3)"
   ]
  },
  {
   "cell_type": "markdown",
   "metadata": {},
   "source": [
    "Next, the dataset is cleaned as follows:\n",
    "* The following features are dropped:\n",
    "    ** UnitType, SpaceType, Type, MajorCategory, MinorCategory, Code, Status,"
   ]
  },
  {
   "cell_type": "code",
   "execution_count": 2,
   "metadata": {
    "collapsed": false
   },
   "outputs": [
    {
     "name": "stdout",
     "output_type": "stream",
     "text": [
      "(852936, 18)\n",
      "(852936, 11)\n"
     ]
    }
   ],
   "source": [
    "print complaint_problems.shape\n",
    "complaint_problems = complaint_problems.drop(['UnitType', 'SpaceType', 'Type', 'MajorCategory','MinorCategory','Code','Status'],1)\n",
    "print complaint_problems.shape"
   ]
  },
  {
   "cell_type": "markdown",
   "metadata": {},
   "source": [
    "Then rows are dropped if:\n",
    "    * StatusID == 1 (i.e. the record is open)\n",
    "    * They are incomplete (i.e. only complete records are included in analytic sample)"
   ]
  },
  {
   "cell_type": "code",
   "execution_count": 3,
   "metadata": {
    "collapsed": false
   },
   "outputs": [
    {
     "name": "stdout",
     "output_type": "stream",
     "text": [
      "(830437, 11)\n",
      "(827515, 11)\n"
     ]
    }
   ],
   "source": [
    "complaint_problems = complaint_problems[(complaint_problems.StatusID == 2)]\n",
    "print complaint_problems.shape\n",
    "complaint_problems = complaint_problems[~(complaint_problems.isnull().any(axis=1))]\n",
    "print complaint_problems.shape"
   ]
  },
  {
   "cell_type": "markdown",
   "metadata": {},
   "source": [
    "Next, rows are dropped if:\n",
    "\n",
    "* Values in fields UnitType, SpaceType, Type, MajorCategory, MinorCategory, and Code are not in codebook (implying the value is missing or mis-entered).\n",
    "\n",
    "Sets of allowed code values are read in from txt files, which were produced from the HPD-producedd codebook 'HPD_Complaints_Open_Data.pdf' as follows:\n",
    "\n",
    "* 'HPD_Complaints_Open_Data.pdf' was converted to an html file using the pdfminer package.\n",
    "* All text from each section of the codebook was copied from this html page into a text file.\n",
    "* This text file was manually cleaned and everything except allowed code values was deleted."
   ]
  },
  {
   "cell_type": "code",
   "execution_count": 32,
   "metadata": {
    "collapsed": false,
    "scrolled": true
   },
   "outputs": [
    {
     "name": "stdout",
     "output_type": "stream",
     "text": [
      "[91 92 93]\n"
     ]
    }
   ],
   "source": [
    "def get_allowed_codes_from_txt(feature_name):\n",
    "    file_path = 'codebook_for_complaint_problems/' + str(feature_name) + '.txt'\n",
    "    code_values = pd.read_csv(file_path, header=None)\n",
    "    code_values = np.array(code_values).flatten().astype(int)\n",
    "    return code_values\n",
    "\n",
    "allowed_UnitTypeID = get_allowed_codes_from_txt('UnitType')\n",
    "allowed_TypeID = get_allowed_codes_from_txt('ProblemType')\n",
    "allowed_SpaceTypeID = get_allowed_codes_from_txt('SpaceType')\n",
    "allowed_MajorCategoryID = get_allowed_codes_from_txt('MajorCategory')\n",
    "allowed_MinorCategoryID = get_allowed_codes_from_txt('MinorCategory')\n",
    "allowed_CodeID = get_allowed_codes_from_txt('Code')\n",
    "\n",
    "print  allowed_UnitTypeID"
   ]
  },
  {
   "cell_type": "code",
   "execution_count": 5,
   "metadata": {
    "collapsed": false
   },
   "outputs": [
    {
     "name": "stdout",
     "output_type": "stream",
     "text": [
      "Index([u'ProblemID', u'ComplaintID', u'UnitTypeID', u'SpaceTypeID ', u'TypeID',\n",
      "       u'MajorCategoryID', u'MinorCategoryID', u'CodeID', u'StatusID',\n",
      "       u'StatusDate', u'StatusDescription'],\n",
      "      dtype='object')\n"
     ]
    }
   ],
   "source": [
    "##Note there is an extra whitespace in the SpaceTypeID_ column name\n",
    "print complaint_problems.columns"
   ]
  },
  {
   "cell_type": "code",
   "execution_count": 6,
   "metadata": {
    "collapsed": false
   },
   "outputs": [],
   "source": [
    "##so we need to first rename the columns\n",
    "complaint_problems.columns = ['ProblemID', 'ComplaintID', 'UnitTypeID', 'SpaceTypeID', 'TypeID', 'MajorCategoryID', 'MinorCategoryID', 'CodeID', 'StatusID', 'StatusDate', 'StatusDescription']"
   ]
  },
  {
   "cell_type": "code",
   "execution_count": 33,
   "metadata": {
    "collapsed": false
   },
   "outputs": [
    {
     "name": "stdout",
     "output_type": "stream",
     "text": [
      "(827515, 11)\n",
      "(787767, 11)\n",
      "(787767, 11)\n",
      "(787767, 11)\n",
      "(787767, 11)\n",
      "(787251, 11)\n",
      "(777240, 11)\n"
     ]
    }
   ],
   "source": [
    "print complaint_problems.shape\n",
    "complaint_problems_proc = complaint_problems[(complaint_problems['SpaceTypeID'].isin(allowed_SpaceTypeID))]\n",
    "print complaint_problems_proc.shape\n",
    "\n",
    "complaint_problems_proc = complaint_problems_proc[(complaint_problems_proc['UnitTypeID'].isin(allowed_UnitTypeID))]\n",
    "print complaint_problems_proc.shape\n",
    "\n",
    "complaint_problems_proc = complaint_problems_proc[(complaint_problems_proc['TypeID'].isin(allowed_TypeID))]\n",
    "print complaint_problems_proc.shape\n",
    "\n",
    "complaint_problems_proc = complaint_problems_proc[(complaint_problems_proc['MajorCategoryID'].isin(allowed_MajorCategoryID))]\n",
    "print complaint_problems_proc.shape\n",
    "\n",
    "complaint_problems_proc = complaint_problems_proc[(complaint_problems_proc['MinorCategoryID'].isin(allowed_MinorCategoryID))]\n",
    "print complaint_problems_proc.shape\n",
    "\n",
    "complaint_problems_proc = complaint_problems_proc[(complaint_problems_proc['CodeID'].isin(allowed_CodeID))]\n",
    "print complaint_problems_proc.shape"
   ]
  },
  {
   "cell_type": "markdown",
   "metadata": {},
   "source": [
    "Then, StatusDescriptions are processed and coded using the scheme outlined below:"
   ]
  },
  {
   "cell_type": "code",
   "execution_count": 34,
   "metadata": {
    "collapsed": false
   },
   "outputs": [],
   "source": [
    "###Proposed classes for StatusDescription:\n",
    "\n",
    "## 1. \"not able to gain access\" = r'not\\sables\\sto\\sgain\\saccess'\n",
    "##1. \"unable to access\" = r'unable\\sto\\saccess'\n",
    "## 2. \"inspected the following conditions. No violations were issued.\" = r'inspected\\sthe\\sfollowing\\sconditions\\.\\sNo\\sviolations\\swere\\sissued'\n",
    "##2. \"Heat was not required at the time of the inspection. No violations were issued\" = r'Heat\\swas\\snot\\srequired\\sat\\sthe\\stime\\sof\\sthe\\sinspection\\.\\sNo\\sviolations\\swere\\sissued'\n",
    "## 3. \". Violations were issued\" = r'\\.Violations\\swere\\sissued'\n",
    "##4. \". Violations were previously issued\" = r'\\.Violations\\swere\\spreviously\\sissued'\n",
    "##5. \"conditions were corrected\" = r'conditions\\swere\\scorrected'\n",
    "##5. \"advised by a tenant' [that heat or hot water was restored] = r'advised\\sby\\sa\\stenant'\n",
    "##6. \"conditions are still open\" = r'conditions\\sare\\still\\open'\n",
    "##7. \"inspection to test the paint for lead\" = r'inspection\\sto\\stest\\sthe\\spaint\\sfor\\slead'\n",
    "##8. \". A Section 8 Failure was issued.\" = r'\\.\\sA\\sSection\\s8\\sFailure\\swas\\sissued\\.'\n",
    "##0. Not one of the above.\n",
    "\n",
    "def infer_complaint_status(input_string):\n",
    "    try:\n",
    "        input_string = str(input_string)\n",
    "    except:\n",
    "        print input_string\n",
    "    if bool(re.search(r'not\\sable\\sto\\sgain\\saccess', input_string)):\n",
    "        code = 1 \n",
    "    elif bool(re.search(r'unable\\sto\\saccess', input_string)):\n",
    "        code = 1\n",
    "    elif bool(re.search(r'inspected\\sthe\\sfollowing\\sconditions\\.\\sNo\\sviolations\\swere\\sissued', input_string)):\n",
    "        code = 2\n",
    "    elif bool(re.search(r'Heat\\swas\\snot\\srequired\\sat\\sthe\\stime\\sof\\sthe\\sinspection\\.\\sNo\\sviolations\\swere\\sissued', input_string)):\n",
    "        code = 2\n",
    "    elif bool(re.search(r'\\.\\sViolations\\swere\\sissued', input_string)):\n",
    "        code = 3\n",
    "    elif bool(re.search(r'\\.\\sViolations\\swere\\spreviously\\sissued', input_string)):\n",
    "        code = 4\n",
    "    elif bool(re.search(r'conditions\\swere\\scorrected', input_string)):\n",
    "        code = 5 \n",
    "    elif bool(re.search(r'advised\\sby\\sa\\stenant', input_string)):\n",
    "        code = 5\n",
    "    elif bool(re.search(r'conditions\\sare\\sstill\\sopen', input_string)):\n",
    "        code = 6\n",
    "    elif bool(re.search(r'inspection\\sto\\stest\\sthe\\spaint\\sfor\\slead', input_string)):\n",
    "        code = 7\n",
    "    elif bool(re.search(r'\\.\\sA\\sSection\\s8\\sFailure\\swas\\sissued\\.', input_string)):\n",
    "        code = 8\n",
    "    else:\n",
    "        code = 0\n",
    "    return code\n",
    "\n",
    "complaint_problems_proc['StatusDescriptionID'] = complaint_problems_proc['StatusDescription'].map(infer_complaint_status)"
   ]
  },
  {
   "cell_type": "code",
   "execution_count": 35,
   "metadata": {
    "collapsed": false
   },
   "outputs": [
    {
     "name": "stdout",
     "output_type": "stream",
     "text": [
      "0\n"
     ]
    }
   ],
   "source": [
    "print len(complaint_problems_proc[(complaint_problems_proc['StatusDescriptionID'] == 0)])"
   ]
  },
  {
   "cell_type": "markdown",
   "metadata": {},
   "source": [
    "Since there are no records with StatusDescriptionID == 0, we know we've successfully handled every status description. As such, we proceed by dropping StatusID (since they're all 2), and StatusDescription."
   ]
  },
  {
   "cell_type": "code",
   "execution_count": 36,
   "metadata": {
    "collapsed": false
   },
   "outputs": [
    {
     "data": {
      "text/html": [
       "<div>\n",
       "<table border=\"1\" class=\"dataframe\">\n",
       "  <thead>\n",
       "    <tr style=\"text-align: right;\">\n",
       "      <th></th>\n",
       "      <th>ProblemID</th>\n",
       "      <th>ComplaintID</th>\n",
       "      <th>UnitTypeID</th>\n",
       "      <th>SpaceTypeID</th>\n",
       "      <th>TypeID</th>\n",
       "      <th>MajorCategoryID</th>\n",
       "      <th>MinorCategoryID</th>\n",
       "      <th>CodeID</th>\n",
       "      <th>StatusDate</th>\n",
       "      <th>StatusDescriptionID</th>\n",
       "    </tr>\n",
       "  </thead>\n",
       "  <tbody>\n",
       "    <tr>\n",
       "      <th>0</th>\n",
       "      <td>14603248</td>\n",
       "      <td>6991025</td>\n",
       "      <td>91</td>\n",
       "      <td>541</td>\n",
       "      <td>1</td>\n",
       "      <td>9</td>\n",
       "      <td>65</td>\n",
       "      <td>624</td>\n",
       "      <td>09/13/2014</td>\n",
       "      <td>3</td>\n",
       "    </tr>\n",
       "    <tr>\n",
       "      <th>1</th>\n",
       "      <td>14643878</td>\n",
       "      <td>7007545</td>\n",
       "      <td>91</td>\n",
       "      <td>543</td>\n",
       "      <td>1</td>\n",
       "      <td>59</td>\n",
       "      <td>348</td>\n",
       "      <td>2834</td>\n",
       "      <td>09/03/2014</td>\n",
       "      <td>5</td>\n",
       "    </tr>\n",
       "    <tr>\n",
       "      <th>2</th>\n",
       "      <td>14630215</td>\n",
       "      <td>7000457</td>\n",
       "      <td>91</td>\n",
       "      <td>541</td>\n",
       "      <td>3</td>\n",
       "      <td>65</td>\n",
       "      <td>381</td>\n",
       "      <td>2831</td>\n",
       "      <td>10/24/2014</td>\n",
       "      <td>1</td>\n",
       "    </tr>\n",
       "  </tbody>\n",
       "</table>\n",
       "</div>"
      ],
      "text/plain": [
       "   ProblemID  ComplaintID  UnitTypeID  SpaceTypeID  TypeID  MajorCategoryID  \\\n",
       "0   14603248      6991025          91          541       1                9   \n",
       "1   14643878      7007545          91          543       1               59   \n",
       "2   14630215      7000457          91          541       3               65   \n",
       "\n",
       "   MinorCategoryID  CodeID  StatusDate  StatusDescriptionID  \n",
       "0               65     624  09/13/2014                    3  \n",
       "1              348    2834  09/03/2014                    5  \n",
       "2              381    2831  10/24/2014                    1  "
      ]
     },
     "execution_count": 36,
     "metadata": {},
     "output_type": "execute_result"
    }
   ],
   "source": [
    "complaint_problems_proc = complaint_problems_proc.drop(['StatusID','StatusDescription'],axis=1)\n",
    "complaint_problems_proc.head(3)"
   ]
  },
  {
   "cell_type": "markdown",
   "metadata": {},
   "source": [
    "Finally, we convert StatusDate to a datetime feature."
   ]
  },
  {
   "cell_type": "code",
   "execution_count": 38,
   "metadata": {
    "collapsed": false
   },
   "outputs": [
    {
     "name": "stdout",
     "output_type": "stream",
     "text": [
      "datetime64[ns]\n"
     ]
    }
   ],
   "source": [
    "complaint_problems_proc.StatusDate = pd.to_datetime(complaint_problems_proc.StatusDate)\n",
    "print complaint_problems_proc.StatusDate.dtype"
   ]
  },
  {
   "cell_type": "markdown",
   "metadata": {},
   "source": [
    "To recap- we now have a processed complaint problems dataset including all closed records with valid UnitTypeID, SpaceTypeID, TypeID, MajorCategoryID, and CodeId entries. All text features hve been dropped (with the information retained in the ID codes), and a new StatusDescriptionID has been constructed that summarizes the endpoint for each complaint problem."
   ]
  }
 ],
 "metadata": {
  "kernelspec": {
   "display_name": "Python 2",
   "language": "python",
   "name": "python2"
  },
  "language_info": {
   "codemirror_mode": {
    "name": "ipython",
    "version": 2
   },
   "file_extension": ".py",
   "mimetype": "text/x-python",
   "name": "python",
   "nbconvert_exporter": "python",
   "pygments_lexer": "ipython2",
   "version": "2.7.10"
  }
 },
 "nbformat": 4,
 "nbformat_minor": 0
}
