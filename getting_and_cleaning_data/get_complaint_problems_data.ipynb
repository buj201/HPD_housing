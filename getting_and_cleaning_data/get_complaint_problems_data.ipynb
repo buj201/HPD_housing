{
 "cells": [
  {
   "cell_type": "markdown",
   "metadata": {},
   "source": [
    "# Getting and cleaning complaint problems data"
   ]
  },
  {
   "cell_type": "markdown",
   "metadata": {},
   "source": [
    "First, data from the NYC Housing Complaint problems dataset are read into a pandas data frame."
   ]
  },
  {
   "cell_type": "code",
   "execution_count": 48,
   "metadata": {
    "collapsed": false
   },
   "outputs": [
    {
     "data": {
      "text/html": [
       "<div>\n",
       "<table border=\"1\" class=\"dataframe\">\n",
       "  <thead>\n",
       "    <tr style=\"text-align: right;\">\n",
       "      <th></th>\n",
       "      <th>ProblemID</th>\n",
       "      <th>ComplaintID</th>\n",
       "      <th>UnitTypeID</th>\n",
       "      <th>UnitType</th>\n",
       "      <th>SpaceTypeID</th>\n",
       "      <th>SpaceType</th>\n",
       "      <th>TypeID</th>\n",
       "      <th>Type</th>\n",
       "      <th>MajorCategoryID</th>\n",
       "      <th>MajorCategory</th>\n",
       "      <th>MinorCategoryID</th>\n",
       "      <th>MinorCategory</th>\n",
       "      <th>CodeID</th>\n",
       "      <th>Code</th>\n",
       "      <th>StatusID</th>\n",
       "      <th>Status</th>\n",
       "      <th>StatusDate</th>\n",
       "      <th>StatusDescription</th>\n",
       "    </tr>\n",
       "  </thead>\n",
       "  <tbody>\n",
       "    <tr>\n",
       "      <th>0</th>\n",
       "      <td>14603248</td>\n",
       "      <td>6991025</td>\n",
       "      <td>91</td>\n",
       "      <td>APARTMENT</td>\n",
       "      <td>541</td>\n",
       "      <td>BATHROOM</td>\n",
       "      <td>1</td>\n",
       "      <td>EMERGENCY</td>\n",
       "      <td>9</td>\n",
       "      <td>PLUMBING</td>\n",
       "      <td>65</td>\n",
       "      <td>BASIN/SINK</td>\n",
       "      <td>624</td>\n",
       "      <td>DRAIN PIPE BLOCKED OR BROKEN</td>\n",
       "      <td>2</td>\n",
       "      <td>CLOSE</td>\n",
       "      <td>09/13/2014</td>\n",
       "      <td>The Department of Housing Preservation and Dev...</td>\n",
       "    </tr>\n",
       "    <tr>\n",
       "      <th>1</th>\n",
       "      <td>14643878</td>\n",
       "      <td>7007545</td>\n",
       "      <td>91</td>\n",
       "      <td>APARTMENT</td>\n",
       "      <td>543</td>\n",
       "      <td>ENTIRE APARTMENT</td>\n",
       "      <td>1</td>\n",
       "      <td>EMERGENCY</td>\n",
       "      <td>59</td>\n",
       "      <td>HEAT/HOT WATER</td>\n",
       "      <td>348</td>\n",
       "      <td>APARTMENT ONLY</td>\n",
       "      <td>2834</td>\n",
       "      <td>NO HOT WATER</td>\n",
       "      <td>2</td>\n",
       "      <td>CLOSE</td>\n",
       "      <td>09/03/2014</td>\n",
       "      <td>The Department of Housing Preservation and Dev...</td>\n",
       "    </tr>\n",
       "    <tr>\n",
       "      <th>2</th>\n",
       "      <td>14630215</td>\n",
       "      <td>7000457</td>\n",
       "      <td>91</td>\n",
       "      <td>APARTMENT</td>\n",
       "      <td>541</td>\n",
       "      <td>BATHROOM</td>\n",
       "      <td>3</td>\n",
       "      <td>NON EMERGENCY</td>\n",
       "      <td>65</td>\n",
       "      <td>WATER LEAK</td>\n",
       "      <td>381</td>\n",
       "      <td>SLOW LEAK</td>\n",
       "      <td>2831</td>\n",
       "      <td>AT WALL OR CEILING</td>\n",
       "      <td>2</td>\n",
       "      <td>CLOSE</td>\n",
       "      <td>10/24/2014</td>\n",
       "      <td>The Department of Housing Preservation and Dev...</td>\n",
       "    </tr>\n",
       "  </tbody>\n",
       "</table>\n",
       "</div>"
      ],
      "text/plain": [
       "   ProblemID  ComplaintID  UnitTypeID   UnitType  SpaceTypeID   \\\n",
       "0   14603248      6991025          91  APARTMENT           541   \n",
       "1   14643878      7007545          91  APARTMENT           543   \n",
       "2   14630215      7000457          91  APARTMENT           541   \n",
       "\n",
       "          SpaceType  TypeID           Type  MajorCategoryID   MajorCategory  \\\n",
       "0          BATHROOM       1      EMERGENCY                9        PLUMBING   \n",
       "1  ENTIRE APARTMENT       1      EMERGENCY               59  HEAT/HOT WATER   \n",
       "2          BATHROOM       3  NON EMERGENCY               65      WATER LEAK   \n",
       "\n",
       "   MinorCategoryID   MinorCategory  CodeID                          Code  \\\n",
       "0               65      BASIN/SINK     624  DRAIN PIPE BLOCKED OR BROKEN   \n",
       "1              348  APARTMENT ONLY    2834                  NO HOT WATER   \n",
       "2              381       SLOW LEAK    2831            AT WALL OR CEILING   \n",
       "\n",
       "   StatusID Status  StatusDate  \\\n",
       "0         2  CLOSE  09/13/2014   \n",
       "1         2  CLOSE  09/03/2014   \n",
       "2         2  CLOSE  10/24/2014   \n",
       "\n",
       "                                   StatusDescription  \n",
       "0  The Department of Housing Preservation and Dev...  \n",
       "1  The Department of Housing Preservation and Dev...  \n",
       "2  The Department of Housing Preservation and Dev...  "
      ]
     },
     "execution_count": 48,
     "metadata": {},
     "output_type": "execute_result"
    }
   ],
   "source": [
    "import pandas as pd\n",
    "import numpy as np\n",
    "import re\n",
    "\n",
    "### \n",
    "\n",
    "def get_problem_data():\n",
    "    query = (\"https://data.cityofnewyork.us/api/views/a2nx-4u46/rows.csv?accessType=DOWNLOAD\")\n",
    "    complaint_problems = pd.read_csv(query)\n",
    "    return complaint_problems\n",
    "            \n",
    "complaint_problems = get_problem_data()\n",
    "complaint_problems.head(3)"
   ]
  },
  {
   "cell_type": "markdown",
   "metadata": {},
   "source": [
    "Next, the dataset is cleaned as follows:\n",
    "* The following features are dropped: UnitType, SpaceType, Type, MajorCategory, MinorCategory, Code, Status,"
   ]
  },
  {
   "cell_type": "code",
   "execution_count": 49,
   "metadata": {
    "collapsed": false
   },
   "outputs": [
    {
     "name": "stdout",
     "output_type": "stream",
     "text": [
      "(852936, 18)\n",
      "(852936, 11)\n"
     ]
    }
   ],
   "source": [
    "print complaint_problems.shape\n",
    "complaint_problems = complaint_problems.drop(['UnitType', 'SpaceType', 'Type', 'MajorCategory','MinorCategory','Code','Status'],1)\n",
    "print complaint_problems.shape"
   ]
  },
  {
   "cell_type": "markdown",
   "metadata": {},
   "source": [
    "Then rows are dropped if:\n",
    "    * StatusID == 1 (i.e. the record is open)\n",
    "    * They are incomplete (i.e. only complete records are included in analytic sample)"
   ]
  },
  {
   "cell_type": "code",
   "execution_count": 50,
   "metadata": {
    "collapsed": false,
    "scrolled": true
   },
   "outputs": [
    {
     "name": "stdout",
     "output_type": "stream",
     "text": [
      "(830437, 11)\n",
      "(827515, 11)\n"
     ]
    }
   ],
   "source": [
    "complaint_problems = complaint_problems[(complaint_problems.StatusID == 2)]\n",
    "print complaint_problems.shape\n",
    "complaint_problems = complaint_problems[~(complaint_problems.isnull().any(axis=1))]\n",
    "print complaint_problems.shape"
   ]
  },
  {
   "cell_type": "markdown",
   "metadata": {},
   "source": [
    "Next, rows are dropped if:\n",
    "\n",
    "* Values in fields UnitType, SpaceType, Type, MajorCategory, MinorCategory, and Code are not in codebook (implying the value is missing or mis-entered).\n",
    "\n",
    "Sets of allowed code values are read in from txt files, which were produced from the HPD-produced codebook 'HPD_Complaints_Open_Data.pdf' as follows:\n",
    "\n",
    "* 'HPD_Complaints_Open_Data.pdf' was converted to an html file using the pdfminer package.\n",
    "* All text from each section of the codebook was copied from this html page into a text file.\n",
    "* This text file was manually cleaned and everything except allowed code values was deleted."
   ]
  },
  {
   "cell_type": "code",
   "execution_count": 51,
   "metadata": {
    "collapsed": false,
    "scrolled": true
   },
   "outputs": [],
   "source": [
    "def get_allowed_codes_from_txt(feature_name):\n",
    "    file_path = 'codebook_for_complaint_problems/' + str(feature_name) + '.txt'\n",
    "    code_values = pd.read_csv(file_path, header=None)\n",
    "    code_values = np.array(code_values).flatten().astype(int)\n",
    "    return code_values\n",
    "\n",
    "allowed_UnitTypeID = get_allowed_codes_from_txt('UnitType')\n",
    "allowed_TypeID = get_allowed_codes_from_txt('ProblemType')\n",
    "allowed_SpaceTypeID = get_allowed_codes_from_txt('SpaceType')\n",
    "allowed_MajorCategoryID = get_allowed_codes_from_txt('MajorCategory')\n",
    "allowed_MinorCategoryID = get_allowed_codes_from_txt('MinorCategory')\n",
    "allowed_CodeID = get_allowed_codes_from_txt('Code')"
   ]
  },
  {
   "cell_type": "markdown",
   "metadata": {},
   "source": [
    "Note there is an extra whitespace in the SpaceTypeID_ column name"
   ]
  },
  {
   "cell_type": "code",
   "execution_count": 52,
   "metadata": {
    "collapsed": false
   },
   "outputs": [
    {
     "name": "stdout",
     "output_type": "stream",
     "text": [
      "Index([u'ProblemID', u'ComplaintID', u'UnitTypeID', u'SpaceTypeID ', u'TypeID',\n",
      "       u'MajorCategoryID', u'MinorCategoryID', u'CodeID', u'StatusID',\n",
      "       u'StatusDate', u'StatusDescription'],\n",
      "      dtype='object')\n"
     ]
    }
   ],
   "source": [
    "print complaint_problems.columns"
   ]
  },
  {
   "cell_type": "markdown",
   "metadata": {},
   "source": [
    "So we need to first rename the columns."
   ]
  },
  {
   "cell_type": "code",
   "execution_count": 53,
   "metadata": {
    "collapsed": false
   },
   "outputs": [],
   "source": [
    "complaint_problems.columns = ['ProblemID', 'ComplaintID', 'UnitTypeID', 'SpaceTypeID', 'TypeID', 'MajorCategoryID', 'MinorCategoryID', 'CodeID', 'StatusID', 'StatusDate', 'StatusDescription']"
   ]
  },
  {
   "cell_type": "code",
   "execution_count": 113,
   "metadata": {
    "collapsed": false
   },
   "outputs": [
    {
     "name": "stdout",
     "output_type": "stream",
     "text": [
      "(827515, 11)\n",
      "(787767, 11)\n",
      "(787767, 11)\n",
      "(787767, 11)\n",
      "(787767, 11)\n",
      "(787251, 11)\n",
      "(777240, 11)\n"
     ]
    }
   ],
   "source": [
    "print complaint_problems.shape\n",
    "complaint_problems_proc = complaint_problems[(complaint_problems['SpaceTypeID'].isin(allowed_SpaceTypeID))]\n",
    "print complaint_problems_proc.shape\n",
    "\n",
    "complaint_problems_proc = complaint_problems_proc[(complaint_problems_proc['UnitTypeID'].isin(allowed_UnitTypeID))]\n",
    "print complaint_problems_proc.shape\n",
    "\n",
    "complaint_problems_proc = complaint_problems_proc[(complaint_problems_proc['TypeID'].isin(allowed_TypeID))]\n",
    "print complaint_problems_proc.shape\n",
    "\n",
    "complaint_problems_proc = complaint_problems_proc[(complaint_problems_proc['MajorCategoryID'].isin(allowed_MajorCategoryID))]\n",
    "print complaint_problems_proc.shape\n",
    "\n",
    "complaint_problems_proc = complaint_problems_proc[(complaint_problems_proc['MinorCategoryID'].isin(allowed_MinorCategoryID))]\n",
    "print complaint_problems_proc.shape\n",
    "\n",
    "complaint_problems_proc = complaint_problems_proc[(complaint_problems_proc['CodeID'].isin(allowed_CodeID))]\n",
    "print complaint_problems_proc.shape"
   ]
  },
  {
   "cell_type": "markdown",
   "metadata": {},
   "source": [
    "Then, StatusDescriptions are processed and coded using the scheme outlined below:"
   ]
  },
  {
   "cell_type": "code",
   "execution_count": 114,
   "metadata": {
    "collapsed": false
   },
   "outputs": [],
   "source": [
    "###Proposed classes for StatusDescription:\n",
    "\n",
    "## 1. \"not able to gain access\" = r'not\\sables\\sto\\sgain\\saccess'\n",
    "##1. \"unable to access\" = r'unable\\sto\\saccess'\n",
    "## 2. \"inspected the following conditions. No violations were issued.\" = r'inspected\\sthe\\sfollowing\\sconditions\\.\\sNo\\sviolations\\swere\\sissued'\n",
    "##2. \"Heat was not required at the time of the inspection. No violations were issued\" = r'Heat\\swas\\snot\\srequired\\sat\\sthe\\stime\\sof\\sthe\\sinspection\\.\\sNo\\sviolations\\swere\\sissued'\n",
    "## 3. \". Violations were issued\" = r'\\.\\sViolations\\swere\\sissued'\n",
    "##4. \". Violations were previously issued\" = r'\\.\\sViolations\\swere\\spreviously\\sissued'\n",
    "##5. \"conditions were corrected\" = r'conditions\\swere\\scorrected'\n",
    "##5. \"advised by a tenant' [that heat or hot water was restored] = r'advised\\sby\\sa\\stenant'\n",
    "##6. \"conditions are still open\" = r'conditions\\sare\\still\\open'\n",
    "##7. \"inspection to test the paint for lead\" = r'inspection\\sto\\stest\\sthe\\spaint\\sfor\\slead'\n",
    "##8. \". A Section 8 Failure was issued.\" = r'\\.\\sA\\sSection\\s8\\sFailure\\swas\\sissued\\.'\n",
    "##0. Not one of the above.\n",
    "\n",
    "def infer_complaint_status(input_string):\n",
    "    try:\n",
    "        input_string = str(input_string)\n",
    "    except:\n",
    "        print input_string\n",
    "    if bool(re.search(r'not\\sable\\sto\\sgain\\saccess', input_string)):\n",
    "        code = 1 \n",
    "    elif bool(re.search(r'unable\\sto\\saccess', input_string)):\n",
    "        code = 1\n",
    "    elif bool(re.search(r'inspected\\sthe\\sfollowing\\sconditions\\.\\sNo\\sviolations\\swere\\sissued', input_string)):\n",
    "        code = 2\n",
    "    elif bool(re.search(r'Heat\\swas\\snot\\srequired\\sat\\sthe\\stime\\sof\\sthe\\sinspection\\.\\sNo\\sviolations\\swere\\sissued', input_string)):\n",
    "        code = 2\n",
    "    elif bool(re.search(r'\\.\\sViolations\\swere\\sissued', input_string)):\n",
    "        code = 3\n",
    "    elif bool(re.search(r'\\.\\sViolations\\swere\\spreviously\\sissued', input_string)):\n",
    "        code = 4\n",
    "    elif bool(re.search(r'conditions\\swere\\scorrected', input_string)):\n",
    "        code = 5 \n",
    "    elif bool(re.search(r'advised\\sby\\sa\\stenant', input_string)):\n",
    "        code = 5\n",
    "    elif bool(re.search(r'conditions\\sare\\sstill\\sopen', input_string)):\n",
    "        code = 6\n",
    "    elif bool(re.search(r'inspection\\sto\\stest\\sthe\\spaint\\sfor\\slead', input_string)):\n",
    "        code = 7\n",
    "    elif bool(re.search(r'\\.\\sA\\sSection\\s8\\sFailure\\swas\\sissued\\.', input_string)):\n",
    "        code = 8\n",
    "    else:\n",
    "        code = 0\n",
    "    return code\n",
    "\n",
    "complaint_problems_proc['StatusDescriptionID'] = complaint_problems_proc['StatusDescription'].map(infer_complaint_status)"
   ]
  },
  {
   "cell_type": "code",
   "execution_count": 115,
   "metadata": {
    "collapsed": false
   },
   "outputs": [
    {
     "name": "stdout",
     "output_type": "stream",
     "text": [
      "0\n"
     ]
    }
   ],
   "source": [
    "print len(complaint_problems_proc[(complaint_problems_proc['StatusDescriptionID'] == 0)])"
   ]
  },
  {
   "cell_type": "markdown",
   "metadata": {},
   "source": [
    "Since there are no records with StatusDescriptionID == 0, we know we've successfully handled every status description. As such, we proceed by dropping StatusID (since they're all 2), and StatusDescription."
   ]
  },
  {
   "cell_type": "code",
   "execution_count": 116,
   "metadata": {
    "collapsed": false
   },
   "outputs": [
    {
     "data": {
      "text/html": [
       "<div>\n",
       "<table border=\"1\" class=\"dataframe\">\n",
       "  <thead>\n",
       "    <tr style=\"text-align: right;\">\n",
       "      <th></th>\n",
       "      <th>ProblemID</th>\n",
       "      <th>ComplaintID</th>\n",
       "      <th>UnitTypeID</th>\n",
       "      <th>SpaceTypeID</th>\n",
       "      <th>TypeID</th>\n",
       "      <th>MajorCategoryID</th>\n",
       "      <th>MinorCategoryID</th>\n",
       "      <th>CodeID</th>\n",
       "      <th>StatusDate</th>\n",
       "      <th>StatusDescriptionID</th>\n",
       "    </tr>\n",
       "  </thead>\n",
       "  <tbody>\n",
       "    <tr>\n",
       "      <th>0</th>\n",
       "      <td>14603248</td>\n",
       "      <td>6991025</td>\n",
       "      <td>91</td>\n",
       "      <td>541</td>\n",
       "      <td>1</td>\n",
       "      <td>9</td>\n",
       "      <td>65</td>\n",
       "      <td>624</td>\n",
       "      <td>09/13/2014</td>\n",
       "      <td>3</td>\n",
       "    </tr>\n",
       "    <tr>\n",
       "      <th>1</th>\n",
       "      <td>14643878</td>\n",
       "      <td>7007545</td>\n",
       "      <td>91</td>\n",
       "      <td>543</td>\n",
       "      <td>1</td>\n",
       "      <td>59</td>\n",
       "      <td>348</td>\n",
       "      <td>2834</td>\n",
       "      <td>09/03/2014</td>\n",
       "      <td>5</td>\n",
       "    </tr>\n",
       "    <tr>\n",
       "      <th>2</th>\n",
       "      <td>14630215</td>\n",
       "      <td>7000457</td>\n",
       "      <td>91</td>\n",
       "      <td>541</td>\n",
       "      <td>3</td>\n",
       "      <td>65</td>\n",
       "      <td>381</td>\n",
       "      <td>2831</td>\n",
       "      <td>10/24/2014</td>\n",
       "      <td>1</td>\n",
       "    </tr>\n",
       "  </tbody>\n",
       "</table>\n",
       "</div>"
      ],
      "text/plain": [
       "   ProblemID  ComplaintID  UnitTypeID  SpaceTypeID  TypeID  MajorCategoryID  \\\n",
       "0   14603248      6991025          91          541       1                9   \n",
       "1   14643878      7007545          91          543       1               59   \n",
       "2   14630215      7000457          91          541       3               65   \n",
       "\n",
       "   MinorCategoryID  CodeID  StatusDate  StatusDescriptionID  \n",
       "0               65     624  09/13/2014                    3  \n",
       "1              348    2834  09/03/2014                    5  \n",
       "2              381    2831  10/24/2014                    1  "
      ]
     },
     "execution_count": 116,
     "metadata": {},
     "output_type": "execute_result"
    }
   ],
   "source": [
    "complaint_problems_proc = complaint_problems_proc.drop(['StatusID','StatusDescription'],axis=1)\n",
    "complaint_problems_proc.head(3)"
   ]
  },
  {
   "cell_type": "markdown",
   "metadata": {},
   "source": [
    "Next we need to determine the number of problems associated with a complaint."
   ]
  },
  {
   "cell_type": "code",
   "execution_count": 117,
   "metadata": {
    "collapsed": false
   },
   "outputs": [],
   "source": [
    "prob_in_complaint = complaint_problems_proc.ComplaintID.value_counts()\n",
    "prob_in_complaint.name = 'Probs_in_complaint'"
   ]
  },
  {
   "cell_type": "code",
   "execution_count": 118,
   "metadata": {
    "collapsed": false
   },
   "outputs": [
    {
     "data": {
      "text/plain": [
       "(777240, 11)"
      ]
     },
     "execution_count": 118,
     "metadata": {},
     "output_type": "execute_result"
    }
   ],
   "source": [
    "complaint_problems_proc.set_index('ComplaintID', drop=False, inplace=True)\n",
    "complaint_problems_proc = complaint_problems_proc.join(prob_in_complaint, how='inner')\n",
    "complaint_problems_proc.shape"
   ]
  },
  {
   "cell_type": "code",
   "execution_count": 119,
   "metadata": {
    "collapsed": false
   },
   "outputs": [
    {
     "data": {
      "text/html": [
       "<div>\n",
       "<table border=\"1\" class=\"dataframe\">\n",
       "  <thead>\n",
       "    <tr style=\"text-align: right;\">\n",
       "      <th></th>\n",
       "      <th>ProblemID</th>\n",
       "      <th>ComplaintID</th>\n",
       "      <th>UnitTypeID</th>\n",
       "      <th>SpaceTypeID</th>\n",
       "      <th>TypeID</th>\n",
       "      <th>MajorCategoryID</th>\n",
       "      <th>MinorCategoryID</th>\n",
       "      <th>CodeID</th>\n",
       "      <th>StatusDate</th>\n",
       "      <th>StatusDescriptionID</th>\n",
       "      <th>Probs_in_complaint</th>\n",
       "    </tr>\n",
       "  </thead>\n",
       "  <tbody>\n",
       "    <tr>\n",
       "      <th>0</th>\n",
       "      <td>14248328</td>\n",
       "      <td>6834336</td>\n",
       "      <td>91</td>\n",
       "      <td>542</td>\n",
       "      <td>1</td>\n",
       "      <td>63</td>\n",
       "      <td>375</td>\n",
       "      <td>2817</td>\n",
       "      <td>04/24/2014</td>\n",
       "      <td>1</td>\n",
       "      <td>4</td>\n",
       "    </tr>\n",
       "    <tr>\n",
       "      <th>1</th>\n",
       "      <td>14248329</td>\n",
       "      <td>6834336</td>\n",
       "      <td>91</td>\n",
       "      <td>543</td>\n",
       "      <td>3</td>\n",
       "      <td>63</td>\n",
       "      <td>376</td>\n",
       "      <td>2821</td>\n",
       "      <td>03/18/2015</td>\n",
       "      <td>2</td>\n",
       "      <td>4</td>\n",
       "    </tr>\n",
       "    <tr>\n",
       "      <th>2</th>\n",
       "      <td>14248330</td>\n",
       "      <td>6834336</td>\n",
       "      <td>91</td>\n",
       "      <td>543</td>\n",
       "      <td>3</td>\n",
       "      <td>63</td>\n",
       "      <td>376</td>\n",
       "      <td>2823</td>\n",
       "      <td>03/18/2015</td>\n",
       "      <td>2</td>\n",
       "      <td>4</td>\n",
       "    </tr>\n",
       "    <tr>\n",
       "      <th>3</th>\n",
       "      <td>14248331</td>\n",
       "      <td>6834336</td>\n",
       "      <td>91</td>\n",
       "      <td>541</td>\n",
       "      <td>1</td>\n",
       "      <td>65</td>\n",
       "      <td>380</td>\n",
       "      <td>2828</td>\n",
       "      <td>04/24/2014</td>\n",
       "      <td>1</td>\n",
       "      <td>4</td>\n",
       "    </tr>\n",
       "    <tr>\n",
       "      <th>4</th>\n",
       "      <td>14248462</td>\n",
       "      <td>6834403</td>\n",
       "      <td>91</td>\n",
       "      <td>546</td>\n",
       "      <td>3</td>\n",
       "      <td>65</td>\n",
       "      <td>381</td>\n",
       "      <td>2831</td>\n",
       "      <td>08/25/2014</td>\n",
       "      <td>1</td>\n",
       "      <td>2</td>\n",
       "    </tr>\n",
       "    <tr>\n",
       "      <th>5</th>\n",
       "      <td>14248463</td>\n",
       "      <td>6834403</td>\n",
       "      <td>91</td>\n",
       "      <td>546</td>\n",
       "      <td>3</td>\n",
       "      <td>58</td>\n",
       "      <td>343</td>\n",
       "      <td>2686</td>\n",
       "      <td>08/25/2014</td>\n",
       "      <td>1</td>\n",
       "      <td>2</td>\n",
       "    </tr>\n",
       "  </tbody>\n",
       "</table>\n",
       "</div>"
      ],
      "text/plain": [
       "   ProblemID  ComplaintID  UnitTypeID  SpaceTypeID  TypeID  MajorCategoryID  \\\n",
       "0   14248328      6834336          91          542       1               63   \n",
       "1   14248329      6834336          91          543       3               63   \n",
       "2   14248330      6834336          91          543       3               63   \n",
       "3   14248331      6834336          91          541       1               65   \n",
       "4   14248462      6834403          91          546       3               65   \n",
       "5   14248463      6834403          91          546       3               58   \n",
       "\n",
       "   MinorCategoryID  CodeID  StatusDate  StatusDescriptionID  \\\n",
       "0              375    2817  04/24/2014                    1   \n",
       "1              376    2821  03/18/2015                    2   \n",
       "2              376    2823  03/18/2015                    2   \n",
       "3              380    2828  04/24/2014                    1   \n",
       "4              381    2831  08/25/2014                    1   \n",
       "5              343    2686  08/25/2014                    1   \n",
       "\n",
       "   Probs_in_complaint  \n",
       "0                   4  \n",
       "1                   4  \n",
       "2                   4  \n",
       "3                   4  \n",
       "4                   2  \n",
       "5                   2  "
      ]
     },
     "execution_count": 119,
     "metadata": {},
     "output_type": "execute_result"
    }
   ],
   "source": [
    "complaint_problems_proc.reset_index(inplace=True, drop=True)\n",
    "complaint_problems_proc.head(6)"
   ]
  },
  {
   "cell_type": "markdown",
   "metadata": {},
   "source": [
    "Now we can drop ProblemID, so we have only informative variables in the DataFrame. We also drop StatusDate, since it is not needed (given we will be using the ComplaintDate from the complaint dataset to determine the time a complaint was made)."
   ]
  },
  {
   "cell_type": "code",
   "execution_count": 120,
   "metadata": {
    "collapsed": false
   },
   "outputs": [],
   "source": [
    "complaint_problems_proc = complaint_problems_proc.drop(['ProblemID', \"StatusDate\"], axis=1)"
   ]
  },
  {
   "cell_type": "code",
   "execution_count": 121,
   "metadata": {
    "collapsed": false
   },
   "outputs": [
    {
     "data": {
      "text/html": [
       "<div>\n",
       "<table border=\"1\" class=\"dataframe\">\n",
       "  <thead>\n",
       "    <tr style=\"text-align: right;\">\n",
       "      <th></th>\n",
       "      <th>ComplaintID</th>\n",
       "      <th>UnitTypeID</th>\n",
       "      <th>SpaceTypeID</th>\n",
       "      <th>TypeID</th>\n",
       "      <th>MajorCategoryID</th>\n",
       "      <th>MinorCategoryID</th>\n",
       "      <th>CodeID</th>\n",
       "      <th>StatusDescriptionID</th>\n",
       "      <th>Probs_in_complaint</th>\n",
       "    </tr>\n",
       "  </thead>\n",
       "  <tbody>\n",
       "    <tr>\n",
       "      <th>0</th>\n",
       "      <td>6834336</td>\n",
       "      <td>91</td>\n",
       "      <td>542</td>\n",
       "      <td>1</td>\n",
       "      <td>63</td>\n",
       "      <td>375</td>\n",
       "      <td>2817</td>\n",
       "      <td>1</td>\n",
       "      <td>4</td>\n",
       "    </tr>\n",
       "    <tr>\n",
       "      <th>1</th>\n",
       "      <td>6834336</td>\n",
       "      <td>91</td>\n",
       "      <td>543</td>\n",
       "      <td>3</td>\n",
       "      <td>63</td>\n",
       "      <td>376</td>\n",
       "      <td>2821</td>\n",
       "      <td>2</td>\n",
       "      <td>4</td>\n",
       "    </tr>\n",
       "    <tr>\n",
       "      <th>2</th>\n",
       "      <td>6834336</td>\n",
       "      <td>91</td>\n",
       "      <td>543</td>\n",
       "      <td>3</td>\n",
       "      <td>63</td>\n",
       "      <td>376</td>\n",
       "      <td>2823</td>\n",
       "      <td>2</td>\n",
       "      <td>4</td>\n",
       "    </tr>\n",
       "    <tr>\n",
       "      <th>3</th>\n",
       "      <td>6834336</td>\n",
       "      <td>91</td>\n",
       "      <td>541</td>\n",
       "      <td>1</td>\n",
       "      <td>65</td>\n",
       "      <td>380</td>\n",
       "      <td>2828</td>\n",
       "      <td>1</td>\n",
       "      <td>4</td>\n",
       "    </tr>\n",
       "    <tr>\n",
       "      <th>4</th>\n",
       "      <td>6834403</td>\n",
       "      <td>91</td>\n",
       "      <td>546</td>\n",
       "      <td>3</td>\n",
       "      <td>65</td>\n",
       "      <td>381</td>\n",
       "      <td>2831</td>\n",
       "      <td>1</td>\n",
       "      <td>2</td>\n",
       "    </tr>\n",
       "    <tr>\n",
       "      <th>5</th>\n",
       "      <td>6834403</td>\n",
       "      <td>91</td>\n",
       "      <td>546</td>\n",
       "      <td>3</td>\n",
       "      <td>58</td>\n",
       "      <td>343</td>\n",
       "      <td>2686</td>\n",
       "      <td>1</td>\n",
       "      <td>2</td>\n",
       "    </tr>\n",
       "  </tbody>\n",
       "</table>\n",
       "</div>"
      ],
      "text/plain": [
       "   ComplaintID  UnitTypeID  SpaceTypeID  TypeID  MajorCategoryID  \\\n",
       "0      6834336          91          542       1               63   \n",
       "1      6834336          91          543       3               63   \n",
       "2      6834336          91          543       3               63   \n",
       "3      6834336          91          541       1               65   \n",
       "4      6834403          91          546       3               65   \n",
       "5      6834403          91          546       3               58   \n",
       "\n",
       "   MinorCategoryID  CodeID  StatusDescriptionID  Probs_in_complaint  \n",
       "0              375    2817                    1                   4  \n",
       "1              376    2821                    2                   4  \n",
       "2              376    2823                    2                   4  \n",
       "3              380    2828                    1                   4  \n",
       "4              381    2831                    1                   2  \n",
       "5              343    2686                    1                   2  "
      ]
     },
     "execution_count": 121,
     "metadata": {},
     "output_type": "execute_result"
    }
   ],
   "source": [
    "complaint_problems_proc.head(6)"
   ]
  },
  {
   "cell_type": "markdown",
   "metadata": {},
   "source": [
    "Finally, we convert StatusDescriptionID to a binary variable- violation_issued. This is justified since we're interested in predicting which complaints result in a violation. Note we first drop records with StatusDescriptionID == 4, since these are effectively duplicate records in our dataset."
   ]
  },
  {
   "cell_type": "code",
   "execution_count": 122,
   "metadata": {
    "collapsed": false
   },
   "outputs": [
    {
     "data": {
      "text/plain": [
       "19039"
      ]
     },
     "execution_count": 122,
     "metadata": {},
     "output_type": "execute_result"
    }
   ],
   "source": [
    "len(complaint_problems_proc[(complaint_problems_proc['StatusDescriptionID'] == 4)])"
   ]
  },
  {
   "cell_type": "code",
   "execution_count": 123,
   "metadata": {
    "collapsed": false
   },
   "outputs": [
    {
     "data": {
      "text/html": [
       "<div>\n",
       "<table border=\"1\" class=\"dataframe\">\n",
       "  <thead>\n",
       "    <tr style=\"text-align: right;\">\n",
       "      <th></th>\n",
       "      <th>ComplaintID</th>\n",
       "      <th>UnitTypeID</th>\n",
       "      <th>SpaceTypeID</th>\n",
       "      <th>TypeID</th>\n",
       "      <th>MajorCategoryID</th>\n",
       "      <th>MinorCategoryID</th>\n",
       "      <th>CodeID</th>\n",
       "      <th>Probs_in_complaint</th>\n",
       "      <th>ViolationIssued</th>\n",
       "    </tr>\n",
       "  </thead>\n",
       "  <tbody>\n",
       "    <tr>\n",
       "      <th>0</th>\n",
       "      <td>6834336</td>\n",
       "      <td>91</td>\n",
       "      <td>542</td>\n",
       "      <td>1</td>\n",
       "      <td>63</td>\n",
       "      <td>375</td>\n",
       "      <td>2817</td>\n",
       "      <td>4</td>\n",
       "      <td>0</td>\n",
       "    </tr>\n",
       "    <tr>\n",
       "      <th>1</th>\n",
       "      <td>6834336</td>\n",
       "      <td>91</td>\n",
       "      <td>543</td>\n",
       "      <td>3</td>\n",
       "      <td>63</td>\n",
       "      <td>376</td>\n",
       "      <td>2821</td>\n",
       "      <td>4</td>\n",
       "      <td>0</td>\n",
       "    </tr>\n",
       "    <tr>\n",
       "      <th>2</th>\n",
       "      <td>6834336</td>\n",
       "      <td>91</td>\n",
       "      <td>543</td>\n",
       "      <td>3</td>\n",
       "      <td>63</td>\n",
       "      <td>376</td>\n",
       "      <td>2823</td>\n",
       "      <td>4</td>\n",
       "      <td>0</td>\n",
       "    </tr>\n",
       "    <tr>\n",
       "      <th>3</th>\n",
       "      <td>6834336</td>\n",
       "      <td>91</td>\n",
       "      <td>541</td>\n",
       "      <td>1</td>\n",
       "      <td>65</td>\n",
       "      <td>380</td>\n",
       "      <td>2828</td>\n",
       "      <td>4</td>\n",
       "      <td>0</td>\n",
       "    </tr>\n",
       "    <tr>\n",
       "      <th>4</th>\n",
       "      <td>6834403</td>\n",
       "      <td>91</td>\n",
       "      <td>546</td>\n",
       "      <td>3</td>\n",
       "      <td>65</td>\n",
       "      <td>381</td>\n",
       "      <td>2831</td>\n",
       "      <td>2</td>\n",
       "      <td>0</td>\n",
       "    </tr>\n",
       "    <tr>\n",
       "      <th>5</th>\n",
       "      <td>6834403</td>\n",
       "      <td>91</td>\n",
       "      <td>546</td>\n",
       "      <td>3</td>\n",
       "      <td>58</td>\n",
       "      <td>343</td>\n",
       "      <td>2686</td>\n",
       "      <td>2</td>\n",
       "      <td>0</td>\n",
       "    </tr>\n",
       "  </tbody>\n",
       "</table>\n",
       "</div>"
      ],
      "text/plain": [
       "   ComplaintID  UnitTypeID  SpaceTypeID  TypeID  MajorCategoryID  \\\n",
       "0      6834336          91          542       1               63   \n",
       "1      6834336          91          543       3               63   \n",
       "2      6834336          91          543       3               63   \n",
       "3      6834336          91          541       1               65   \n",
       "4      6834403          91          546       3               65   \n",
       "5      6834403          91          546       3               58   \n",
       "\n",
       "   MinorCategoryID  CodeID  Probs_in_complaint  ViolationIssued  \n",
       "0              375    2817                   4                0  \n",
       "1              376    2821                   4                0  \n",
       "2              376    2823                   4                0  \n",
       "3              380    2828                   4                0  \n",
       "4              381    2831                   2                0  \n",
       "5              343    2686                   2                0  "
      ]
     },
     "execution_count": 123,
     "metadata": {},
     "output_type": "execute_result"
    }
   ],
   "source": [
    "complaint_problems_proc = complaint_problems_proc[(complaint_problems_proc.StatusDescriptionID != 4)]\n",
    "complaint_problems_proc['ViolationIssued'] = complaint_problems_proc['StatusDescriptionID'].map(lambda x: 1 if (x == 3 or x == 8) else 0)\n",
    "complaint_problems_proc = complaint_problems_proc.drop('StatusDescriptionID', axis=1)\n",
    "complaint_problems_proc.head(6)"
   ]
  },
  {
   "cell_type": "code",
   "execution_count": 124,
   "metadata": {
    "collapsed": false
   },
   "outputs": [
    {
     "data": {
      "text/plain": [
       "0    607273\n",
       "1    150928\n",
       "dtype: int64"
      ]
     },
     "execution_count": 124,
     "metadata": {},
     "output_type": "execute_result"
    }
   ],
   "source": [
    "complaint_problems_proc.ViolationIssued.value_counts()"
   ]
  },
  {
   "cell_type": "markdown",
   "metadata": {},
   "source": [
    "To recap- we now have a processed complaint problems dataset including all closed records with valid UnitTypeID, SpaceTypeID, TypeID, MajorCategoryID, and CodeID entries. All text features hve been dropped (with the information retained in the ID codes), and a new StatusDescriptionID has been constructed that summarizes the endpoint for each complaint problem."
   ]
  }
 ],
 "metadata": {
  "kernelspec": {
   "display_name": "Python 2",
   "language": "python",
   "name": "python2"
  },
  "language_info": {
   "codemirror_mode": {
    "name": "ipython",
    "version": 2
   },
   "file_extension": ".py",
   "mimetype": "text/x-python",
   "name": "python",
   "nbconvert_exporter": "python",
   "pygments_lexer": "ipython2",
   "version": "2.7.10"
  }
 },
 "nbformat": 4,
 "nbformat_minor": 0
}
