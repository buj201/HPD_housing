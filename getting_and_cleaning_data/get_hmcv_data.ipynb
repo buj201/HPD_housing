{
 "cells": [
  {
   "cell_type": "markdown",
   "metadata": {},
   "source": [
    "# Getting and cleaning housing maintenance code violation data"
   ]
  },
  {
   "cell_type": "markdown",
   "metadata": {},
   "source": [
    "In this notebook, we will get and clean the NYC Housing Maintenance Code Violation data. Specifically, we will:\n",
    "1. Read in the violation data from NYC Open Data.\n",
    "2. Drop all features except:\n",
    " * BoroID\n",
    " * Block\n",
    " * Lot\n",
    " * Class\n",
    " * ApprovedDate\n",
    "3. Then we will convert ApproveDate to a datetime datatype.\n",
    "4. Then we will clean the data by dropping all records with:\n",
    " * Incomplete data\n",
    " * BoroID not in range(1,6)\n",
    " * Class not in ['A', 'B', 'C']\n",
    " * ApprovedDate between November 1st, 2009, and October 31st, 2014. Note this data range will give us five complete year of violations, but not overlap with the one year of \"new\" complaints in our dataset (thus avoiding leakage).\n",
    "5. Then we will construct the BBL for each violation before dropping BoroID, Block, and Lot.\n",
    "6. Next, we will group by BBL and aggregate by counting the total number of violations of each type for each BBL over our one-year window."
   ]
  },
  {
   "cell_type": "code",
   "execution_count": 2,
   "metadata": {
    "collapsed": false
   },
   "outputs": [
    {
     "data": {
      "text/html": [
       "<div>\n",
       "<table border=\"1\" class=\"dataframe\">\n",
       "  <thead>\n",
       "    <tr style=\"text-align: right;\">\n",
       "      <th></th>\n",
       "      <th>ViolationID</th>\n",
       "      <th>BuildingID</th>\n",
       "      <th>RegistrationID</th>\n",
       "      <th>BoroID</th>\n",
       "      <th>Boro</th>\n",
       "      <th>HouseNumber</th>\n",
       "      <th>LowHouseNumber</th>\n",
       "      <th>HighHouseNumber</th>\n",
       "      <th>StreetName</th>\n",
       "      <th>StreetCode</th>\n",
       "      <th>...</th>\n",
       "      <th>NewCertifyByDate</th>\n",
       "      <th>NewCorrectByDate</th>\n",
       "      <th>CertifiedDate</th>\n",
       "      <th>OrderNumber</th>\n",
       "      <th>NOVID</th>\n",
       "      <th>NOVDescription</th>\n",
       "      <th>NOVIssuedDate</th>\n",
       "      <th>CurrentStatusID</th>\n",
       "      <th>CurrentStatus</th>\n",
       "      <th>CurrentStatusDate</th>\n",
       "    </tr>\n",
       "  </thead>\n",
       "  <tbody>\n",
       "    <tr>\n",
       "      <th>0</th>\n",
       "      <td>10304176</td>\n",
       "      <td>45567</td>\n",
       "      <td>202840</td>\n",
       "      <td>2</td>\n",
       "      <td>BRONX</td>\n",
       "      <td>1905</td>\n",
       "      <td>1905</td>\n",
       "      <td>1905</td>\n",
       "      <td>ANDREWS AVENUE SOUTH</td>\n",
       "      <td>8820</td>\n",
       "      <td>...</td>\n",
       "      <td>NaN</td>\n",
       "      <td>NaN</td>\n",
       "      <td>NaN</td>\n",
       "      <td>508</td>\n",
       "      <td>4873659</td>\n",
       "      <td>Â§ 27-2005 ADM CODE REPAIR THE BROKEN OR DEFEC...</td>\n",
       "      <td>07/14/2014</td>\n",
       "      <td>19</td>\n",
       "      <td>VIOLATION CLOSED</td>\n",
       "      <td>08/01/2014</td>\n",
       "    </tr>\n",
       "    <tr>\n",
       "      <th>1</th>\n",
       "      <td>10340355</td>\n",
       "      <td>41491</td>\n",
       "      <td>105339</td>\n",
       "      <td>1</td>\n",
       "      <td>MANHATTAN</td>\n",
       "      <td>111</td>\n",
       "      <td>111</td>\n",
       "      <td>115</td>\n",
       "      <td>WEST 141 STREET</td>\n",
       "      <td>36590</td>\n",
       "      <td>...</td>\n",
       "      <td>NaN</td>\n",
       "      <td>NaN</td>\n",
       "      <td>NaN</td>\n",
       "      <td>508</td>\n",
       "      <td>4893132</td>\n",
       "      <td>Â§ 27-2005 ADM CODE REPAIR THE BROKEN OR DEFEC...</td>\n",
       "      <td>08/12/2014</td>\n",
       "      <td>22</td>\n",
       "      <td>FIRST NO ACCESS TO RE- INSPECT VIOLATION</td>\n",
       "      <td>09/18/2015</td>\n",
       "    </tr>\n",
       "    <tr>\n",
       "      <th>2</th>\n",
       "      <td>10337179</td>\n",
       "      <td>27609</td>\n",
       "      <td>107359</td>\n",
       "      <td>1</td>\n",
       "      <td>MANHATTAN</td>\n",
       "      <td>272</td>\n",
       "      <td>272</td>\n",
       "      <td>274</td>\n",
       "      <td>SHERMAN AVENUE</td>\n",
       "      <td>30490</td>\n",
       "      <td>...</td>\n",
       "      <td>NaN</td>\n",
       "      <td>NaN</td>\n",
       "      <td>08/19/2014</td>\n",
       "      <td>508</td>\n",
       "      <td>4891907</td>\n",
       "      <td>Â§ 27-2005 ADM CODE REPAIR THE BROKEN OR DEFEC...</td>\n",
       "      <td>08/11/2014</td>\n",
       "      <td>19</td>\n",
       "      <td>VIOLATION CLOSED</td>\n",
       "      <td>10/30/2014</td>\n",
       "    </tr>\n",
       "  </tbody>\n",
       "</table>\n",
       "<p>3 rows × 30 columns</p>\n",
       "</div>"
      ],
      "text/plain": [
       "   ViolationID  BuildingID  RegistrationID  BoroID       Boro HouseNumber  \\\n",
       "0     10304176       45567          202840       2      BRONX        1905   \n",
       "1     10340355       41491          105339       1  MANHATTAN         111   \n",
       "2     10337179       27609          107359       1  MANHATTAN         272   \n",
       "\n",
       "  LowHouseNumber HighHouseNumber            StreetName  StreetCode  \\\n",
       "0           1905            1905  ANDREWS AVENUE SOUTH        8820   \n",
       "1            111             115       WEST 141 STREET       36590   \n",
       "2            272             274        SHERMAN AVENUE       30490   \n",
       "\n",
       "         ...         NewCertifyByDate NewCorrectByDate CertifiedDate  \\\n",
       "0        ...                      NaN              NaN           NaN   \n",
       "1        ...                      NaN              NaN           NaN   \n",
       "2        ...                      NaN              NaN    08/19/2014   \n",
       "\n",
       "   OrderNumber    NOVID                                     NOVDescription  \\\n",
       "0          508  4873659  Â§ 27-2005 ADM CODE REPAIR THE BROKEN OR DEFEC...   \n",
       "1          508  4893132  Â§ 27-2005 ADM CODE REPAIR THE BROKEN OR DEFEC...   \n",
       "2          508  4891907  Â§ 27-2005 ADM CODE REPAIR THE BROKEN OR DEFEC...   \n",
       "\n",
       "  NOVIssuedDate CurrentStatusID                             CurrentStatus  \\\n",
       "0    07/14/2014              19                          VIOLATION CLOSED   \n",
       "1    08/12/2014              22  FIRST NO ACCESS TO RE- INSPECT VIOLATION   \n",
       "2    08/11/2014              19                          VIOLATION CLOSED   \n",
       "\n",
       "  CurrentStatusDate  \n",
       "0        08/01/2014  \n",
       "1        09/18/2015  \n",
       "2        10/30/2014  \n",
       "\n",
       "[3 rows x 30 columns]"
      ]
     },
     "execution_count": 2,
     "metadata": {},
     "output_type": "execute_result"
    }
   ],
   "source": [
    "import pandas as pd\n",
    "import numpy as np\n",
    "import re\n",
    "\n",
    "### \n",
    "\n",
    "def get_complaint_data():\n",
    "    query = (\"https://data.cityofnewyork.us/api/views/wvxf-dwi5/rows.csv?accessType=DOWNLOAD\")\n",
    "    violations = pd.read_csv(query)\n",
    "    return violations\n",
    "            \n",
    "violations = get_complaint_data()\n",
    "violations.head(3)"
   ]
  },
  {
   "cell_type": "code",
   "execution_count": 3,
   "metadata": {
    "collapsed": false
   },
   "outputs": [
    {
     "name": "stdout",
     "output_type": "stream",
     "text": [
      "(1131841, 30)\n",
      "(1131841, 5)\n"
     ]
    }
   ],
   "source": [
    "print violations.shape\n",
    "violations = violations[['BoroID', 'Block', 'Lot', 'Class', 'ApprovedDate']]\n",
    "print violations.shape"
   ]
  },
  {
   "cell_type": "code",
   "execution_count": 4,
   "metadata": {
    "collapsed": false
   },
   "outputs": [
    {
     "name": "stdout",
     "output_type": "stream",
     "text": [
      "(1131841, 5)\n",
      "(1131841, 5)\n",
      "(1131841, 5)\n",
      "(1016271, 5)\n"
     ]
    }
   ],
   "source": [
    "print violations.shape\n",
    "violations = violations[~(violations.isnull().any(axis=1))]\n",
    "print violations.shape\n",
    "violations = violations[violations.BoroID.isin(range(1,6))]\n",
    "print violations.shape\n",
    "violations = violations[violations.Class.isin(['A','B','C'])]\n",
    "print violations.shape"
   ]
  },
  {
   "cell_type": "code",
   "execution_count": 5,
   "metadata": {
    "collapsed": false
   },
   "outputs": [
    {
     "name": "stdout",
     "output_type": "stream",
     "text": [
      "datetime64[ns]\n"
     ]
    }
   ],
   "source": [
    "violations.ApprovedDate = pd.to_datetime(violations.ApprovedDate)\n",
    "print violations.ApprovedDate.dtype"
   ]
  },
  {
   "cell_type": "code",
   "execution_count": 6,
   "metadata": {
    "collapsed": false
   },
   "outputs": [
    {
     "name": "stdout",
     "output_type": "stream",
     "text": [
      "(548802, 5)\n"
     ]
    }
   ],
   "source": [
    "start = pd.datetime(2009,11,1)\n",
    "end = pd.datetime(2014,10,31)\n",
    "allowed_date_range_violation_approval = pd.date_range(start, end, freq='D')\n",
    "violations = violations[(violations['ApprovedDate'].isin(allowed_date_range_violation_approval))]\n",
    "print violations.shape"
   ]
  },
  {
   "cell_type": "code",
   "execution_count": 7,
   "metadata": {
    "collapsed": false
   },
   "outputs": [
    {
     "data": {
      "text/html": [
       "<div>\n",
       "<table border=\"1\" class=\"dataframe\">\n",
       "  <thead>\n",
       "    <tr style=\"text-align: right;\">\n",
       "      <th></th>\n",
       "      <th>BoroID</th>\n",
       "      <th>Block</th>\n",
       "      <th>Lot</th>\n",
       "      <th>Class</th>\n",
       "      <th>ApprovedDate</th>\n",
       "      <th>BBL</th>\n",
       "    </tr>\n",
       "  </thead>\n",
       "  <tbody>\n",
       "    <tr>\n",
       "      <th>0</th>\n",
       "      <td>2</td>\n",
       "      <td>3221</td>\n",
       "      <td>90</td>\n",
       "      <td>C</td>\n",
       "      <td>2014-07-11</td>\n",
       "      <td>2032210090</td>\n",
       "    </tr>\n",
       "    <tr>\n",
       "      <th>1</th>\n",
       "      <td>1</td>\n",
       "      <td>2010</td>\n",
       "      <td>21</td>\n",
       "      <td>B</td>\n",
       "      <td>2014-08-11</td>\n",
       "      <td>1020100021</td>\n",
       "    </tr>\n",
       "    <tr>\n",
       "      <th>2</th>\n",
       "      <td>1</td>\n",
       "      <td>2228</td>\n",
       "      <td>42</td>\n",
       "      <td>B</td>\n",
       "      <td>2014-08-08</td>\n",
       "      <td>1022280042</td>\n",
       "    </tr>\n",
       "    <tr>\n",
       "      <th>3</th>\n",
       "      <td>1</td>\n",
       "      <td>2153</td>\n",
       "      <td>36</td>\n",
       "      <td>A</td>\n",
       "      <td>2013-03-18</td>\n",
       "      <td>1021530036</td>\n",
       "    </tr>\n",
       "    <tr>\n",
       "      <th>4</th>\n",
       "      <td>3</td>\n",
       "      <td>1419</td>\n",
       "      <td>6</td>\n",
       "      <td>B</td>\n",
       "      <td>2014-08-28</td>\n",
       "      <td>3014190006</td>\n",
       "    </tr>\n",
       "  </tbody>\n",
       "</table>\n",
       "</div>"
      ],
      "text/plain": [
       "   BoroID  Block  Lot Class ApprovedDate         BBL\n",
       "0       2   3221   90     C   2014-07-11  2032210090\n",
       "1       1   2010   21     B   2014-08-11  1020100021\n",
       "2       1   2228   42     B   2014-08-08  1022280042\n",
       "3       1   2153   36     A   2013-03-18  1021530036\n",
       "4       3   1419    6     B   2014-08-28  3014190006"
      ]
     },
     "execution_count": 7,
     "metadata": {},
     "output_type": "execute_result"
    }
   ],
   "source": [
    "def make_BBL(borough, block, lot): \n",
    "    '''\n",
    "    The borough code is one numeric digit. \n",
    "    The tax block is one to five numeric digits, preceded with leading zeroswhen the block is less than five digits.\n",
    "    The tax lot is one to four digits and is preceded with leading zeros when the lot is less than four digits.\n",
    "    \n",
    "    >>> make_BBL(1,16,100)\n",
    "    1000160100\n",
    "    >>> make_BBL(3,15828,7501)\n",
    "    3158287501\n",
    "    '''\n",
    "    return int(str(borough) + str(block).zfill(5) + str(lot).zfill(4))\n",
    "    \n",
    "violations['BBL'] = map(make_BBL, violations['BoroID'], violations['Block'], violations['Lot'])\n",
    "violations.head(5)"
   ]
  },
  {
   "cell_type": "code",
   "execution_count": 8,
   "metadata": {
    "collapsed": false
   },
   "outputs": [
    {
     "data": {
      "text/html": [
       "<div>\n",
       "<table border=\"1\" class=\"dataframe\">\n",
       "  <thead>\n",
       "    <tr style=\"text-align: right;\">\n",
       "      <th></th>\n",
       "      <th>Class</th>\n",
       "      <th>ApprovedDate</th>\n",
       "      <th>BBL</th>\n",
       "    </tr>\n",
       "  </thead>\n",
       "  <tbody>\n",
       "    <tr>\n",
       "      <th>0</th>\n",
       "      <td>C</td>\n",
       "      <td>2014-07-11</td>\n",
       "      <td>2032210090</td>\n",
       "    </tr>\n",
       "    <tr>\n",
       "      <th>1</th>\n",
       "      <td>B</td>\n",
       "      <td>2014-08-11</td>\n",
       "      <td>1020100021</td>\n",
       "    </tr>\n",
       "    <tr>\n",
       "      <th>2</th>\n",
       "      <td>B</td>\n",
       "      <td>2014-08-08</td>\n",
       "      <td>1022280042</td>\n",
       "    </tr>\n",
       "    <tr>\n",
       "      <th>3</th>\n",
       "      <td>A</td>\n",
       "      <td>2013-03-18</td>\n",
       "      <td>1021530036</td>\n",
       "    </tr>\n",
       "    <tr>\n",
       "      <th>4</th>\n",
       "      <td>B</td>\n",
       "      <td>2014-08-28</td>\n",
       "      <td>3014190006</td>\n",
       "    </tr>\n",
       "  </tbody>\n",
       "</table>\n",
       "</div>"
      ],
      "text/plain": [
       "  Class ApprovedDate         BBL\n",
       "0     C   2014-07-11  2032210090\n",
       "1     B   2014-08-11  1020100021\n",
       "2     B   2014-08-08  1022280042\n",
       "3     A   2013-03-18  1021530036\n",
       "4     B   2014-08-28  3014190006"
      ]
     },
     "execution_count": 8,
     "metadata": {},
     "output_type": "execute_result"
    }
   ],
   "source": [
    "violations = violations.drop(['BoroID','Block','Lot'],axis=1)\n",
    "violations.head(5)"
   ]
  },
  {
   "cell_type": "code",
   "execution_count": 17,
   "metadata": {
    "collapsed": false
   },
   "outputs": [
    {
     "data": {
      "text/html": [
       "<div>\n",
       "<table border=\"1\" class=\"dataframe\">\n",
       "  <thead>\n",
       "    <tr style=\"text-align: right;\">\n",
       "      <th></th>\n",
       "      <th>Tot_A_violations</th>\n",
       "      <th>Tot_B_violations</th>\n",
       "      <th>Tot_C_violations</th>\n",
       "      <th>BBL</th>\n",
       "    </tr>\n",
       "  </thead>\n",
       "  <tbody>\n",
       "    <tr>\n",
       "      <th>0</th>\n",
       "      <td>0</td>\n",
       "      <td>0</td>\n",
       "      <td>1</td>\n",
       "      <td>1000157501</td>\n",
       "    </tr>\n",
       "    <tr>\n",
       "      <th>1</th>\n",
       "      <td>1</td>\n",
       "      <td>14</td>\n",
       "      <td>2</td>\n",
       "      <td>1000160100</td>\n",
       "    </tr>\n",
       "    <tr>\n",
       "      <th>2</th>\n",
       "      <td>0</td>\n",
       "      <td>0</td>\n",
       "      <td>1</td>\n",
       "      <td>1000167508</td>\n",
       "    </tr>\n",
       "    <tr>\n",
       "      <th>3</th>\n",
       "      <td>1</td>\n",
       "      <td>4</td>\n",
       "      <td>0</td>\n",
       "      <td>1000167515</td>\n",
       "    </tr>\n",
       "    <tr>\n",
       "      <th>4</th>\n",
       "      <td>2</td>\n",
       "      <td>5</td>\n",
       "      <td>0</td>\n",
       "      <td>1000167516</td>\n",
       "    </tr>\n",
       "    <tr>\n",
       "      <th>5</th>\n",
       "      <td>1</td>\n",
       "      <td>0</td>\n",
       "      <td>0</td>\n",
       "      <td>1000310001</td>\n",
       "    </tr>\n",
       "    <tr>\n",
       "      <th>6</th>\n",
       "      <td>0</td>\n",
       "      <td>0</td>\n",
       "      <td>1</td>\n",
       "      <td>1000317501</td>\n",
       "    </tr>\n",
       "    <tr>\n",
       "      <th>7</th>\n",
       "      <td>1</td>\n",
       "      <td>3</td>\n",
       "      <td>0</td>\n",
       "      <td>1000330011</td>\n",
       "    </tr>\n",
       "    <tr>\n",
       "      <th>8</th>\n",
       "      <td>0</td>\n",
       "      <td>0</td>\n",
       "      <td>1</td>\n",
       "      <td>1000420022</td>\n",
       "    </tr>\n",
       "    <tr>\n",
       "      <th>9</th>\n",
       "      <td>1</td>\n",
       "      <td>7</td>\n",
       "      <td>3</td>\n",
       "      <td>1000530033</td>\n",
       "    </tr>\n",
       "  </tbody>\n",
       "</table>\n",
       "</div>"
      ],
      "text/plain": [
       "   Tot_A_violations  Tot_B_violations  Tot_C_violations         BBL\n",
       "0                 0                 0                 1  1000157501\n",
       "1                 1                14                 2  1000160100\n",
       "2                 0                 0                 1  1000167508\n",
       "3                 1                 4                 0  1000167515\n",
       "4                 2                 5                 0  1000167516\n",
       "5                 1                 0                 0  1000310001\n",
       "6                 0                 0                 1  1000317501\n",
       "7                 1                 3                 0  1000330011\n",
       "8                 0                 0                 1  1000420022\n",
       "9                 1                 7                 3  1000530033"
      ]
     },
     "execution_count": 17,
     "metadata": {},
     "output_type": "execute_result"
    }
   ],
   "source": [
    "grouped_by_BBL = violations.groupby(['BBL','Class']).size().reset_index() \n",
    "grouped_by_BBL.columns = ['BBL','Class','Count']\n",
    "grouped_by_BBL = grouped_by_BBL.pivot('BBL','Class','Count')\n",
    "grouped_by_BBL = grouped_by_BBL.fillna(0)\n",
    "grouped_by_BBL['BBL'] = grouped_by_BBL.index\n",
    "grouped_by_BBL = grouped_by_BBL.reset_index(drop=True)\n",
    "grouped_by_BBL.columns = ['Tot_A_violations','Tot_B_violations','Tot_C_violations','BBL']\n",
    "grouped_by_BBL.head(10)"
   ]
  },
  {
   "cell_type": "code",
   "execution_count": 19,
   "metadata": {
    "collapsed": false
   },
   "outputs": [
    {
     "name": "stdout",
     "output_type": "stream",
     "text": [
      "(32636, 4)\n"
     ]
    }
   ],
   "source": [
    "print grouped_by_BBL.shape"
   ]
  }
 ],
 "metadata": {
  "kernelspec": {
   "display_name": "Python 2",
   "language": "python",
   "name": "python2"
  },
  "language_info": {
   "codemirror_mode": {
    "name": "ipython",
    "version": 2
   },
   "file_extension": ".py",
   "mimetype": "text/x-python",
   "name": "python",
   "nbconvert_exporter": "python",
   "pygments_lexer": "ipython2",
   "version": "2.7.10"
  }
 },
 "nbformat": 4,
 "nbformat_minor": 0
}
