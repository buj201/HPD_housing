{
 "cells": [
  {
   "cell_type": "markdown",
   "metadata": {},
   "source": [
    "# Getting and cleaning housing maintenance code complaint data"
   ]
  },
  {
   "cell_type": "markdown",
   "metadata": {},
   "source": [
    "To get and clean the housing maintenance code complaints data we will:\n",
    "1. Read in housing maintenance code complaints dataset (HMCC).\n",
    "2. Drop all features except\n",
    " - ComplaintID\n",
    " - BoroughID\n",
    " - Block\n",
    " - Lot\n",
    " - ReceivedDate\n",
    "3. Convert ReceivedDateto pd.datetime\n",
    "4. Drop all rows with pd.datetime before April 1st, 2015\n",
    "5. Drop all rows with missing values and with Borough not in range(1,6)\n",
    "6. Construct the BBL using the Borough, block, and lot features in the housing \n",
    "7. Drop block and lot"
   ]
  },
  {
   "cell_type": "code",
   "execution_count": 3,
   "metadata": {
    "collapsed": false
   },
   "outputs": [
    {
     "data": {
      "text/html": [
       "<div>\n",
       "<table border=\"1\" class=\"dataframe\">\n",
       "  <thead>\n",
       "    <tr style=\"text-align: right;\">\n",
       "      <th></th>\n",
       "      <th>ComplaintID</th>\n",
       "      <th>BuildingID</th>\n",
       "      <th>BoroughID</th>\n",
       "      <th>Borough</th>\n",
       "      <th>HouseNumber</th>\n",
       "      <th>StreetName</th>\n",
       "      <th>Zip</th>\n",
       "      <th>Block</th>\n",
       "      <th>Lot</th>\n",
       "      <th>Apartment</th>\n",
       "      <th>CommunityBoard</th>\n",
       "      <th>ReceivedDate</th>\n",
       "      <th>StatusID</th>\n",
       "      <th>Status</th>\n",
       "      <th>StatusDate</th>\n",
       "    </tr>\n",
       "  </thead>\n",
       "  <tbody>\n",
       "    <tr>\n",
       "      <th>0</th>\n",
       "      <td>6960137</td>\n",
       "      <td>3418</td>\n",
       "      <td>1</td>\n",
       "      <td>MANHATTAN</td>\n",
       "      <td>1989</td>\n",
       "      <td>ADAM C POWELL BOULEVARD</td>\n",
       "      <td>10026</td>\n",
       "      <td>1904</td>\n",
       "      <td>4</td>\n",
       "      <td>12D</td>\n",
       "      <td>10</td>\n",
       "      <td>07/07/2014</td>\n",
       "      <td>2</td>\n",
       "      <td>CLOSE</td>\n",
       "      <td>07/29/2014</td>\n",
       "    </tr>\n",
       "    <tr>\n",
       "      <th>1</th>\n",
       "      <td>6960832</td>\n",
       "      <td>3512</td>\n",
       "      <td>1</td>\n",
       "      <td>MANHATTAN</td>\n",
       "      <td>2267</td>\n",
       "      <td>ADAM C POWELL BOULEVARD</td>\n",
       "      <td>10030</td>\n",
       "      <td>1918</td>\n",
       "      <td>4</td>\n",
       "      <td>3B</td>\n",
       "      <td>10</td>\n",
       "      <td>07/08/2014</td>\n",
       "      <td>2</td>\n",
       "      <td>CLOSE</td>\n",
       "      <td>07/12/2014</td>\n",
       "    </tr>\n",
       "    <tr>\n",
       "      <th>2</th>\n",
       "      <td>6946867</td>\n",
       "      <td>5318</td>\n",
       "      <td>1</td>\n",
       "      <td>MANHATTAN</td>\n",
       "      <td>778</td>\n",
       "      <td>11 AVENUE</td>\n",
       "      <td>10019</td>\n",
       "      <td>1083</td>\n",
       "      <td>1</td>\n",
       "      <td>4P</td>\n",
       "      <td>4</td>\n",
       "      <td>06/19/2014</td>\n",
       "      <td>2</td>\n",
       "      <td>CLOSE</td>\n",
       "      <td>07/13/2014</td>\n",
       "    </tr>\n",
       "  </tbody>\n",
       "</table>\n",
       "</div>"
      ],
      "text/plain": [
       "   ComplaintID  BuildingID  BoroughID    Borough HouseNumber  \\\n",
       "0      6960137        3418          1  MANHATTAN        1989   \n",
       "1      6960832        3512          1  MANHATTAN        2267   \n",
       "2      6946867        5318          1  MANHATTAN         778   \n",
       "\n",
       "                StreetName    Zip  Block  Lot Apartment  CommunityBoard  \\\n",
       "0  ADAM C POWELL BOULEVARD  10026   1904    4       12D              10   \n",
       "1  ADAM C POWELL BOULEVARD  10030   1918    4        3B              10   \n",
       "2                11 AVENUE  10019   1083    1        4P               4   \n",
       "\n",
       "  ReceivedDate  StatusID Status  StatusDate  \n",
       "0   07/07/2014         2  CLOSE  07/29/2014  \n",
       "1   07/08/2014         2  CLOSE  07/12/2014  \n",
       "2   06/19/2014         2  CLOSE  07/13/2014  "
      ]
     },
     "execution_count": 3,
     "metadata": {},
     "output_type": "execute_result"
    }
   ],
   "source": [
    "import pandas as pd\n",
    "import numpy as np\n",
    "import re\n",
    "\n",
    "### \n",
    "\n",
    "def get_complaint_data():\n",
    "    query = (\"https://data.cityofnewyork.us/api/views/uwyv-629c/rows.csv?accessType=DOWNLOAD\")\n",
    "    complaints = pd.read_csv(query)\n",
    "    return complaints\n",
    "            \n",
    "complaints = get_complaint_data()\n",
    "complaints.head(3)"
   ]
  },
  {
   "cell_type": "code",
   "execution_count": 5,
   "metadata": {
    "collapsed": false
   },
   "outputs": [
    {
     "name": "stdout",
     "output_type": "stream",
     "text": [
      "(474746, 15)\n",
      "(474746, 5)\n"
     ]
    }
   ],
   "source": [
    "print complaints.shape\n",
    "complaints = complaints.drop(['BuildingID','Borough','HouseNumber','StreetName','Zip','Apartment','CommunityBoard','StatusID','Status','StatusDate'],axis=1)\n",
    "print complaints.shape"
   ]
  },
  {
   "cell_type": "code",
   "execution_count": 6,
   "metadata": {
    "collapsed": false
   },
   "outputs": [
    {
     "data": {
      "text/html": [
       "<div>\n",
       "<table border=\"1\" class=\"dataframe\">\n",
       "  <thead>\n",
       "    <tr style=\"text-align: right;\">\n",
       "      <th></th>\n",
       "      <th>ComplaintID</th>\n",
       "      <th>BoroughID</th>\n",
       "      <th>Block</th>\n",
       "      <th>Lot</th>\n",
       "      <th>ReceivedDate</th>\n",
       "    </tr>\n",
       "  </thead>\n",
       "  <tbody>\n",
       "    <tr>\n",
       "      <th>0</th>\n",
       "      <td>6960137</td>\n",
       "      <td>1</td>\n",
       "      <td>1904</td>\n",
       "      <td>4</td>\n",
       "      <td>07/07/2014</td>\n",
       "    </tr>\n",
       "    <tr>\n",
       "      <th>1</th>\n",
       "      <td>6960832</td>\n",
       "      <td>1</td>\n",
       "      <td>1918</td>\n",
       "      <td>4</td>\n",
       "      <td>07/08/2014</td>\n",
       "    </tr>\n",
       "    <tr>\n",
       "      <th>2</th>\n",
       "      <td>6946867</td>\n",
       "      <td>1</td>\n",
       "      <td>1083</td>\n",
       "      <td>1</td>\n",
       "      <td>06/19/2014</td>\n",
       "    </tr>\n",
       "  </tbody>\n",
       "</table>\n",
       "</div>"
      ],
      "text/plain": [
       "   ComplaintID  BoroughID  Block  Lot ReceivedDate\n",
       "0      6960137          1   1904    4   07/07/2014\n",
       "1      6960832          1   1918    4   07/08/2014\n",
       "2      6946867          1   1083    1   06/19/2014"
      ]
     },
     "execution_count": 6,
     "metadata": {},
     "output_type": "execute_result"
    }
   ],
   "source": [
    "complaints.head(3)"
   ]
  },
  {
   "cell_type": "code",
   "execution_count": 7,
   "metadata": {
    "collapsed": false
   },
   "outputs": [
    {
     "name": "stdout",
     "output_type": "stream",
     "text": [
      "datetime64[ns]\n"
     ]
    }
   ],
   "source": [
    "complaints.ReceivedDate = pd.to_datetime(complaints.ReceivedDate)\n",
    "print complaints.ReceivedDate.dtype"
   ]
  },
  {
   "cell_type": "code",
   "execution_count": 8,
   "metadata": {
    "collapsed": false
   },
   "outputs": [
    {
     "name": "stdout",
     "output_type": "stream",
     "text": [
      "(474746, 5)\n",
      "(474746, 5)\n",
      "(474746, 5)\n"
     ]
    }
   ],
   "source": [
    "print complaints.shape\n",
    "complaints = complaints[~(complaints.isnull().any(axis=1))]\n",
    "print complaints.shape\n",
    "complaints = complaints[complaints.BoroughID.isin(range(1,6))]\n",
    "print complaints.shape"
   ]
  },
  {
   "cell_type": "code",
   "execution_count": 9,
   "metadata": {
    "collapsed": false
   },
   "outputs": [
    {
     "name": "stdout",
     "output_type": "stream",
     "text": [
      "DatetimeIndex(['2014-11-01', '2014-11-02', '2014-11-03', '2014-11-04',\n",
      "               '2014-11-05', '2014-11-06', '2014-11-07', '2014-11-08',\n",
      "               '2014-11-09', '2014-11-10', \n",
      "               ...\n",
      "               '2015-10-22', '2015-10-23', '2015-10-24', '2015-10-25',\n",
      "               '2015-10-26', '2015-10-27', '2015-10-28', '2015-10-29',\n",
      "               '2015-10-30', '2015-10-31'],\n",
      "              dtype='datetime64[ns]', length=365, freq='D', tz=None)\n",
      "(394775, 5)\n"
     ]
    }
   ],
   "source": [
    "start = pd.datetime(2014,11,1)\n",
    "end = pd.datetime(2015,10,31)\n",
    "allowed_date_range = pd.date_range(start, end, freq='D')\n",
    "print allowed_date_range\n",
    "complaints = complaints[(complaints['ReceivedDate'].isin(allowed_date_range))]\n",
    "print complaints.shape"
   ]
  },
  {
   "cell_type": "code",
   "execution_count": 10,
   "metadata": {
    "collapsed": false
   },
   "outputs": [
    {
     "data": {
      "text/html": [
       "<div>\n",
       "<table border=\"1\" class=\"dataframe\">\n",
       "  <thead>\n",
       "    <tr style=\"text-align: right;\">\n",
       "      <th></th>\n",
       "      <th>ComplaintID</th>\n",
       "      <th>BoroughID</th>\n",
       "      <th>Block</th>\n",
       "      <th>Lot</th>\n",
       "      <th>ReceivedDate</th>\n",
       "      <th>BBL</th>\n",
       "    </tr>\n",
       "  </thead>\n",
       "  <tbody>\n",
       "    <tr>\n",
       "      <th>79034</th>\n",
       "      <td>7085199</td>\n",
       "      <td>1</td>\n",
       "      <td>1788</td>\n",
       "      <td>22</td>\n",
       "      <td>2014-11-07</td>\n",
       "      <td>1017880022</td>\n",
       "    </tr>\n",
       "    <tr>\n",
       "      <th>79035</th>\n",
       "      <td>7075907</td>\n",
       "      <td>1</td>\n",
       "      <td>1901</td>\n",
       "      <td>1</td>\n",
       "      <td>2014-11-02</td>\n",
       "      <td>1019010001</td>\n",
       "    </tr>\n",
       "    <tr>\n",
       "      <th>79036</th>\n",
       "      <td>7080436</td>\n",
       "      <td>1</td>\n",
       "      <td>2034</td>\n",
       "      <td>34</td>\n",
       "      <td>2014-11-05</td>\n",
       "      <td>1020340034</td>\n",
       "    </tr>\n",
       "    <tr>\n",
       "      <th>79037</th>\n",
       "      <td>7131077</td>\n",
       "      <td>1</td>\n",
       "      <td>2046</td>\n",
       "      <td>63</td>\n",
       "      <td>2014-11-29</td>\n",
       "      <td>1020460063</td>\n",
       "    </tr>\n",
       "    <tr>\n",
       "      <th>79038</th>\n",
       "      <td>7124360</td>\n",
       "      <td>1</td>\n",
       "      <td>1060</td>\n",
       "      <td>36</td>\n",
       "      <td>2014-11-25</td>\n",
       "      <td>1010600036</td>\n",
       "    </tr>\n",
       "  </tbody>\n",
       "</table>\n",
       "</div>"
      ],
      "text/plain": [
       "       ComplaintID  BoroughID  Block  Lot ReceivedDate         BBL\n",
       "79034      7085199          1   1788   22   2014-11-07  1017880022\n",
       "79035      7075907          1   1901    1   2014-11-02  1019010001\n",
       "79036      7080436          1   2034   34   2014-11-05  1020340034\n",
       "79037      7131077          1   2046   63   2014-11-29  1020460063\n",
       "79038      7124360          1   1060   36   2014-11-25  1010600036"
      ]
     },
     "execution_count": 10,
     "metadata": {},
     "output_type": "execute_result"
    }
   ],
   "source": [
    "def make_BBL(borough, block, lot): \n",
    "    '''\n",
    "    The borough code is one numeric digit. \n",
    "    The tax block is one to five numeric digits, preceded with leading zeroswhen the block is less than five digits.\n",
    "    The tax lot is one to four digits and is preceded with leading zeros when the lot is less than four digits.\n",
    "    \n",
    "    >>> make_BBL(1,16,100)\n",
    "    1000160100\n",
    "    >>> make_BBL(3,15828,7501)\n",
    "    3158287501\n",
    "    '''\n",
    "    return int(str(borough) + str(block).zfill(5) + str(lot).zfill(4))\n",
    "    \n",
    "complaints['BBL'] = map(make_BBL, complaints['BoroughID'], complaints['Block'], complaints['Lot'])\n",
    "complaints.head(5)"
   ]
  },
  {
   "cell_type": "code",
   "execution_count": 11,
   "metadata": {
    "collapsed": false
   },
   "outputs": [
    {
     "data": {
      "text/html": [
       "<div>\n",
       "<table border=\"1\" class=\"dataframe\">\n",
       "  <thead>\n",
       "    <tr style=\"text-align: right;\">\n",
       "      <th></th>\n",
       "      <th>ComplaintID</th>\n",
       "      <th>BoroughID</th>\n",
       "      <th>ReceivedDate</th>\n",
       "      <th>BBL</th>\n",
       "    </tr>\n",
       "  </thead>\n",
       "  <tbody>\n",
       "    <tr>\n",
       "      <th>79034</th>\n",
       "      <td>7085199</td>\n",
       "      <td>1</td>\n",
       "      <td>2014-11-07</td>\n",
       "      <td>1017880022</td>\n",
       "    </tr>\n",
       "    <tr>\n",
       "      <th>79035</th>\n",
       "      <td>7075907</td>\n",
       "      <td>1</td>\n",
       "      <td>2014-11-02</td>\n",
       "      <td>1019010001</td>\n",
       "    </tr>\n",
       "    <tr>\n",
       "      <th>79036</th>\n",
       "      <td>7080436</td>\n",
       "      <td>1</td>\n",
       "      <td>2014-11-05</td>\n",
       "      <td>1020340034</td>\n",
       "    </tr>\n",
       "  </tbody>\n",
       "</table>\n",
       "</div>"
      ],
      "text/plain": [
       "       ComplaintID  BoroughID ReceivedDate         BBL\n",
       "79034      7085199          1   2014-11-07  1017880022\n",
       "79035      7075907          1   2014-11-02  1019010001\n",
       "79036      7080436          1   2014-11-05  1020340034"
      ]
     },
     "execution_count": 11,
     "metadata": {},
     "output_type": "execute_result"
    }
   ],
   "source": [
    "complaints = complaints.drop(['Block','Lot'], axis=1)\n",
    "complaints.head(3)"
   ]
  },
  {
   "cell_type": "markdown",
   "metadata": {},
   "source": [
    "To recap- we now have a filtered dataset of all completed complaints received after April 1st, 2015, including ComplaintID's, validated BoroughId. and 10-digit BBLs. This will be:\n",
    "1. Merged with the processed complaint problems dataset, using ComplaintID as a key.\n",
    "2. Merged with the processed violation dataset, using constructed BBLs as keys.\n",
    "3. Merged with processed PLUTO sub-dataset using BBL as a key."
   ]
  }
 ],
 "metadata": {
  "kernelspec": {
   "display_name": "Python 2",
   "language": "python",
   "name": "python2"
  },
  "language_info": {
   "codemirror_mode": {
    "name": "ipython",
    "version": 2
   },
   "file_extension": ".py",
   "mimetype": "text/x-python",
   "name": "python",
   "nbconvert_exporter": "python",
   "pygments_lexer": "ipython2",
   "version": "2.7.10"
  }
 },
 "nbformat": 4,
 "nbformat_minor": 0
}
