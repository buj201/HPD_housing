{
 "cells": [
  {
   "cell_type": "markdown",
   "metadata": {},
   "source": [
    "# Getting features from NYC PLUTO"
   ]
  },
  {
   "cell_type": "markdown",
   "metadata": {},
   "source": [
    "In this notebook, we will get and clean the NYC PLUTO Data. First, we extract relevant features from the NYC Pluto datasets. Specific features to be extracted include:\n",
    "- Residential Units (sum of residential units in all buildings on the tax lot)\n",
    "- Assessed Total Value (actual assessed total value for FY2015)\n",
    "- Year Built (year construction of the building was completed)\n",
    "- Year Altered 1 (if only one alteration then the year of the most recent alteration; otherwise the year of the second most recent alteration)\n",
    "- Year Altered 2 (if more than one alteration then the year of the most recent alteration otherwise blank).\n",
    "- BBL\n",
    "- Census Tract (CT2010)"
   ]
  },
  {
   "cell_type": "code",
   "execution_count": 20,
   "metadata": {
    "collapsed": false
   },
   "outputs": [],
   "source": [
    "import pandas as pd\n",
    "import re\n",
    "\n",
    "### Read data in from downloaded csv file\n",
    "\n",
    "def read_in_pluto_data():\n",
    "    boroughs = {'bronx':'BX.csv', 'brooklyn':'BK.csv', 'Manhattan':'Mn.csv', 'Queens':'QN.csv', \"Staten_island\":'SI.csv'}\n",
    "    frames = []\n",
    "    for borough in boroughs.keys():\n",
    "        df_name = borough + '_pluto'\n",
    "        file_path = '../../data/nyc_pluto_15v1/' + boroughs[borough]\n",
    "        df_name = pd.read_csv(file_path)\n",
    "        df_name = df_name[['UnitsRes','AssessTot','YearBuilt','YearAlter1','YearAlter2','BBL', 'CT2010']]\n",
    "        df_name = df_name[(df_name['UnitsRes'] != 0)]\n",
    "        frames.append(df_name)\n",
    "    result = pd.concat(frames, ignore_index=True)\n",
    "    return result\n",
    "\n",
    "pluto_dat = read_in_pluto_data()"
   ]
  },
  {
   "cell_type": "code",
   "execution_count": 21,
   "metadata": {
    "collapsed": false
   },
   "outputs": [
    {
     "data": {
      "text/html": [
       "<div>\n",
       "<table border=\"1\" class=\"dataframe\">\n",
       "  <thead>\n",
       "    <tr style=\"text-align: right;\">\n",
       "      <th></th>\n",
       "      <th>UnitsRes</th>\n",
       "      <th>AssessTot</th>\n",
       "      <th>YearBuilt</th>\n",
       "      <th>YearAlter1</th>\n",
       "      <th>YearAlter2</th>\n",
       "      <th>BBL</th>\n",
       "      <th>CT2010</th>\n",
       "    </tr>\n",
       "  </thead>\n",
       "  <tbody>\n",
       "    <tr>\n",
       "      <th>0</th>\n",
       "      <td>8</td>\n",
       "      <td>104219</td>\n",
       "      <td>1920</td>\n",
       "      <td>2009</td>\n",
       "      <td>0</td>\n",
       "      <td>2022600018</td>\n",
       "      <td>19</td>\n",
       "    </tr>\n",
       "    <tr>\n",
       "      <th>1</th>\n",
       "      <td>8</td>\n",
       "      <td>25876</td>\n",
       "      <td>1920</td>\n",
       "      <td>0</td>\n",
       "      <td>0</td>\n",
       "      <td>2022610037</td>\n",
       "      <td>19</td>\n",
       "    </tr>\n",
       "    <tr>\n",
       "      <th>2</th>\n",
       "      <td>12</td>\n",
       "      <td>347400</td>\n",
       "      <td>1925</td>\n",
       "      <td>0</td>\n",
       "      <td>0</td>\n",
       "      <td>2022610045</td>\n",
       "      <td>19</td>\n",
       "    </tr>\n",
       "    <tr>\n",
       "      <th>3</th>\n",
       "      <td>1255</td>\n",
       "      <td>23375700</td>\n",
       "      <td>1956</td>\n",
       "      <td>0</td>\n",
       "      <td>0</td>\n",
       "      <td>2022630019</td>\n",
       "      <td>25</td>\n",
       "    </tr>\n",
       "    <tr>\n",
       "      <th>4</th>\n",
       "      <td>2</td>\n",
       "      <td>26820</td>\n",
       "      <td>2000</td>\n",
       "      <td>0</td>\n",
       "      <td>0</td>\n",
       "      <td>2022630065</td>\n",
       "      <td>25</td>\n",
       "    </tr>\n",
       "    <tr>\n",
       "      <th>5</th>\n",
       "      <td>2</td>\n",
       "      <td>26820</td>\n",
       "      <td>2000</td>\n",
       "      <td>0</td>\n",
       "      <td>0</td>\n",
       "      <td>2022630066</td>\n",
       "      <td>25</td>\n",
       "    </tr>\n",
       "  </tbody>\n",
       "</table>\n",
       "</div>"
      ],
      "text/plain": [
       "   UnitsRes  AssessTot  YearBuilt  YearAlter1  YearAlter2         BBL CT2010\n",
       "0         8     104219       1920        2009           0  2022600018     19\n",
       "1         8      25876       1920           0           0  2022610037     19\n",
       "2        12     347400       1925           0           0  2022610045     19\n",
       "3      1255   23375700       1956           0           0  2022630019     25\n",
       "4         2      26820       2000           0           0  2022630065     25\n",
       "5         2      26820       2000           0           0  2022630066     25"
      ]
     },
     "execution_count": 21,
     "metadata": {},
     "output_type": "execute_result"
    }
   ],
   "source": [
    "pluto_dat.head(6)"
   ]
  },
  {
   "cell_type": "markdown",
   "metadata": {},
   "source": [
    "In processing the data, our goals it to:\n",
    "- Pad the Ct2010 so it's in the format $d_1d_2d_3d_4d_5d_6$, where $d_5$ and $d_6$ are the decimal portion of the census tract number.\n",
    "- Construct two new features:\n",
    "  - Year of last alteration, defined as $\\max\\{YearAlter1, YearAlter2\\}$.\n",
    "  - Avg_value_per_res_unit, defined as total assessed value per residential unit (constructed as $AssessTot/UnitRes$)\n",
    "- Drop YearAlter1 and YearAlter2.\n",
    "- Drop any rows with missing values"
   ]
  },
  {
   "cell_type": "code",
   "execution_count": 22,
   "metadata": {
    "collapsed": false
   },
   "outputs": [],
   "source": [
    "def proc_tract(val):\n",
    "    val = str(val)\n",
    "    split_val = re.split('\\.',val)\n",
    "    if len(split_val) == 1:\n",
    "        integer = split_val[0].zfill(4)\n",
    "        decimal = '00'\n",
    "    elif len(split_val) == 2:\n",
    "        integer = split_val[0].zfill(4)\n",
    "        decimal = split_val[1].ljust(2, '0')\n",
    "    new_code = integer + decimal\n",
    "    return new_code"
   ]
  },
  {
   "cell_type": "code",
   "execution_count": 23,
   "metadata": {
    "collapsed": false
   },
   "outputs": [
    {
     "data": {
      "text/plain": [
       "(760834, 7)"
      ]
     },
     "execution_count": 23,
     "metadata": {},
     "output_type": "execute_result"
    }
   ],
   "source": [
    "pluto_dat['CT2010'] = pluto_dat['CT2010'].map(proc_tract)\n",
    "pluto_dat['YearLastAlter'] = pluto_dat[['YearAlter1','YearAlter2']].max(axis=1)\n",
    "pluto_dat = pluto_dat.drop(['YearAlter1','YearAlter2'],axis=1)\n",
    "pluto_dat['Avg_value_per_res_unit'] = pluto_dat['AssessTot']/pluto_dat['UnitsRes']\n",
    "pluto_dat.shape"
   ]
  },
  {
   "cell_type": "code",
   "execution_count": 24,
   "metadata": {
    "collapsed": false
   },
   "outputs": [
    {
     "data": {
      "text/plain": [
       "(760833, 7)"
      ]
     },
     "execution_count": 24,
     "metadata": {},
     "output_type": "execute_result"
    }
   ],
   "source": [
    "pluto_dat = pluto_dat[~(pluto_dat.isnull().any(axis=1))]\n",
    "pluto_dat.shape"
   ]
  },
  {
   "cell_type": "code",
   "execution_count": 25,
   "metadata": {
    "collapsed": false
   },
   "outputs": [
    {
     "data": {
      "text/html": [
       "<div>\n",
       "<table border=\"1\" class=\"dataframe\">\n",
       "  <thead>\n",
       "    <tr style=\"text-align: right;\">\n",
       "      <th></th>\n",
       "      <th>UnitsRes</th>\n",
       "      <th>AssessTot</th>\n",
       "      <th>YearBuilt</th>\n",
       "      <th>BBL</th>\n",
       "      <th>CT2010</th>\n",
       "      <th>YearLastAlter</th>\n",
       "      <th>Avg_value_per_res_unit</th>\n",
       "    </tr>\n",
       "  </thead>\n",
       "  <tbody>\n",
       "    <tr>\n",
       "      <th>0</th>\n",
       "      <td>8</td>\n",
       "      <td>104219</td>\n",
       "      <td>1920</td>\n",
       "      <td>2022600018</td>\n",
       "      <td>001900</td>\n",
       "      <td>2009</td>\n",
       "      <td>13027.375000</td>\n",
       "    </tr>\n",
       "    <tr>\n",
       "      <th>1</th>\n",
       "      <td>8</td>\n",
       "      <td>25876</td>\n",
       "      <td>1920</td>\n",
       "      <td>2022610037</td>\n",
       "      <td>001900</td>\n",
       "      <td>0</td>\n",
       "      <td>3234.500000</td>\n",
       "    </tr>\n",
       "    <tr>\n",
       "      <th>2</th>\n",
       "      <td>12</td>\n",
       "      <td>347400</td>\n",
       "      <td>1925</td>\n",
       "      <td>2022610045</td>\n",
       "      <td>001900</td>\n",
       "      <td>0</td>\n",
       "      <td>28950.000000</td>\n",
       "    </tr>\n",
       "    <tr>\n",
       "      <th>3</th>\n",
       "      <td>1255</td>\n",
       "      <td>23375700</td>\n",
       "      <td>1956</td>\n",
       "      <td>2022630019</td>\n",
       "      <td>002500</td>\n",
       "      <td>0</td>\n",
       "      <td>18626.055777</td>\n",
       "    </tr>\n",
       "    <tr>\n",
       "      <th>4</th>\n",
       "      <td>2</td>\n",
       "      <td>26820</td>\n",
       "      <td>2000</td>\n",
       "      <td>2022630065</td>\n",
       "      <td>002500</td>\n",
       "      <td>0</td>\n",
       "      <td>13410.000000</td>\n",
       "    </tr>\n",
       "    <tr>\n",
       "      <th>5</th>\n",
       "      <td>2</td>\n",
       "      <td>26820</td>\n",
       "      <td>2000</td>\n",
       "      <td>2022630066</td>\n",
       "      <td>002500</td>\n",
       "      <td>0</td>\n",
       "      <td>13410.000000</td>\n",
       "    </tr>\n",
       "  </tbody>\n",
       "</table>\n",
       "</div>"
      ],
      "text/plain": [
       "   UnitsRes  AssessTot  YearBuilt         BBL  CT2010  YearLastAlter  \\\n",
       "0         8     104219       1920  2022600018  001900           2009   \n",
       "1         8      25876       1920  2022610037  001900              0   \n",
       "2        12     347400       1925  2022610045  001900              0   \n",
       "3      1255   23375700       1956  2022630019  002500              0   \n",
       "4         2      26820       2000  2022630065  002500              0   \n",
       "5         2      26820       2000  2022630066  002500              0   \n",
       "\n",
       "   Avg_value_per_res_unit  \n",
       "0            13027.375000  \n",
       "1             3234.500000  \n",
       "2            28950.000000  \n",
       "3            18626.055777  \n",
       "4            13410.000000  \n",
       "5            13410.000000  "
      ]
     },
     "execution_count": 25,
     "metadata": {},
     "output_type": "execute_result"
    }
   ],
   "source": [
    "pluto_dat.head(6)"
   ]
  },
  {
   "cell_type": "markdown",
   "metadata": {},
   "source": [
    "To continue cleaning our data, we next look at the summary statistics for each feature to ensure there are no obviously incorrect values."
   ]
  },
  {
   "cell_type": "code",
   "execution_count": 26,
   "metadata": {
    "collapsed": false
   },
   "outputs": [
    {
     "data": {
      "text/html": [
       "<div>\n",
       "<table border=\"1\" class=\"dataframe\">\n",
       "  <thead>\n",
       "    <tr style=\"text-align: right;\">\n",
       "      <th></th>\n",
       "      <th>UnitsRes</th>\n",
       "      <th>AssessTot</th>\n",
       "      <th>YearBuilt</th>\n",
       "      <th>BBL</th>\n",
       "      <th>YearLastAlter</th>\n",
       "      <th>Avg_value_per_res_unit</th>\n",
       "    </tr>\n",
       "  </thead>\n",
       "  <tbody>\n",
       "    <tr>\n",
       "      <th>count</th>\n",
       "      <td>760833.000000</td>\n",
       "      <td>7.608330e+05</td>\n",
       "      <td>760833.000000</td>\n",
       "      <td>7.608330e+05</td>\n",
       "      <td>760833.000000</td>\n",
       "      <td>760833.000000</td>\n",
       "    </tr>\n",
       "    <tr>\n",
       "      <th>mean</th>\n",
       "      <td>4.606973</td>\n",
       "      <td>1.808652e+05</td>\n",
       "      <td>1936.691692</td>\n",
       "      <td>3.548022e+09</td>\n",
       "      <td>171.911084</td>\n",
       "      <td>25533.416697</td>\n",
       "    </tr>\n",
       "    <tr>\n",
       "      <th>std</th>\n",
       "      <td>41.255516</td>\n",
       "      <td>2.236508e+06</td>\n",
       "      <td>86.719223</td>\n",
       "      <td>1.002855e+09</td>\n",
       "      <td>560.442966</td>\n",
       "      <td>144060.821811</td>\n",
       "    </tr>\n",
       "    <tr>\n",
       "      <th>min</th>\n",
       "      <td>1.000000</td>\n",
       "      <td>0.000000e+00</td>\n",
       "      <td>0.000000</td>\n",
       "      <td>1.000070e+09</td>\n",
       "      <td>0.000000</td>\n",
       "      <td>0.000000</td>\n",
       "    </tr>\n",
       "    <tr>\n",
       "      <th>25%</th>\n",
       "      <td>1.000000</td>\n",
       "      <td>2.152400e+04</td>\n",
       "      <td>1920.000000</td>\n",
       "      <td>3.037590e+09</td>\n",
       "      <td>0.000000</td>\n",
       "      <td>12656.000000</td>\n",
       "    </tr>\n",
       "    <tr>\n",
       "      <th>50%</th>\n",
       "      <td>2.000000</td>\n",
       "      <td>2.751300e+04</td>\n",
       "      <td>1930.000000</td>\n",
       "      <td>4.012820e+09</td>\n",
       "      <td>0.000000</td>\n",
       "      <td>17865.000000</td>\n",
       "    </tr>\n",
       "    <tr>\n",
       "      <th>75%</th>\n",
       "      <td>2.000000</td>\n",
       "      <td>3.804400e+04</td>\n",
       "      <td>1955.000000</td>\n",
       "      <td>4.107100e+09</td>\n",
       "      <td>0.000000</td>\n",
       "      <td>25320.000000</td>\n",
       "    </tr>\n",
       "    <tr>\n",
       "      <th>max</th>\n",
       "      <td>13248.000000</td>\n",
       "      <td>6.936678e+08</td>\n",
       "      <td>2015.000000</td>\n",
       "      <td>5.080500e+09</td>\n",
       "      <td>2015.000000</td>\n",
       "      <td>51051150.000000</td>\n",
       "    </tr>\n",
       "  </tbody>\n",
       "</table>\n",
       "</div>"
      ],
      "text/plain": [
       "            UnitsRes     AssessTot      YearBuilt           BBL  \\\n",
       "count  760833.000000  7.608330e+05  760833.000000  7.608330e+05   \n",
       "mean        4.606973  1.808652e+05    1936.691692  3.548022e+09   \n",
       "std        41.255516  2.236508e+06      86.719223  1.002855e+09   \n",
       "min         1.000000  0.000000e+00       0.000000  1.000070e+09   \n",
       "25%         1.000000  2.152400e+04    1920.000000  3.037590e+09   \n",
       "50%         2.000000  2.751300e+04    1930.000000  4.012820e+09   \n",
       "75%         2.000000  3.804400e+04    1955.000000  4.107100e+09   \n",
       "max     13248.000000  6.936678e+08    2015.000000  5.080500e+09   \n",
       "\n",
       "       YearLastAlter  Avg_value_per_res_unit  \n",
       "count  760833.000000           760833.000000  \n",
       "mean      171.911084            25533.416697  \n",
       "std       560.442966           144060.821811  \n",
       "min         0.000000                0.000000  \n",
       "25%         0.000000            12656.000000  \n",
       "50%         0.000000            17865.000000  \n",
       "75%         0.000000            25320.000000  \n",
       "max      2015.000000         51051150.000000  "
      ]
     },
     "execution_count": 26,
     "metadata": {},
     "output_type": "execute_result"
    }
   ],
   "source": [
    "pluto_dat.describe()"
   ]
  },
  {
   "cell_type": "markdown",
   "metadata": {},
   "source": [
    "There are clearly misentered values for YearBuilt and YearLastAlter (since no buildings currently occupied in New York were built in the year 0). Thus, our final cleaning step is to:\n",
    "- Convert YearBuilt and YearLastAlter to age features (i.e. number of years, not the actual calendar year)\n",
    "- Drop records with YearBuilt = YearLastAlter = 0"
   ]
  },
  {
   "cell_type": "code",
   "execution_count": 27,
   "metadata": {
    "collapsed": false
   },
   "outputs": [
    {
     "data": {
      "text/html": [
       "<div>\n",
       "<table border=\"1\" class=\"dataframe\">\n",
       "  <thead>\n",
       "    <tr style=\"text-align: right;\">\n",
       "      <th></th>\n",
       "      <th>UnitsRes</th>\n",
       "      <th>AssessTot</th>\n",
       "      <th>BBL</th>\n",
       "      <th>CT2010</th>\n",
       "      <th>Avg_value_per_res_unit</th>\n",
       "      <th>BuildingAge</th>\n",
       "      <th>YearSinceLastAlter</th>\n",
       "    </tr>\n",
       "  </thead>\n",
       "  <tbody>\n",
       "    <tr>\n",
       "      <th>0</th>\n",
       "      <td>8</td>\n",
       "      <td>104219</td>\n",
       "      <td>2022600018</td>\n",
       "      <td>001900</td>\n",
       "      <td>13027.375000</td>\n",
       "      <td>95</td>\n",
       "      <td>6</td>\n",
       "    </tr>\n",
       "    <tr>\n",
       "      <th>1</th>\n",
       "      <td>8</td>\n",
       "      <td>25876</td>\n",
       "      <td>2022610037</td>\n",
       "      <td>001900</td>\n",
       "      <td>3234.500000</td>\n",
       "      <td>95</td>\n",
       "      <td>95</td>\n",
       "    </tr>\n",
       "    <tr>\n",
       "      <th>2</th>\n",
       "      <td>12</td>\n",
       "      <td>347400</td>\n",
       "      <td>2022610045</td>\n",
       "      <td>001900</td>\n",
       "      <td>28950.000000</td>\n",
       "      <td>90</td>\n",
       "      <td>90</td>\n",
       "    </tr>\n",
       "    <tr>\n",
       "      <th>3</th>\n",
       "      <td>1255</td>\n",
       "      <td>23375700</td>\n",
       "      <td>2022630019</td>\n",
       "      <td>002500</td>\n",
       "      <td>18626.055777</td>\n",
       "      <td>59</td>\n",
       "      <td>59</td>\n",
       "    </tr>\n",
       "    <tr>\n",
       "      <th>4</th>\n",
       "      <td>2</td>\n",
       "      <td>26820</td>\n",
       "      <td>2022630065</td>\n",
       "      <td>002500</td>\n",
       "      <td>13410.000000</td>\n",
       "      <td>15</td>\n",
       "      <td>15</td>\n",
       "    </tr>\n",
       "    <tr>\n",
       "      <th>5</th>\n",
       "      <td>2</td>\n",
       "      <td>26820</td>\n",
       "      <td>2022630066</td>\n",
       "      <td>002500</td>\n",
       "      <td>13410.000000</td>\n",
       "      <td>15</td>\n",
       "      <td>15</td>\n",
       "    </tr>\n",
       "  </tbody>\n",
       "</table>\n",
       "</div>"
      ],
      "text/plain": [
       "   UnitsRes  AssessTot         BBL  CT2010  Avg_value_per_res_unit  \\\n",
       "0         8     104219  2022600018  001900            13027.375000   \n",
       "1         8      25876  2022610037  001900             3234.500000   \n",
       "2        12     347400  2022610045  001900            28950.000000   \n",
       "3      1255   23375700  2022630019  002500            18626.055777   \n",
       "4         2      26820  2022630065  002500            13410.000000   \n",
       "5         2      26820  2022630066  002500            13410.000000   \n",
       "\n",
       "   BuildingAge  YearSinceLastAlter  \n",
       "0           95                   6  \n",
       "1           95                  95  \n",
       "2           90                  90  \n",
       "3           59                  59  \n",
       "4           15                  15  \n",
       "5           15                  15  "
      ]
     },
     "execution_count": 27,
     "metadata": {},
     "output_type": "execute_result"
    }
   ],
   "source": [
    "pluto_dat['BuildingAge'] = 2015 - pluto_dat['YearBuilt']\n",
    "pluto_dat['YearSinceLastAlter'] = 2015 - pluto_dat['YearLastAlter']\n",
    "pluto_dat = pluto_dat.drop(['YearBuilt', 'YearLastAlter'],axis=1)\n",
    "mask = (pluto_dat['YearSinceLastAlter'] == 2015)\n",
    "pluto_dat.loc[mask,'YearSinceLastAlter'] = pluto_dat['BuildingAge']\n",
    "pluto_dat.head(6)"
   ]
  },
  {
   "cell_type": "code",
   "execution_count": 36,
   "metadata": {
    "collapsed": false
   },
   "outputs": [
    {
     "data": {
      "text/plain": [
       "(1355, 7)"
      ]
     },
     "execution_count": 36,
     "metadata": {},
     "output_type": "execute_result"
    }
   ],
   "source": [
    "pluto_dat[pluto_dat.BuildingAge > 500].shape"
   ]
  },
  {
   "cell_type": "markdown",
   "metadata": {},
   "source": [
    "We drop these records with building ages outside the reasonable range."
   ]
  },
  {
   "cell_type": "code",
   "execution_count": 38,
   "metadata": {
    "collapsed": false
   },
   "outputs": [
    {
     "data": {
      "text/plain": [
       "(759478, 7)"
      ]
     },
     "execution_count": 38,
     "metadata": {},
     "output_type": "execute_result"
    }
   ],
   "source": [
    "pluto_dat = pluto_dat[pluto_dat.BuildingAge < 500]\n",
    "pluto_dat.shape"
   ]
  },
  {
   "cell_type": "markdown",
   "metadata": {},
   "source": [
    "Finally, to start getting a sense of the marginal feature distributions, here are some histograms."
   ]
  },
  {
   "cell_type": "code",
   "execution_count": 40,
   "metadata": {
    "collapsed": false
   },
   "outputs": [
    {
     "data": {
      "image/png": "[encoded data removed]",
      "text/plain": [
       "<matplotlib.figure.Figure at 0x1098a9910>"
      ]
     },
     "metadata": {},
     "output_type": "display_data"
    }
   ],
   "source": [
    "import matplotlib.pyplot as plt\n",
    "%matplotlib inline\n",
    "\n",
    "val_per_unit = plt.hist(pluto_dat['Avg_value_per_res_unit'], bins=100, range=(0,10**5))\n",
    "plt.title('Avg. assessed value / total residential units, by BBL')\n",
    "plt.show(val_per_unit)"
   ]
  },
  {
   "cell_type": "code",
   "execution_count": 43,
   "metadata": {
    "collapsed": false
   },
   "outputs": [
    {
     "data": {
      "image/png": "[encoded data removed]",
      "text/plain": [
       "<matplotlib.figure.Figure at 0x11327e5d0>"
      ]
     },
     "metadata": {},
     "output_type": "display_data"
    }
   ],
   "source": [
    "year_built = plt.hist(pluto_dat['BuildingAge'], bins=len(range(1850,2016)))\n",
    "plt.title('Year built, by BBL')\n",
    "plt.show(year_built)"
   ]
  },
  {
   "cell_type": "code",
   "execution_count": 44,
   "metadata": {
    "collapsed": false
   },
   "outputs": [
    {
     "data": {
      "image/png": "[encoded data removed]",
      "text/plain": [
       "<matplotlib.figure.Figure at 0x113362ed0>"
      ]
     },
     "metadata": {},
     "output_type": "display_data"
    }
   ],
   "source": [
    "UnitsRes_hist = plt.hist(pluto_dat['UnitsRes'], bins=50, range=(0,50))\n",
    "plt.title('Total number of residential units, by BBL')\n",
    "plt.show(UnitsRes_hist)"
   ]
  },
  {
   "cell_type": "code",
   "execution_count": 50,
   "metadata": {
    "collapsed": false
   },
   "outputs": [
    {
     "data": {
      "image/png": "[encoded data removed]",
      "text/plain": [
       "<matplotlib.figure.Figure at 0x10c7ff450>"
      ]
     },
     "metadata": {},
     "output_type": "display_data"
    },
    {
     "name": "stdout",
     "output_type": "stream",
     "text": [
      "Number of buildings with no alterations reported =  695014\n"
     ]
    }
   ],
   "source": [
    "Year_mod = plt.hist(pluto_dat['YearSinceLastAlter'], bins=100)\n",
    "plt.title('Year building was last altered, by BBL',)\n",
    "plt.show(UnitsRes_hist)\n",
    "print 'Number of buildings with no alterations reported = ', (pluto_dat['YearSinceLastAlter'] == pluto_dat['BuildingAge']).sum()"
   ]
  },
  {
   "cell_type": "markdown",
   "metadata": {},
   "source": [
    "Notice the vast majority, $\\frac{695014}{759478} \\approx 91.5\\%$, of buildings have no reported alterations."
   ]
  },
  {
   "cell_type": "code",
   "execution_count": 51,
   "metadata": {
    "collapsed": false
   },
   "outputs": [
    {
     "data": {
      "image/png": "[encoded data removed]",
      "text/plain": [
       "<matplotlib.figure.Figure at 0x10c7df910>"
      ]
     },
     "metadata": {},
     "output_type": "display_data"
    }
   ],
   "source": [
    "Tot_val = plt.hist(pluto_dat['AssessTot'], bins=100, range=(0,600000))\n",
    "plt.title('Total assessed value, by BBL',)\n",
    "plt.show(Tot_val)"
   ]
  }
 ],
 "metadata": {
  "kernelspec": {
   "display_name": "Python 2",
   "language": "python",
   "name": "python2"
  },
  "language_info": {
   "codemirror_mode": {
    "name": "ipython",
    "version": 2
   },
   "file_extension": ".py",
   "mimetype": "text/x-python",
   "name": "python",
   "nbconvert_exporter": "python",
   "pygments_lexer": "ipython2",
   "version": "2.7.10"
  }
 },
 "nbformat": 4,
 "nbformat_minor": 0
}
