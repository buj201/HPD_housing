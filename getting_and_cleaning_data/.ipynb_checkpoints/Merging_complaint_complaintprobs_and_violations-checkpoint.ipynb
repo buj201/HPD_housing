{
 "cells": [
  {
   "cell_type": "markdown",
   "metadata": {},
   "source": [
    "# Merging cleaned complaints, complaint problems, and violation datasets"
   ]
  },
  {
   "cell_type": "markdown",
   "metadata": {},
   "source": [
    "In this notebook, we will merge the following cleaned and processed datasets:\n",
    "- Complaints\n",
    "- Complaint problems\n",
    "- Housing maintenance code violations\n",
    "\n",
    "Following these merges, we will have the following informative features:\n",
    "* Codes describing the specific problems lodged by the tenant(s)\n",
    "* Building violation histories (total number of Class A, B, and C violations reported over the last 5 years)\n",
    "* BoroughID\n",
    "\n",
    "In addition, we will have the building's BBL, which will eventually be used to merge with PLUTO BBL-level features."
   ]
  },
  {
   "cell_type": "code",
   "execution_count": 1,
   "metadata": {
    "collapsed": false
   },
   "outputs": [
    {
     "data": {
      "text/html": [
       "<div>\n",
       "<table border=\"1\" class=\"dataframe\">\n",
       "  <thead>\n",
       "    <tr style=\"text-align: right;\">\n",
       "      <th></th>\n",
       "      <th>ProblemID</th>\n",
       "      <th>ComplaintID</th>\n",
       "      <th>UnitTypeID</th>\n",
       "      <th>SpaceTypeID</th>\n",
       "      <th>TypeID</th>\n",
       "      <th>MajorCategoryID</th>\n",
       "      <th>MinorCategoryID</th>\n",
       "      <th>CodeID</th>\n",
       "      <th>StatusDate</th>\n",
       "      <th>StatusDescriptionID</th>\n",
       "      <th>BoroughID</th>\n",
       "      <th>ReceivedDate</th>\n",
       "      <th>BBL</th>\n",
       "    </tr>\n",
       "  </thead>\n",
       "  <tbody>\n",
       "    <tr>\n",
       "      <th>0</th>\n",
       "      <td>14834879</td>\n",
       "      <td>7098320</td>\n",
       "      <td>92</td>\n",
       "      <td>550</td>\n",
       "      <td>1</td>\n",
       "      <td>59</td>\n",
       "      <td>349</td>\n",
       "      <td>2716</td>\n",
       "      <td>2014-11-15</td>\n",
       "      <td>5</td>\n",
       "      <td>2</td>\n",
       "      <td>2014-11-14</td>\n",
       "      <td>2044350029</td>\n",
       "    </tr>\n",
       "    <tr>\n",
       "      <th>1</th>\n",
       "      <td>14813145</td>\n",
       "      <td>7085572</td>\n",
       "      <td>92</td>\n",
       "      <td>550</td>\n",
       "      <td>1</td>\n",
       "      <td>59</td>\n",
       "      <td>349</td>\n",
       "      <td>2716</td>\n",
       "      <td>2014-11-10</td>\n",
       "      <td>5</td>\n",
       "      <td>2</td>\n",
       "      <td>2014-11-07</td>\n",
       "      <td>2033180020</td>\n",
       "    </tr>\n",
       "    <tr>\n",
       "      <th>2</th>\n",
       "      <td>14818264</td>\n",
       "      <td>7089217</td>\n",
       "      <td>91</td>\n",
       "      <td>546</td>\n",
       "      <td>1</td>\n",
       "      <td>9</td>\n",
       "      <td>65</td>\n",
       "      <td>624</td>\n",
       "      <td>2014-11-24</td>\n",
       "      <td>2</td>\n",
       "      <td>2</td>\n",
       "      <td>2014-11-10</td>\n",
       "      <td>2027540048</td>\n",
       "    </tr>\n",
       "    <tr>\n",
       "      <th>3</th>\n",
       "      <td>14830803</td>\n",
       "      <td>7095820</td>\n",
       "      <td>92</td>\n",
       "      <td>550</td>\n",
       "      <td>1</td>\n",
       "      <td>59</td>\n",
       "      <td>349</td>\n",
       "      <td>2715</td>\n",
       "      <td>2014-11-17</td>\n",
       "      <td>5</td>\n",
       "      <td>2</td>\n",
       "      <td>2014-11-13</td>\n",
       "      <td>2031910045</td>\n",
       "    </tr>\n",
       "    <tr>\n",
       "      <th>4</th>\n",
       "      <td>14889560</td>\n",
       "      <td>7132804</td>\n",
       "      <td>91</td>\n",
       "      <td>543</td>\n",
       "      <td>1</td>\n",
       "      <td>59</td>\n",
       "      <td>348</td>\n",
       "      <td>2833</td>\n",
       "      <td>2014-12-03</td>\n",
       "      <td>5</td>\n",
       "      <td>2</td>\n",
       "      <td>2014-11-30</td>\n",
       "      <td>2033180110</td>\n",
       "    </tr>\n",
       "    <tr>\n",
       "      <th>5</th>\n",
       "      <td>14838819</td>\n",
       "      <td>7101416</td>\n",
       "      <td>92</td>\n",
       "      <td>550</td>\n",
       "      <td>1</td>\n",
       "      <td>59</td>\n",
       "      <td>349</td>\n",
       "      <td>2715</td>\n",
       "      <td>2014-11-20</td>\n",
       "      <td>5</td>\n",
       "      <td>2</td>\n",
       "      <td>2014-11-16</td>\n",
       "      <td>2057050036</td>\n",
       "    </tr>\n",
       "    <tr>\n",
       "      <th>6</th>\n",
       "      <td>14807887</td>\n",
       "      <td>7082481</td>\n",
       "      <td>92</td>\n",
       "      <td>550</td>\n",
       "      <td>1</td>\n",
       "      <td>59</td>\n",
       "      <td>349</td>\n",
       "      <td>2715</td>\n",
       "      <td>2014-11-06</td>\n",
       "      <td>5</td>\n",
       "      <td>2</td>\n",
       "      <td>2014-11-06</td>\n",
       "      <td>2057050036</td>\n",
       "    </tr>\n",
       "    <tr>\n",
       "      <th>7</th>\n",
       "      <td>14791811</td>\n",
       "      <td>7072394</td>\n",
       "      <td>91</td>\n",
       "      <td>543</td>\n",
       "      <td>1</td>\n",
       "      <td>59</td>\n",
       "      <td>348</td>\n",
       "      <td>2713</td>\n",
       "      <td>2014-11-09</td>\n",
       "      <td>1</td>\n",
       "      <td>2</td>\n",
       "      <td>2014-11-01</td>\n",
       "      <td>2047190020</td>\n",
       "    </tr>\n",
       "    <tr>\n",
       "      <th>8</th>\n",
       "      <td>14887891</td>\n",
       "      <td>7131690</td>\n",
       "      <td>92</td>\n",
       "      <td>550</td>\n",
       "      <td>1</td>\n",
       "      <td>59</td>\n",
       "      <td>349</td>\n",
       "      <td>2715</td>\n",
       "      <td>2014-12-01</td>\n",
       "      <td>5</td>\n",
       "      <td>2</td>\n",
       "      <td>2014-11-29</td>\n",
       "      <td>2032920019</td>\n",
       "    </tr>\n",
       "    <tr>\n",
       "      <th>9</th>\n",
       "      <td>14882311</td>\n",
       "      <td>7127949</td>\n",
       "      <td>92</td>\n",
       "      <td>550</td>\n",
       "      <td>1</td>\n",
       "      <td>59</td>\n",
       "      <td>349</td>\n",
       "      <td>2715</td>\n",
       "      <td>2014-12-02</td>\n",
       "      <td>1</td>\n",
       "      <td>2</td>\n",
       "      <td>2014-11-27</td>\n",
       "      <td>2026771096</td>\n",
       "    </tr>\n",
       "  </tbody>\n",
       "</table>\n",
       "</div>"
      ],
      "text/plain": [
       "   ProblemID  ComplaintID  UnitTypeID  SpaceTypeID  TypeID  MajorCategoryID  \\\n",
       "0   14834879      7098320          92          550       1               59   \n",
       "1   14813145      7085572          92          550       1               59   \n",
       "2   14818264      7089217          91          546       1                9   \n",
       "3   14830803      7095820          92          550       1               59   \n",
       "4   14889560      7132804          91          543       1               59   \n",
       "5   14838819      7101416          92          550       1               59   \n",
       "6   14807887      7082481          92          550       1               59   \n",
       "7   14791811      7072394          91          543       1               59   \n",
       "8   14887891      7131690          92          550       1               59   \n",
       "9   14882311      7127949          92          550       1               59   \n",
       "\n",
       "   MinorCategoryID  CodeID StatusDate  StatusDescriptionID  BoroughID  \\\n",
       "0              349    2716 2014-11-15                    5          2   \n",
       "1              349    2716 2014-11-10                    5          2   \n",
       "2               65     624 2014-11-24                    2          2   \n",
       "3              349    2715 2014-11-17                    5          2   \n",
       "4              348    2833 2014-12-03                    5          2   \n",
       "5              349    2715 2014-11-20                    5          2   \n",
       "6              349    2715 2014-11-06                    5          2   \n",
       "7              348    2713 2014-11-09                    1          2   \n",
       "8              349    2715 2014-12-01                    5          2   \n",
       "9              349    2715 2014-12-02                    1          2   \n",
       "\n",
       "  ReceivedDate         BBL  \n",
       "0   2014-11-14  2044350029  \n",
       "1   2014-11-07  2033180020  \n",
       "2   2014-11-10  2027540048  \n",
       "3   2014-11-13  2031910045  \n",
       "4   2014-11-30  2033180110  \n",
       "5   2014-11-16  2057050036  \n",
       "6   2014-11-06  2057050036  \n",
       "7   2014-11-01  2047190020  \n",
       "8   2014-11-29  2032920019  \n",
       "9   2014-11-27  2026771096  "
      ]
     },
     "execution_count": 1,
     "metadata": {},
     "output_type": "execute_result"
    }
   ],
   "source": [
    "import pandas as pd\n",
    "from get_clean_1_year_complaints import *\n",
    "from get_clean_problem import *\n",
    "\n",
    "complaints = get_clean_complaint_data()\n",
    "problems = get_clean_problem_data()\n",
    "\n",
    "merged_complaints_and_problems = pd.merge(problems, complaints, on='ComplaintID', how='inner')\n",
    "merged_complaints_and_problems.head(10)"
   ]
  },
  {
   "cell_type": "code",
   "execution_count": 2,
   "metadata": {
    "collapsed": false
   },
   "outputs": [
    {
     "name": "stdout",
     "output_type": "stream",
     "text": [
      "(394775, 4) (777240, 10) (631425, 13)\n"
     ]
    }
   ],
   "source": [
    "print complaints.shape, problems.shape, merged_complaints_and_problems.shape"
   ]
  },
  {
   "cell_type": "code",
   "execution_count": 3,
   "metadata": {
    "collapsed": false
   },
   "outputs": [
    {
     "name": "stdout",
     "output_type": "stream",
     "text": [
      "394775 410055 349233\n"
     ]
    }
   ],
   "source": [
    "print len(complaints['ComplaintID'].unique()), len(problems['ComplaintID'].unique()), len(merged_complaints_and_problems['ComplaintID'].unique())"
   ]
  },
  {
   "cell_type": "code",
   "execution_count": 4,
   "metadata": {
    "collapsed": false
   },
   "outputs": [],
   "source": [
    "from get_clean_5_year_violations import *\n",
    "\n",
    "violations = get_clean_violation_data()\n",
    "merged_complaints_problems_violations = pd.merge(merged_complaints_and_problems, violations, on='BBL', how='outer')"
   ]
  },
  {
   "cell_type": "code",
   "execution_count": 5,
   "metadata": {
    "collapsed": false
   },
   "outputs": [
    {
     "data": {
      "text/html": [
       "<div>\n",
       "<table border=\"1\" class=\"dataframe\">\n",
       "  <thead>\n",
       "    <tr style=\"text-align: right;\">\n",
       "      <th></th>\n",
       "      <th>ProblemID</th>\n",
       "      <th>ComplaintID</th>\n",
       "      <th>UnitTypeID</th>\n",
       "      <th>SpaceTypeID</th>\n",
       "      <th>TypeID</th>\n",
       "      <th>MajorCategoryID</th>\n",
       "      <th>MinorCategoryID</th>\n",
       "      <th>CodeID</th>\n",
       "      <th>StatusDate</th>\n",
       "      <th>StatusDescriptionID</th>\n",
       "      <th>BoroughID</th>\n",
       "      <th>ReceivedDate</th>\n",
       "      <th>BBL</th>\n",
       "      <th>Tot_A_violations</th>\n",
       "      <th>Tot_B_violations</th>\n",
       "      <th>Tot_C_violations</th>\n",
       "    </tr>\n",
       "  </thead>\n",
       "  <tbody>\n",
       "    <tr>\n",
       "      <th>0</th>\n",
       "      <td>14834879</td>\n",
       "      <td>7098320</td>\n",
       "      <td>92</td>\n",
       "      <td>550</td>\n",
       "      <td>1</td>\n",
       "      <td>59</td>\n",
       "      <td>349</td>\n",
       "      <td>2716</td>\n",
       "      <td>2014-11-15</td>\n",
       "      <td>5</td>\n",
       "      <td>2</td>\n",
       "      <td>2014-11-14</td>\n",
       "      <td>2044350029</td>\n",
       "      <td>NaN</td>\n",
       "      <td>NaN</td>\n",
       "      <td>NaN</td>\n",
       "    </tr>\n",
       "    <tr>\n",
       "      <th>1</th>\n",
       "      <td>14815807</td>\n",
       "      <td>7087548</td>\n",
       "      <td>92</td>\n",
       "      <td>550</td>\n",
       "      <td>1</td>\n",
       "      <td>59</td>\n",
       "      <td>349</td>\n",
       "      <td>2715</td>\n",
       "      <td>2014-11-15</td>\n",
       "      <td>1</td>\n",
       "      <td>2</td>\n",
       "      <td>2014-11-08</td>\n",
       "      <td>2044350029</td>\n",
       "      <td>NaN</td>\n",
       "      <td>NaN</td>\n",
       "      <td>NaN</td>\n",
       "    </tr>\n",
       "    <tr>\n",
       "      <th>2</th>\n",
       "      <td>14887970</td>\n",
       "      <td>7131753</td>\n",
       "      <td>92</td>\n",
       "      <td>550</td>\n",
       "      <td>1</td>\n",
       "      <td>59</td>\n",
       "      <td>349</td>\n",
       "      <td>2715</td>\n",
       "      <td>2014-12-03</td>\n",
       "      <td>1</td>\n",
       "      <td>2</td>\n",
       "      <td>2014-11-29</td>\n",
       "      <td>2044350029</td>\n",
       "      <td>NaN</td>\n",
       "      <td>NaN</td>\n",
       "      <td>NaN</td>\n",
       "    </tr>\n",
       "    <tr>\n",
       "      <th>3</th>\n",
       "      <td>14916368</td>\n",
       "      <td>7147774</td>\n",
       "      <td>92</td>\n",
       "      <td>550</td>\n",
       "      <td>1</td>\n",
       "      <td>59</td>\n",
       "      <td>349</td>\n",
       "      <td>2715</td>\n",
       "      <td>2014-12-11</td>\n",
       "      <td>1</td>\n",
       "      <td>2</td>\n",
       "      <td>2014-12-08</td>\n",
       "      <td>2044350029</td>\n",
       "      <td>NaN</td>\n",
       "      <td>NaN</td>\n",
       "      <td>NaN</td>\n",
       "    </tr>\n",
       "    <tr>\n",
       "      <th>4</th>\n",
       "      <td>15171890</td>\n",
       "      <td>7308529</td>\n",
       "      <td>92</td>\n",
       "      <td>550</td>\n",
       "      <td>1</td>\n",
       "      <td>59</td>\n",
       "      <td>349</td>\n",
       "      <td>2715</td>\n",
       "      <td>2015-02-17</td>\n",
       "      <td>5</td>\n",
       "      <td>2</td>\n",
       "      <td>2015-02-16</td>\n",
       "      <td>2044350029</td>\n",
       "      <td>NaN</td>\n",
       "      <td>NaN</td>\n",
       "      <td>NaN</td>\n",
       "    </tr>\n",
       "    <tr>\n",
       "      <th>5</th>\n",
       "      <td>15153862</td>\n",
       "      <td>7295348</td>\n",
       "      <td>92</td>\n",
       "      <td>550</td>\n",
       "      <td>1</td>\n",
       "      <td>59</td>\n",
       "      <td>349</td>\n",
       "      <td>2716</td>\n",
       "      <td>2015-02-17</td>\n",
       "      <td>5</td>\n",
       "      <td>2</td>\n",
       "      <td>2015-02-12</td>\n",
       "      <td>2044350029</td>\n",
       "      <td>NaN</td>\n",
       "      <td>NaN</td>\n",
       "      <td>NaN</td>\n",
       "    </tr>\n",
       "  </tbody>\n",
       "</table>\n",
       "</div>"
      ],
      "text/plain": [
       "   ProblemID  ComplaintID  UnitTypeID  SpaceTypeID  TypeID  MajorCategoryID  \\\n",
       "0   14834879      7098320          92          550       1               59   \n",
       "1   14815807      7087548          92          550       1               59   \n",
       "2   14887970      7131753          92          550       1               59   \n",
       "3   14916368      7147774          92          550       1               59   \n",
       "4   15171890      7308529          92          550       1               59   \n",
       "5   15153862      7295348          92          550       1               59   \n",
       "\n",
       "   MinorCategoryID  CodeID StatusDate  StatusDescriptionID  BoroughID  \\\n",
       "0              349    2716 2014-11-15                    5          2   \n",
       "1              349    2715 2014-11-15                    1          2   \n",
       "2              349    2715 2014-12-03                    1          2   \n",
       "3              349    2715 2014-12-11                    1          2   \n",
       "4              349    2715 2015-02-17                    5          2   \n",
       "5              349    2716 2015-02-17                    5          2   \n",
       "\n",
       "  ReceivedDate         BBL  Tot_A_violations  Tot_B_violations  \\\n",
       "0   2014-11-14  2044350029               NaN               NaN   \n",
       "1   2014-11-08  2044350029               NaN               NaN   \n",
       "2   2014-11-29  2044350029               NaN               NaN   \n",
       "3   2014-12-08  2044350029               NaN               NaN   \n",
       "4   2015-02-16  2044350029               NaN               NaN   \n",
       "5   2015-02-12  2044350029               NaN               NaN   \n",
       "\n",
       "   Tot_C_violations  \n",
       "0               NaN  \n",
       "1               NaN  \n",
       "2               NaN  \n",
       "3               NaN  \n",
       "4               NaN  \n",
       "5               NaN  "
      ]
     },
     "execution_count": 5,
     "metadata": {},
     "output_type": "execute_result"
    }
   ],
   "source": [
    "merged_complaints_problems_violations.head(6)"
   ]
  },
  {
   "cell_type": "code",
   "execution_count": 7,
   "metadata": {
    "collapsed": false
   },
   "outputs": [
    {
     "data": {
      "text/plain": [
       "(24368, 4)"
      ]
     },
     "execution_count": 7,
     "metadata": {},
     "output_type": "execute_result"
    }
   ],
   "source": [
    "violations.shape"
   ]
  },
  {
   "cell_type": "code",
   "execution_count": 6,
   "metadata": {
    "collapsed": false
   },
   "outputs": [
    {
     "data": {
      "text/plain": [
       "(639758, 16)"
      ]
     },
     "execution_count": 6,
     "metadata": {},
     "output_type": "execute_result"
    }
   ],
   "source": [
    "merged_complaints_problems_violations.shape"
   ]
  },
  {
   "cell_type": "markdown",
   "metadata": {},
   "source": [
    "This outer join resulted in approximately 8000 extra records- thus, we need to drop rows where ProblemID is null."
   ]
  },
  {
   "cell_type": "code",
   "execution_count": 8,
   "metadata": {
    "collapsed": true
   },
   "outputs": [],
   "source": [
    "merged_complaints_problems_violations = merged_complaints_problems_violations[~(merged_complaints_problems_violations['ProblemID'].isnull())]"
   ]
  },
  {
   "cell_type": "code",
   "execution_count": 9,
   "metadata": {
    "collapsed": false
   },
   "outputs": [
    {
     "name": "stdout",
     "output_type": "stream",
     "text": [
      "(631425, 16) 349233\n"
     ]
    }
   ],
   "source": [
    "print merged_complaints_problems_violations.shape, len(merged_complaints_problems_violations['ComplaintID'].unique())"
   ]
  },
  {
   "cell_type": "markdown",
   "metadata": {},
   "source": [
    "Now let's see how many violations histories matched records in our complaint dataset."
   ]
  },
  {
   "cell_type": "code",
   "execution_count": 10,
   "metadata": {
    "collapsed": false
   },
   "outputs": [
    {
     "name": "stdout",
     "output_type": "stream",
     "text": [
      "(201889, 16)\n"
     ]
    }
   ],
   "source": [
    "is_null = merged_complaints_problems_violations[(merged_complaints_problems_violations['Tot_A_violations'].isnull())]\n",
    "print is_null.shape"
   ]
  },
  {
   "cell_type": "markdown",
   "metadata": {},
   "source": [
    "So, of the complaints received between Nove 1st, 2014 and now, $\\frac{631425 - 201889}{631425} = \\frac{429536}{631425} \\approx 68\\%$ are from BBLs with at least one violation between April 1st, 2010, and March 31st, 2015. \n",
    "\n",
    "The last thing we need to do to finish cleaning up the merged dataset is to replace null values with zeros for Tot_A_violations, Tot_B_violations, and Tot_C_violations."
   ]
  },
  {
   "cell_type": "code",
   "execution_count": 11,
   "metadata": {
    "collapsed": false
   },
   "outputs": [
    {
     "name": "stdout",
     "output_type": "stream",
     "text": [
      "0\n",
      "0\n",
      "0\n"
     ]
    }
   ],
   "source": [
    "merged_complaints_problems_violations['Tot_A_violations'] = merged_complaints_problems_violations['Tot_A_violations'].fillna(0)\n",
    "merged_complaints_problems_violations['Tot_B_violations'] = merged_complaints_problems_violations['Tot_B_violations'].fillna(0)\n",
    "merged_complaints_problems_violations['Tot_C_violations'] = merged_complaints_problems_violations['Tot_C_violations'].fillna(0)\n",
    "\n",
    "print merged_complaints_problems_violations['Tot_A_violations'].isnull().sum()\n",
    "print merged_complaints_problems_violations['Tot_B_violations'].isnull().sum()\n",
    "print merged_complaints_problems_violations['Tot_C_violations'].isnull().sum()"
   ]
  },
  {
   "cell_type": "markdown",
   "metadata": {},
   "source": [
    "Now that we've finished the merge and filled NaN values, let's take a look at the data set (and write it to disc as a csv file for fast loading in future sessions). First, note at this point, we have many potentially informative features. Categorical features (which will need to be converted into dummy variables via pd.get_dummies) include:\n",
    "- UnitTypeID\n",
    "- SpaceTypeID\n",
    "- TypeID\n",
    "- MajorCategoryID\n",
    "- MinorCategoryID\n",
    "- CodeID\n",
    "- StatusDescriptionID (our Target Variable)\n",
    "- BoroughID\n",
    "\n",
    "Numeric features include:\n",
    "- Tot_A_violations\n",
    "- Tot_B_violations\n",
    "- Tot_C_violations"
   ]
  },
  {
   "cell_type": "code",
   "execution_count": 12,
   "metadata": {
    "collapsed": false
   },
   "outputs": [
    {
     "data": {
      "text/html": [
       "<div>\n",
       "<table border=\"1\" class=\"dataframe\">\n",
       "  <thead>\n",
       "    <tr style=\"text-align: right;\">\n",
       "      <th></th>\n",
       "      <th>ProblemID</th>\n",
       "      <th>ComplaintID</th>\n",
       "      <th>UnitTypeID</th>\n",
       "      <th>SpaceTypeID</th>\n",
       "      <th>TypeID</th>\n",
       "      <th>MajorCategoryID</th>\n",
       "      <th>MinorCategoryID</th>\n",
       "      <th>CodeID</th>\n",
       "      <th>StatusDate</th>\n",
       "      <th>StatusDescriptionID</th>\n",
       "      <th>BoroughID</th>\n",
       "      <th>ReceivedDate</th>\n",
       "      <th>BBL</th>\n",
       "      <th>Tot_A_violations</th>\n",
       "      <th>Tot_B_violations</th>\n",
       "      <th>Tot_C_violations</th>\n",
       "    </tr>\n",
       "  </thead>\n",
       "  <tbody>\n",
       "    <tr>\n",
       "      <th>0</th>\n",
       "      <td>14834879</td>\n",
       "      <td>7098320</td>\n",
       "      <td>92</td>\n",
       "      <td>550</td>\n",
       "      <td>1</td>\n",
       "      <td>59</td>\n",
       "      <td>349</td>\n",
       "      <td>2716</td>\n",
       "      <td>2014-11-15</td>\n",
       "      <td>5</td>\n",
       "      <td>2</td>\n",
       "      <td>2014-11-14</td>\n",
       "      <td>2044350029</td>\n",
       "      <td>0</td>\n",
       "      <td>0</td>\n",
       "      <td>0</td>\n",
       "    </tr>\n",
       "    <tr>\n",
       "      <th>1</th>\n",
       "      <td>14815807</td>\n",
       "      <td>7087548</td>\n",
       "      <td>92</td>\n",
       "      <td>550</td>\n",
       "      <td>1</td>\n",
       "      <td>59</td>\n",
       "      <td>349</td>\n",
       "      <td>2715</td>\n",
       "      <td>2014-11-15</td>\n",
       "      <td>1</td>\n",
       "      <td>2</td>\n",
       "      <td>2014-11-08</td>\n",
       "      <td>2044350029</td>\n",
       "      <td>0</td>\n",
       "      <td>0</td>\n",
       "      <td>0</td>\n",
       "    </tr>\n",
       "    <tr>\n",
       "      <th>2</th>\n",
       "      <td>14887970</td>\n",
       "      <td>7131753</td>\n",
       "      <td>92</td>\n",
       "      <td>550</td>\n",
       "      <td>1</td>\n",
       "      <td>59</td>\n",
       "      <td>349</td>\n",
       "      <td>2715</td>\n",
       "      <td>2014-12-03</td>\n",
       "      <td>1</td>\n",
       "      <td>2</td>\n",
       "      <td>2014-11-29</td>\n",
       "      <td>2044350029</td>\n",
       "      <td>0</td>\n",
       "      <td>0</td>\n",
       "      <td>0</td>\n",
       "    </tr>\n",
       "    <tr>\n",
       "      <th>3</th>\n",
       "      <td>14916368</td>\n",
       "      <td>7147774</td>\n",
       "      <td>92</td>\n",
       "      <td>550</td>\n",
       "      <td>1</td>\n",
       "      <td>59</td>\n",
       "      <td>349</td>\n",
       "      <td>2715</td>\n",
       "      <td>2014-12-11</td>\n",
       "      <td>1</td>\n",
       "      <td>2</td>\n",
       "      <td>2014-12-08</td>\n",
       "      <td>2044350029</td>\n",
       "      <td>0</td>\n",
       "      <td>0</td>\n",
       "      <td>0</td>\n",
       "    </tr>\n",
       "    <tr>\n",
       "      <th>4</th>\n",
       "      <td>15171890</td>\n",
       "      <td>7308529</td>\n",
       "      <td>92</td>\n",
       "      <td>550</td>\n",
       "      <td>1</td>\n",
       "      <td>59</td>\n",
       "      <td>349</td>\n",
       "      <td>2715</td>\n",
       "      <td>2015-02-17</td>\n",
       "      <td>5</td>\n",
       "      <td>2</td>\n",
       "      <td>2015-02-16</td>\n",
       "      <td>2044350029</td>\n",
       "      <td>0</td>\n",
       "      <td>0</td>\n",
       "      <td>0</td>\n",
       "    </tr>\n",
       "    <tr>\n",
       "      <th>5</th>\n",
       "      <td>15153862</td>\n",
       "      <td>7295348</td>\n",
       "      <td>92</td>\n",
       "      <td>550</td>\n",
       "      <td>1</td>\n",
       "      <td>59</td>\n",
       "      <td>349</td>\n",
       "      <td>2716</td>\n",
       "      <td>2015-02-17</td>\n",
       "      <td>5</td>\n",
       "      <td>2</td>\n",
       "      <td>2015-02-12</td>\n",
       "      <td>2044350029</td>\n",
       "      <td>0</td>\n",
       "      <td>0</td>\n",
       "      <td>0</td>\n",
       "    </tr>\n",
       "  </tbody>\n",
       "</table>\n",
       "</div>"
      ],
      "text/plain": [
       "   ProblemID  ComplaintID  UnitTypeID  SpaceTypeID  TypeID  MajorCategoryID  \\\n",
       "0   14834879      7098320          92          550       1               59   \n",
       "1   14815807      7087548          92          550       1               59   \n",
       "2   14887970      7131753          92          550       1               59   \n",
       "3   14916368      7147774          92          550       1               59   \n",
       "4   15171890      7308529          92          550       1               59   \n",
       "5   15153862      7295348          92          550       1               59   \n",
       "\n",
       "   MinorCategoryID  CodeID StatusDate  StatusDescriptionID  BoroughID  \\\n",
       "0              349    2716 2014-11-15                    5          2   \n",
       "1              349    2715 2014-11-15                    1          2   \n",
       "2              349    2715 2014-12-03                    1          2   \n",
       "3              349    2715 2014-12-11                    1          2   \n",
       "4              349    2715 2015-02-17                    5          2   \n",
       "5              349    2716 2015-02-17                    5          2   \n",
       "\n",
       "  ReceivedDate         BBL  Tot_A_violations  Tot_B_violations  \\\n",
       "0   2014-11-14  2044350029                 0                 0   \n",
       "1   2014-11-08  2044350029                 0                 0   \n",
       "2   2014-11-29  2044350029                 0                 0   \n",
       "3   2014-12-08  2044350029                 0                 0   \n",
       "4   2015-02-16  2044350029                 0                 0   \n",
       "5   2015-02-12  2044350029                 0                 0   \n",
       "\n",
       "   Tot_C_violations  \n",
       "0                 0  \n",
       "1                 0  \n",
       "2                 0  \n",
       "3                 0  \n",
       "4                 0  \n",
       "5                 0  "
      ]
     },
     "execution_count": 12,
     "metadata": {},
     "output_type": "execute_result"
    }
   ],
   "source": [
    "merged_complaints_problems_violations.head(6)"
   ]
  },
  {
   "cell_type": "markdown",
   "metadata": {},
   "source": [
    "In addition, let's look at the distributions of informative features:"
   ]
  },
  {
   "cell_type": "code",
   "execution_count": 13,
   "metadata": {
    "collapsed": false
   },
   "outputs": [
    {
     "data": {
      "image/png": "[encoded data removed]",
      "text/plain": [
       "<matplotlib.figure.Figure at 0x109f42490>"
      ]
     },
     "metadata": {},
     "output_type": "display_data"
    }
   ],
   "source": [
    "import matplotlib.pyplot as plt\n",
    "%matplotlib inline\n",
    "\n",
    "StatusPlot = plt.hist(merged_complaints_problems_violations.StatusDescriptionID, bins=10, range=(0,9))\n",
    "plt.title('Distribution of target variable')\n",
    "plt.show(StatusPlot)"
   ]
  },
  {
   "cell_type": "markdown",
   "metadata": {},
   "source": [
    "Recall the codes mean:\n",
    "- 1: Not able to gain access\n",
    "- 2: No violations issued\n",
    "- 3: Violations issued\n",
    "- 4: Violations previously issued\n",
    "- 5: Advised by a tenant (i.e. tenant informed HPD the conditions were corrected)."
   ]
  },
  {
   "cell_type": "code",
   "execution_count": 14,
   "metadata": {
    "collapsed": false
   },
   "outputs": [
    {
     "data": {
      "image/png": "[encoded data removed]",
      "text/plain": [
       "<matplotlib.figure.Figure at 0x103a7c310>"
      ]
     },
     "metadata": {},
     "output_type": "display_data"
    }
   ],
   "source": [
    "BoroPlt = plt.hist(merged_complaints_problems_violations.BoroughID, bins=9, range=(1,9))\n",
    "plt.title('Distribution of problems by Borough')\n",
    "plt.show(BoroPlt)"
   ]
  },
  {
   "cell_type": "markdown",
   "metadata": {},
   "source": [
    "Recall the codes represent:\n",
    "- 1: Manhattan\n",
    "- 2: The Bronx\n",
    "- 3: Brooklyn\n",
    "- 4: Queens\n",
    "- 5: Staten Island"
   ]
  },
  {
   "cell_type": "code",
   "execution_count": 15,
   "metadata": {
    "collapsed": false
   },
   "outputs": [
    {
     "data": {
      "image/png": "[encoded data removed]",
      "text/plain": [
       "<matplotlib.figure.Figure at 0x1090d1c50>"
      ]
     },
     "metadata": {},
     "output_type": "display_data"
    }
   ],
   "source": [
    "TypePlot = plt.hist(merged_complaints_problems_violations.TypeID, bins=9, range=(1,9))\n",
    "plt.title('Distribution of problem type')\n",
    "plt.show(TypePlot)"
   ]
  },
  {
   "cell_type": "markdown",
   "metadata": {},
   "source": [
    "Recall the Type codes mean the problem is considered (a/an):\n",
    "- 1: Emergency\n",
    "- 3: Non-emergency\n",
    "- 4: Immediate emergency"
   ]
  },
  {
   "cell_type": "code",
   "execution_count": 16,
   "metadata": {
    "collapsed": false
   },
   "outputs": [
    {
     "data": {
      "image/png": "[encoded data removed]",
      "text/plain": [
       "<matplotlib.figure.Figure at 0x10a3ad6d0>"
      ]
     },
     "metadata": {},
     "output_type": "display_data"
    }
   ],
   "source": [
    "UnitTypePlot = plt.hist(merged_complaints_problems_violations.UnitTypeID, bins=3, range=(91,94))\n",
    "plt.title('Distribution of unit type')\n",
    "plt.show(UnitTypePlot)"
   ]
  },
  {
   "cell_type": "markdown",
   "metadata": {},
   "source": [
    "Recall the unit types are:\n",
    "- 91: Apartment\n",
    "- 92: Building wide\n",
    "- 93: Pubic area"
   ]
  },
  {
   "cell_type": "code",
   "execution_count": 17,
   "metadata": {
    "collapsed": false
   },
   "outputs": [
    {
     "data": {
      "image/png": "[encoded data removed]",
      "text/plain": [
       "<matplotlib.figure.Figure at 0x10a2898d0>"
      ]
     },
     "metadata": {},
     "output_type": "display_data"
    }
   ],
   "source": [
    "SpaceTypePlot = plt.hist(merged_complaints_problems_violations.SpaceTypeID, bins=40, range=(540,580))\n",
    "plt.title('Distribution of space type')\n",
    "plt.show(SpaceTypePlot)"
   ]
  },
  {
   "cell_type": "code",
   "execution_count": 22,
   "metadata": {
    "collapsed": false
   },
   "outputs": [
    {
     "name": "stdout",
     "output_type": "stream",
     "text": [
      "543    179012\n",
      "550    137735\n",
      "541     96241\n",
      "546     66459\n",
      "542     47253\n",
      "547     27657\n",
      "545     16997\n",
      "548      9684\n",
      "556      9194\n",
      "566      8374\n",
      "549      8005\n",
      "569      4604\n",
      "574      3774\n",
      "553      2717\n",
      "571      2520\n",
      "577      2104\n",
      "573      1482\n",
      "560      1332\n",
      "558      1141\n",
      "561      1022\n",
      "562       962\n",
      "555       622\n",
      "554       598\n",
      "568       337\n",
      "567       316\n",
      "563       247\n",
      "575       220\n",
      "576       167\n",
      "564       151\n",
      "565       131\n",
      "557       129\n",
      "551        77\n",
      "570        68\n",
      "572        41\n",
      "544        34\n",
      "552        18\n",
      "dtype: int64\n"
     ]
    }
   ],
   "source": [
    "print merged_complaints_problems_violations.SpaceTypeID.value_counts()"
   ]
  },
  {
   "cell_type": "markdown",
   "metadata": {},
   "source": [
    "While there two many features to fully describe here, the top four space types are:\n",
    "- 543: Entire apartment\n",
    "- 550: Building wide\n",
    "- 541: Bathroom\n",
    "- 546: Kitchen"
   ]
  },
  {
   "cell_type": "code",
   "execution_count": 19,
   "metadata": {
    "collapsed": false
   },
   "outputs": [
    {
     "data": {
      "image/png": "[encoded data removed]",
      "text/plain": [
       "<matplotlib.figure.Figure at 0x10b57d950>"
      ]
     },
     "metadata": {},
     "output_type": "display_data"
    }
   ],
   "source": [
    "MajorCat = plt.hist(merged_complaints_problems_violations.MajorCategoryID, bins=70, range=(0,70))\n",
    "plt.title('Distribution of Major Category')\n",
    "plt.show(MajorCat)"
   ]
  },
  {
   "cell_type": "code",
   "execution_count": 25,
   "metadata": {
    "collapsed": false
   },
   "outputs": [
    {
     "name": "stdout",
     "output_type": "stream",
     "text": [
      "59    213784\n",
      "63     83991\n",
      "28     76927\n",
      "9      61369\n",
      "65     39134\n",
      "56     35238\n",
      "10     32072\n",
      "58     30843\n",
      "11     26567\n",
      "62     15370\n",
      "8      13085\n",
      "61      2023\n",
      "57      1022\n",
      "dtype: int64\n"
     ]
    }
   ],
   "source": [
    "print merged_complaints_problems_violations.MajorCategoryID.value_counts()"
   ]
  },
  {
   "cell_type": "markdown",
   "metadata": {},
   "source": [
    "Again there are too many features to fully describe here, but the top four space types are:\n",
    "- 9: Plumbing\n",
    "- 28: Paint/plaster\n",
    "- 59: Heat/hot water\n",
    "- 63: Unsanitary condition"
   ]
  },
  {
   "cell_type": "markdown",
   "metadata": {},
   "source": [
    "The distribution of minor category is shown somewhat differently. Since this is a higher cardinality categorical variable, the frequency of each code is shown. From this plot it is apparent that most of the observations fall into a smaller subset of minor categories."
   ]
  },
  {
   "cell_type": "code",
   "execution_count": 59,
   "metadata": {
    "collapsed": false
   },
   "outputs": [
    {
     "data": {
      "image/png": "[encoded data removed]",
      "text/plain": [
       "<matplotlib.figure.Figure at 0x10efd4150>"
      ]
     },
     "metadata": {},
     "output_type": "display_data"
    },
    {
     "name": "stdout",
     "output_type": "stream",
     "text": [
      "There are  56  unique values for minor category represented in the dataset.\n"
     ]
    }
   ],
   "source": [
    "minorcat = plt.hist(merged_complaints_problems_violations[\"MinorCategoryID\"].value_counts().values, bins=len(merged_complaints_problems_violations[\"MinorCategoryID\"].value_counts().values))\n",
    "plt.title('Distribution of frequencies of minor category')\n",
    "plt.show(minorcat)\n",
    "print 'There are ', len(merged_complaints_problems_violations[\"MinorCategoryID\"].unique()), ' unique values for minor category represented in the dataset.'"
   ]
  },
  {
   "cell_type": "code",
   "execution_count": 26,
   "metadata": {
    "collapsed": false
   },
   "outputs": [
    {
     "name": "stdout",
     "output_type": "stream",
     "text": [
      "349    126600\n",
      "348     87184\n",
      "376     41262\n",
      "198     38334\n",
      "197     35836\n",
      "343     29077\n",
      "375     28850\n",
      "333     20326\n",
      "380     18093\n",
      "65      17931\n",
      "381     15841\n",
      "68      13460\n",
      "374     12439\n",
      "63      11877\n",
      "73       8585\n",
      "59       8513\n",
      "66       8296\n",
      "337      8051\n",
      "339      7809\n",
      "340      7680\n",
      "287      7620\n",
      "81       7232\n",
      "72       6690\n",
      "345      6201\n",
      "341      5548\n",
      "379      5200\n",
      "371      5188\n",
      "369      4785\n",
      "61       4565\n",
      "71       4345\n",
      "338      3489\n",
      "334      3315\n",
      "373      3255\n",
      "305      1906\n",
      "370      1837\n",
      "344      1766\n",
      "368      1495\n",
      "377      1440\n",
      "83       1367\n",
      "346      1276\n",
      "200      1041\n",
      "342      1022\n",
      "365       907\n",
      "291       797\n",
      "199       677\n",
      "367       486\n",
      "364       369\n",
      "362       316\n",
      "372       305\n",
      "201       242\n",
      "174       204\n",
      "361       171\n",
      "363       133\n",
      "366       127\n",
      "335        57\n",
      "321         7\n",
      "dtype: int64\n"
     ]
    }
   ],
   "source": [
    "print merged_complaints_problems_violations.MinorCategoryID.value_counts()"
   ]
  },
  {
   "cell_type": "markdown",
   "metadata": {},
   "source": [
    "Again CodeID is a higher cardinality categorical variable, so the frequency of each code is shown. From this plot it is apparent that many of the observations fall into a smaller subset of CodeID, though this is less true than it was for Minor Category (i.e. the upper tail of this frequency distribution is not as fat)."
   ]
  },
  {
   "cell_type": "code",
   "execution_count": 27,
   "metadata": {
    "collapsed": false
   },
   "outputs": [
    {
     "data": {
      "image/png": "[encoded data removed]",
      "text/plain": [
       "<matplotlib.figure.Figure at 0x10cf5e350>"
      ]
     },
     "metadata": {},
     "output_type": "display_data"
    },
    {
     "name": "stdout",
     "output_type": "stream",
     "text": [
      "There are  161  unique value for CodeID represented in the dataset.\n"
     ]
    }
   ],
   "source": [
    "minorcat = plt.hist(merged_complaints_problems_violations[\"CodeID\"].value_counts().values, bins=50)\n",
    "plt.title('Distribution of frequencies of CodeID category')\n",
    "plt.show(minorcat)\n",
    "print 'There are ', len(merged_complaints_problems_violations[\"CodeID\"].unique()), ' unique value for CodeID represented in the dataset.'"
   ]
  },
  {
   "cell_type": "code",
   "execution_count": 28,
   "metadata": {
    "collapsed": false
   },
   "outputs": [
    {
     "name": "stdout",
     "output_type": "stream",
     "text": [
      "2715    69832\n",
      "2713    58033\n",
      "2716    42068\n",
      "2817    28850\n",
      "2828    17943\n",
      "2833    17331\n",
      "1364    16231\n",
      "2831    15841\n",
      "2821    15025\n",
      "2717    14373\n",
      "2521    13584\n",
      "2664    12622\n",
      "2823    11354\n",
      "2529    11010\n",
      "2686    10940\n",
      "2834    10894\n",
      "2813    10239\n",
      "2520    10030\n",
      "2524     9428\n",
      "2818     8186\n",
      "2675     7809\n",
      "2677     7650\n",
      "679      7419\n",
      "2487     7232\n",
      "2564     6841\n",
      "2530     6657\n",
      "2672     6263\n",
      "2665     6054\n",
      "2691     5816\n",
      "2700     5604\n",
      "        ...  \n",
      "2829      146\n",
      "2653      133\n",
      "2762      133\n",
      "2697      121\n",
      "2684       94\n",
      "2766       86\n",
      "2698       83\n",
      "2769       72\n",
      "2808       70\n",
      "2801       64\n",
      "2695       59\n",
      "2669       57\n",
      "2768       55\n",
      "2788       43\n",
      "2764       42\n",
      "2803       37\n",
      "2618       31\n",
      "2676       30\n",
      "2809       27\n",
      "2765       26\n",
      "2802       24\n",
      "2626       23\n",
      "2807       19\n",
      "2547       11\n",
      "2660       10\n",
      "2696       10\n",
      "2624       10\n",
      "2619        7\n",
      "2674        6\n",
      "2830        4\n",
      "dtype: int64\n"
     ]
    }
   ],
   "source": [
    "print merged_complaints_problems_violations.CodeID.value_counts()"
   ]
  },
  {
   "cell_type": "code",
   "execution_count": 29,
   "metadata": {
    "collapsed": false
   },
   "outputs": [
    {
     "data": {
      "image/png": "[encoded data removed]",
      "text/plain": [
       "<matplotlib.figure.Figure at 0x10e3d0b10>"
      ]
     },
     "metadata": {},
     "output_type": "display_data"
    }
   ],
   "source": [
    "Violations = plt.hist(merged_complaints_problems_violations.Tot_A_violations, bins=150, range=(0,150))\n",
    "plt.title('Distribution of violations- Type A')\n",
    "plt.show(Violations)"
   ]
  },
  {
   "cell_type": "code",
   "execution_count": 30,
   "metadata": {
    "collapsed": false
   },
   "outputs": [
    {
     "data": {
      "image/png": "[encoded data removed]",
      "text/plain": [
       "<matplotlib.figure.Figure at 0x10ef58c10>"
      ]
     },
     "metadata": {},
     "output_type": "display_data"
    }
   ],
   "source": [
    "Violations = plt.hist(merged_complaints_problems_violations.Tot_B_violations, bins=150, range=(0,150))\n",
    "plt.title('Distribution of violations- Type B')\n",
    "plt.show(Violations)"
   ]
  },
  {
   "cell_type": "code",
   "execution_count": 31,
   "metadata": {
    "collapsed": false
   },
   "outputs": [
    {
     "data": {
      "image/png": "[encoded data removed]",
      "text/plain": [
       "<matplotlib.figure.Figure at 0x110c25d50>"
      ]
     },
     "metadata": {},
     "output_type": "display_data"
    }
   ],
   "source": [
    "Violations = plt.hist(merged_complaints_problems_violations.Tot_C_violations, bins=150, range=(0,150))\n",
    "plt.title('Distribution of violations- Type C')\n",
    "plt.show(Violations)"
   ]
  },
  {
   "cell_type": "markdown",
   "metadata": {},
   "source": [
    "Finally, we write this merged dataset to disc for fast loading in future sessions."
   ]
  },
  {
   "cell_type": "code",
   "execution_count": 32,
   "metadata": {
    "collapsed": true
   },
   "outputs": [],
   "source": [
    "merged_complaints_problems_violations.to_csv('data/merged_complaints_problems_violations.csv')"
   ]
  }
 ],
 "metadata": {
  "kernelspec": {
   "display_name": "Python 2",
   "language": "python",
   "name": "python2"
  },
  "language_info": {
   "codemirror_mode": {
    "name": "ipython",
    "version": 2
   },
   "file_extension": ".py",
   "mimetype": "text/x-python",
   "name": "python",
   "nbconvert_exporter": "python",
   "pygments_lexer": "ipython2",
   "version": "2.7.10"
  }
 },
 "nbformat": 4,
 "nbformat_minor": 0
}
