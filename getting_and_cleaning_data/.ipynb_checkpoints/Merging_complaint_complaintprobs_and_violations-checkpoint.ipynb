{
 "cells": [
  {
   "cell_type": "markdown",
   "metadata": {},
   "source": [
    "# Merging cleaned complaints, complaint problems, and violation datasets"
   ]
  },
  {
   "cell_type": "markdown",
   "metadata": {},
   "source": [
    "In this notebook, we will merge the following cleaned and processed datasets:\n",
    "- Complaints\n",
    "- Complaint problems\n",
    "- Housing maintenance code violations\n",
    "\n",
    "Following these merges, we will have the following informative features:\n",
    "* Codes describing the specific problems lodged by the tenant(s)\n",
    "* Building violation histories (total number of Class A, B, and C violations reported over the last 5 years)\n",
    "* BoroughID\n",
    "\n",
    "In addition, we will have the building's BBL, which will eventually be used to merge with PLUTO BBL-level features."
   ]
  },
  {
   "cell_type": "code",
   "execution_count": 2,
   "metadata": {
    "collapsed": false,
    "scrolled": true
   },
   "outputs": [
    {
     "data": {
      "text/html": [
       "<div>\n",
       "<table border=\"1\" class=\"dataframe\">\n",
       "  <thead>\n",
       "    <tr style=\"text-align: right;\">\n",
       "      <th></th>\n",
       "      <th>ComplaintID</th>\n",
       "      <th>UnitTypeID</th>\n",
       "      <th>SpaceTypeID</th>\n",
       "      <th>TypeID</th>\n",
       "      <th>MajorCategoryID</th>\n",
       "      <th>MinorCategoryID</th>\n",
       "      <th>CodeID</th>\n",
       "      <th>Probs_in_complaint</th>\n",
       "      <th>ViolationIssued</th>\n",
       "      <th>BoroughID</th>\n",
       "      <th>ReceivedDate</th>\n",
       "      <th>BBL</th>\n",
       "    </tr>\n",
       "  </thead>\n",
       "  <tbody>\n",
       "    <tr>\n",
       "      <th>0</th>\n",
       "      <td>7071181</td>\n",
       "      <td>92</td>\n",
       "      <td>550</td>\n",
       "      <td>1</td>\n",
       "      <td>59</td>\n",
       "      <td>349</td>\n",
       "      <td>2716</td>\n",
       "      <td>1</td>\n",
       "      <td>0</td>\n",
       "      <td>4</td>\n",
       "      <td>2014-11-01</td>\n",
       "      <td>4092050044</td>\n",
       "    </tr>\n",
       "    <tr>\n",
       "      <th>1</th>\n",
       "      <td>7071182</td>\n",
       "      <td>92</td>\n",
       "      <td>550</td>\n",
       "      <td>1</td>\n",
       "      <td>59</td>\n",
       "      <td>349</td>\n",
       "      <td>2715</td>\n",
       "      <td>1</td>\n",
       "      <td>0</td>\n",
       "      <td>2</td>\n",
       "      <td>2014-11-01</td>\n",
       "      <td>2048310055</td>\n",
       "    </tr>\n",
       "    <tr>\n",
       "      <th>2</th>\n",
       "      <td>7071183</td>\n",
       "      <td>91</td>\n",
       "      <td>543</td>\n",
       "      <td>1</td>\n",
       "      <td>59</td>\n",
       "      <td>348</td>\n",
       "      <td>2713</td>\n",
       "      <td>1</td>\n",
       "      <td>0</td>\n",
       "      <td>3</td>\n",
       "      <td>2014-11-01</td>\n",
       "      <td>3039120058</td>\n",
       "    </tr>\n",
       "    <tr>\n",
       "      <th>3</th>\n",
       "      <td>7071184</td>\n",
       "      <td>92</td>\n",
       "      <td>550</td>\n",
       "      <td>1</td>\n",
       "      <td>59</td>\n",
       "      <td>349</td>\n",
       "      <td>2715</td>\n",
       "      <td>1</td>\n",
       "      <td>0</td>\n",
       "      <td>2</td>\n",
       "      <td>2014-11-01</td>\n",
       "      <td>2045120001</td>\n",
       "    </tr>\n",
       "    <tr>\n",
       "      <th>4</th>\n",
       "      <td>7071185</td>\n",
       "      <td>92</td>\n",
       "      <td>550</td>\n",
       "      <td>1</td>\n",
       "      <td>59</td>\n",
       "      <td>349</td>\n",
       "      <td>2715</td>\n",
       "      <td>1</td>\n",
       "      <td>0</td>\n",
       "      <td>2</td>\n",
       "      <td>2014-11-01</td>\n",
       "      <td>2028510014</td>\n",
       "    </tr>\n",
       "    <tr>\n",
       "      <th>5</th>\n",
       "      <td>7071186</td>\n",
       "      <td>92</td>\n",
       "      <td>550</td>\n",
       "      <td>1</td>\n",
       "      <td>59</td>\n",
       "      <td>349</td>\n",
       "      <td>2715</td>\n",
       "      <td>1</td>\n",
       "      <td>0</td>\n",
       "      <td>2</td>\n",
       "      <td>2014-11-01</td>\n",
       "      <td>2032160048</td>\n",
       "    </tr>\n",
       "  </tbody>\n",
       "</table>\n",
       "</div>"
      ],
      "text/plain": [
       "   ComplaintID  UnitTypeID  SpaceTypeID  TypeID  MajorCategoryID  \\\n",
       "0      7071181          92          550       1               59   \n",
       "1      7071182          92          550       1               59   \n",
       "2      7071183          91          543       1               59   \n",
       "3      7071184          92          550       1               59   \n",
       "4      7071185          92          550       1               59   \n",
       "5      7071186          92          550       1               59   \n",
       "\n",
       "   MinorCategoryID  CodeID  Probs_in_complaint  ViolationIssued  BoroughID  \\\n",
       "0              349    2716                   1                0          4   \n",
       "1              349    2715                   1                0          2   \n",
       "2              348    2713                   1                0          3   \n",
       "3              349    2715                   1                0          2   \n",
       "4              349    2715                   1                0          2   \n",
       "5              349    2715                   1                0          2   \n",
       "\n",
       "  ReceivedDate         BBL  \n",
       "0   2014-11-01  4092050044  \n",
       "1   2014-11-01  2048310055  \n",
       "2   2014-11-01  3039120058  \n",
       "3   2014-11-01  2045120001  \n",
       "4   2014-11-01  2028510014  \n",
       "5   2014-11-01  2032160048  "
      ]
     },
     "execution_count": 2,
     "metadata": {},
     "output_type": "execute_result"
    }
   ],
   "source": [
    "import pandas as pd\n",
    "from get_clean_full_year_complaints import *\n",
    "from get_clean_complaint_problems_binary import *\n",
    "\n",
    "complaints = get_clean_complaint_data()\n",
    "problems = get_clean_problem_data()\n",
    "\n",
    "merged_complaints_and_problems = pd.merge(problems, complaints, on='ComplaintID', how='inner')\n",
    "merged_complaints_and_problems.head(6)"
   ]
  },
  {
   "cell_type": "code",
   "execution_count": 3,
   "metadata": {
    "collapsed": false
   },
   "outputs": [
    {
     "name": "stdout",
     "output_type": "stream",
     "text": [
      "(394775, 4) (758201, 9) (616465, 12)\n"
     ]
    }
   ],
   "source": [
    "print complaints.shape, problems.shape, merged_complaints_and_problems.shape"
   ]
  },
  {
   "cell_type": "code",
   "execution_count": 4,
   "metadata": {
    "collapsed": false
   },
   "outputs": [
    {
     "name": "stdout",
     "output_type": "stream",
     "text": [
      "394775 407530 347247\n"
     ]
    }
   ],
   "source": [
    "print len(complaints['ComplaintID'].unique()), len(problems['ComplaintID'].unique()), len(merged_complaints_and_problems['ComplaintID'].unique())"
   ]
  },
  {
   "cell_type": "code",
   "execution_count": 5,
   "metadata": {
    "collapsed": false
   },
   "outputs": [],
   "source": [
    "from get_clean_five_year_violations import *\n",
    "\n",
    "violations = get_clean_violation_data()\n",
    "merged_complaints_problems_violations = pd.merge(merged_complaints_and_problems, violations, on='BBL', how='outer')"
   ]
  },
  {
   "cell_type": "code",
   "execution_count": 6,
   "metadata": {
    "collapsed": false
   },
   "outputs": [
    {
     "data": {
      "text/html": [
       "<div>\n",
       "<table border=\"1\" class=\"dataframe\">\n",
       "  <thead>\n",
       "    <tr style=\"text-align: right;\">\n",
       "      <th></th>\n",
       "      <th>ComplaintID</th>\n",
       "      <th>UnitTypeID</th>\n",
       "      <th>SpaceTypeID</th>\n",
       "      <th>TypeID</th>\n",
       "      <th>MajorCategoryID</th>\n",
       "      <th>MinorCategoryID</th>\n",
       "      <th>CodeID</th>\n",
       "      <th>Probs_in_complaint</th>\n",
       "      <th>ViolationIssued</th>\n",
       "      <th>BoroughID</th>\n",
       "      <th>ReceivedDate</th>\n",
       "      <th>BBL</th>\n",
       "      <th>Tot_A_violations</th>\n",
       "      <th>Tot_B_violations</th>\n",
       "      <th>Tot_C_violations</th>\n",
       "    </tr>\n",
       "  </thead>\n",
       "  <tbody>\n",
       "    <tr>\n",
       "      <th>0</th>\n",
       "      <td>7071181</td>\n",
       "      <td>92</td>\n",
       "      <td>550</td>\n",
       "      <td>1</td>\n",
       "      <td>59</td>\n",
       "      <td>349</td>\n",
       "      <td>2716</td>\n",
       "      <td>1</td>\n",
       "      <td>0</td>\n",
       "      <td>4</td>\n",
       "      <td>2014-11-01</td>\n",
       "      <td>4092050044</td>\n",
       "      <td>NaN</td>\n",
       "      <td>NaN</td>\n",
       "      <td>NaN</td>\n",
       "    </tr>\n",
       "    <tr>\n",
       "      <th>1</th>\n",
       "      <td>7071187</td>\n",
       "      <td>91</td>\n",
       "      <td>543</td>\n",
       "      <td>1</td>\n",
       "      <td>59</td>\n",
       "      <td>348</td>\n",
       "      <td>2713</td>\n",
       "      <td>7</td>\n",
       "      <td>0</td>\n",
       "      <td>4</td>\n",
       "      <td>2014-11-01</td>\n",
       "      <td>4092050044</td>\n",
       "      <td>NaN</td>\n",
       "      <td>NaN</td>\n",
       "      <td>NaN</td>\n",
       "    </tr>\n",
       "    <tr>\n",
       "      <th>2</th>\n",
       "      <td>7071187</td>\n",
       "      <td>91</td>\n",
       "      <td>543</td>\n",
       "      <td>3</td>\n",
       "      <td>63</td>\n",
       "      <td>376</td>\n",
       "      <td>2823</td>\n",
       "      <td>7</td>\n",
       "      <td>0</td>\n",
       "      <td>4</td>\n",
       "      <td>2014-11-01</td>\n",
       "      <td>4092050044</td>\n",
       "      <td>NaN</td>\n",
       "      <td>NaN</td>\n",
       "      <td>NaN</td>\n",
       "    </tr>\n",
       "    <tr>\n",
       "      <th>3</th>\n",
       "      <td>7071187</td>\n",
       "      <td>91</td>\n",
       "      <td>543</td>\n",
       "      <td>3</td>\n",
       "      <td>63</td>\n",
       "      <td>376</td>\n",
       "      <td>2821</td>\n",
       "      <td>7</td>\n",
       "      <td>0</td>\n",
       "      <td>4</td>\n",
       "      <td>2014-11-01</td>\n",
       "      <td>4092050044</td>\n",
       "      <td>NaN</td>\n",
       "      <td>NaN</td>\n",
       "      <td>NaN</td>\n",
       "    </tr>\n",
       "    <tr>\n",
       "      <th>4</th>\n",
       "      <td>7071187</td>\n",
       "      <td>91</td>\n",
       "      <td>542</td>\n",
       "      <td>1</td>\n",
       "      <td>28</td>\n",
       "      <td>197</td>\n",
       "      <td>2521</td>\n",
       "      <td>7</td>\n",
       "      <td>0</td>\n",
       "      <td>4</td>\n",
       "      <td>2014-11-01</td>\n",
       "      <td>4092050044</td>\n",
       "      <td>NaN</td>\n",
       "      <td>NaN</td>\n",
       "      <td>NaN</td>\n",
       "    </tr>\n",
       "    <tr>\n",
       "      <th>5</th>\n",
       "      <td>7071187</td>\n",
       "      <td>91</td>\n",
       "      <td>541</td>\n",
       "      <td>1</td>\n",
       "      <td>28</td>\n",
       "      <td>197</td>\n",
       "      <td>2521</td>\n",
       "      <td>7</td>\n",
       "      <td>0</td>\n",
       "      <td>4</td>\n",
       "      <td>2014-11-01</td>\n",
       "      <td>4092050044</td>\n",
       "      <td>NaN</td>\n",
       "      <td>NaN</td>\n",
       "      <td>NaN</td>\n",
       "    </tr>\n",
       "  </tbody>\n",
       "</table>\n",
       "</div>"
      ],
      "text/plain": [
       "   ComplaintID  UnitTypeID  SpaceTypeID  TypeID  MajorCategoryID  \\\n",
       "0      7071181          92          550       1               59   \n",
       "1      7071187          91          543       1               59   \n",
       "2      7071187          91          543       3               63   \n",
       "3      7071187          91          543       3               63   \n",
       "4      7071187          91          542       1               28   \n",
       "5      7071187          91          541       1               28   \n",
       "\n",
       "   MinorCategoryID  CodeID  Probs_in_complaint  ViolationIssued  BoroughID  \\\n",
       "0              349    2716                   1                0          4   \n",
       "1              348    2713                   7                0          4   \n",
       "2              376    2823                   7                0          4   \n",
       "3              376    2821                   7                0          4   \n",
       "4              197    2521                   7                0          4   \n",
       "5              197    2521                   7                0          4   \n",
       "\n",
       "  ReceivedDate         BBL  Tot_A_violations  Tot_B_violations  \\\n",
       "0   2014-11-01  4092050044               NaN               NaN   \n",
       "1   2014-11-01  4092050044               NaN               NaN   \n",
       "2   2014-11-01  4092050044               NaN               NaN   \n",
       "3   2014-11-01  4092050044               NaN               NaN   \n",
       "4   2014-11-01  4092050044               NaN               NaN   \n",
       "5   2014-11-01  4092050044               NaN               NaN   \n",
       "\n",
       "   Tot_C_violations  \n",
       "0               NaN  \n",
       "1               NaN  \n",
       "2               NaN  \n",
       "3               NaN  \n",
       "4               NaN  \n",
       "5               NaN  "
      ]
     },
     "execution_count": 6,
     "metadata": {},
     "output_type": "execute_result"
    }
   ],
   "source": [
    "merged_complaints_problems_violations.head(6)"
   ]
  },
  {
   "cell_type": "code",
   "execution_count": 7,
   "metadata": {
    "collapsed": false
   },
   "outputs": [
    {
     "data": {
      "text/plain": [
       "(624801, 15)"
      ]
     },
     "execution_count": 7,
     "metadata": {},
     "output_type": "execute_result"
    }
   ],
   "source": [
    "merged_complaints_problems_violations.shape"
   ]
  },
  {
   "cell_type": "markdown",
   "metadata": {},
   "source": [
    "This outer join resulted in 8336 extra records- thus, we need to drop rows where ComplaintID is null."
   ]
  },
  {
   "cell_type": "code",
   "execution_count": 8,
   "metadata": {
    "collapsed": true
   },
   "outputs": [],
   "source": [
    "merged_complaints_problems_violations = merged_complaints_problems_violations[~(merged_complaints_problems_violations['ComplaintID'].isnull())]"
   ]
  },
  {
   "cell_type": "code",
   "execution_count": 9,
   "metadata": {
    "collapsed": false
   },
   "outputs": [
    {
     "name": "stdout",
     "output_type": "stream",
     "text": [
      "(616465, 15) 347247\n"
     ]
    }
   ],
   "source": [
    "print merged_complaints_problems_violations.shape, len(merged_complaints_problems_violations['ComplaintID'].unique())"
   ]
  },
  {
   "cell_type": "markdown",
   "metadata": {},
   "source": [
    "Now let's see how many violations histories matched records in our complaint dataset."
   ]
  },
  {
   "cell_type": "code",
   "execution_count": 15,
   "metadata": {
    "collapsed": false
   },
   "outputs": [
    {
     "name": "stdout",
     "output_type": "stream",
     "text": [
      "197658\n"
     ]
    }
   ],
   "source": [
    "is_null = merged_complaints_problems_violations[['Tot_A_violations', 'Tot_B_violations','Tot_C_violations']].isnull().any(axis=1).sum()\n",
    "print is_null"
   ]
  },
  {
   "cell_type": "markdown",
   "metadata": {},
   "source": [
    "So, of the complaints received between Nove 1st, 2014 and now, $\\frac{616465 - 197658}{616465} = \\frac{418807}{616465} \\approx 68\\%$ are from BBLs with at least one violation between April 1st, 2010, and March 31st, 2015. \n",
    "\n",
    "The last thing we need to do to finish cleaning up the merged dataset is to replace null values with zeros for Tot_A_violations, Tot_B_violations, and Tot_C_violations."
   ]
  },
  {
   "cell_type": "code",
   "execution_count": 16,
   "metadata": {
    "collapsed": false
   },
   "outputs": [
    {
     "name": "stdout",
     "output_type": "stream",
     "text": [
      "0\n",
      "0\n",
      "0\n"
     ]
    }
   ],
   "source": [
    "merged_complaints_problems_violations['Tot_A_violations'] = merged_complaints_problems_violations['Tot_A_violations'].fillna(0)\n",
    "merged_complaints_problems_violations['Tot_B_violations'] = merged_complaints_problems_violations['Tot_B_violations'].fillna(0)\n",
    "merged_complaints_problems_violations['Tot_C_violations'] = merged_complaints_problems_violations['Tot_C_violations'].fillna(0)\n",
    "\n",
    "print merged_complaints_problems_violations['Tot_A_violations'].isnull().sum()\n",
    "print merged_complaints_problems_violations['Tot_B_violations'].isnull().sum()\n",
    "print merged_complaints_problems_violations['Tot_C_violations'].isnull().sum()"
   ]
  },
  {
   "cell_type": "markdown",
   "metadata": {},
   "source": [
    "Now that we've finished the merge and filled NaN values, let's take a look at the data set (and write it to disc as a csv file for fast loading in future sessions). First, note at this point, we have many potentially informative features. Categorical features (which will need to be converted into dummy variables via pd.get_dummies) include:\n",
    "- UnitTypeID\n",
    "- SpaceTypeID\n",
    "- TypeID\n",
    "- MajorCategoryID\n",
    "- MinorCategoryID\n",
    "- CodeID\n",
    "- ViolationIssued (our Target Variable)\n",
    "- BoroughID\n",
    "\n",
    "Numeric features include:\n",
    "- Probs_in_complaint\n",
    "- Tot_A_violations\n",
    "- Tot_B_violations\n",
    "- Tot_C_violations\n",
    "\n",
    "Datetime feaures include:\n",
    "- ReceivedDate\n",
    "\n",
    "Identifiers include\n",
    "- BBL (needed to merge with PLUTO)."
   ]
  },
  {
   "cell_type": "code",
   "execution_count": 18,
   "metadata": {
    "collapsed": false
   },
   "outputs": [
    {
     "data": {
      "text/html": [
       "<div>\n",
       "<table border=\"1\" class=\"dataframe\">\n",
       "  <thead>\n",
       "    <tr style=\"text-align: right;\">\n",
       "      <th></th>\n",
       "      <th>UnitTypeID</th>\n",
       "      <th>SpaceTypeID</th>\n",
       "      <th>TypeID</th>\n",
       "      <th>MajorCategoryID</th>\n",
       "      <th>MinorCategoryID</th>\n",
       "      <th>CodeID</th>\n",
       "      <th>Probs_in_complaint</th>\n",
       "      <th>ViolationIssued</th>\n",
       "      <th>BoroughID</th>\n",
       "      <th>ReceivedDate</th>\n",
       "      <th>BBL</th>\n",
       "      <th>Tot_A_violations</th>\n",
       "      <th>Tot_B_violations</th>\n",
       "      <th>Tot_C_violations</th>\n",
       "    </tr>\n",
       "  </thead>\n",
       "  <tbody>\n",
       "    <tr>\n",
       "      <th>0</th>\n",
       "      <td>92</td>\n",
       "      <td>550</td>\n",
       "      <td>1</td>\n",
       "      <td>59</td>\n",
       "      <td>349</td>\n",
       "      <td>2716</td>\n",
       "      <td>1</td>\n",
       "      <td>0</td>\n",
       "      <td>4</td>\n",
       "      <td>2014-11-01</td>\n",
       "      <td>4092050044</td>\n",
       "      <td>0</td>\n",
       "      <td>0</td>\n",
       "      <td>0</td>\n",
       "    </tr>\n",
       "    <tr>\n",
       "      <th>1</th>\n",
       "      <td>91</td>\n",
       "      <td>543</td>\n",
       "      <td>1</td>\n",
       "      <td>59</td>\n",
       "      <td>348</td>\n",
       "      <td>2713</td>\n",
       "      <td>7</td>\n",
       "      <td>0</td>\n",
       "      <td>4</td>\n",
       "      <td>2014-11-01</td>\n",
       "      <td>4092050044</td>\n",
       "      <td>0</td>\n",
       "      <td>0</td>\n",
       "      <td>0</td>\n",
       "    </tr>\n",
       "    <tr>\n",
       "      <th>2</th>\n",
       "      <td>91</td>\n",
       "      <td>543</td>\n",
       "      <td>3</td>\n",
       "      <td>63</td>\n",
       "      <td>376</td>\n",
       "      <td>2823</td>\n",
       "      <td>7</td>\n",
       "      <td>0</td>\n",
       "      <td>4</td>\n",
       "      <td>2014-11-01</td>\n",
       "      <td>4092050044</td>\n",
       "      <td>0</td>\n",
       "      <td>0</td>\n",
       "      <td>0</td>\n",
       "    </tr>\n",
       "    <tr>\n",
       "      <th>3</th>\n",
       "      <td>91</td>\n",
       "      <td>543</td>\n",
       "      <td>3</td>\n",
       "      <td>63</td>\n",
       "      <td>376</td>\n",
       "      <td>2821</td>\n",
       "      <td>7</td>\n",
       "      <td>0</td>\n",
       "      <td>4</td>\n",
       "      <td>2014-11-01</td>\n",
       "      <td>4092050044</td>\n",
       "      <td>0</td>\n",
       "      <td>0</td>\n",
       "      <td>0</td>\n",
       "    </tr>\n",
       "    <tr>\n",
       "      <th>4</th>\n",
       "      <td>91</td>\n",
       "      <td>542</td>\n",
       "      <td>1</td>\n",
       "      <td>28</td>\n",
       "      <td>197</td>\n",
       "      <td>2521</td>\n",
       "      <td>7</td>\n",
       "      <td>0</td>\n",
       "      <td>4</td>\n",
       "      <td>2014-11-01</td>\n",
       "      <td>4092050044</td>\n",
       "      <td>0</td>\n",
       "      <td>0</td>\n",
       "      <td>0</td>\n",
       "    </tr>\n",
       "    <tr>\n",
       "      <th>5</th>\n",
       "      <td>91</td>\n",
       "      <td>541</td>\n",
       "      <td>1</td>\n",
       "      <td>28</td>\n",
       "      <td>197</td>\n",
       "      <td>2521</td>\n",
       "      <td>7</td>\n",
       "      <td>0</td>\n",
       "      <td>4</td>\n",
       "      <td>2014-11-01</td>\n",
       "      <td>4092050044</td>\n",
       "      <td>0</td>\n",
       "      <td>0</td>\n",
       "      <td>0</td>\n",
       "    </tr>\n",
       "  </tbody>\n",
       "</table>\n",
       "</div>"
      ],
      "text/plain": [
       "   UnitTypeID  SpaceTypeID  TypeID  MajorCategoryID  MinorCategoryID  CodeID  \\\n",
       "0          92          550       1               59              349    2716   \n",
       "1          91          543       1               59              348    2713   \n",
       "2          91          543       3               63              376    2823   \n",
       "3          91          543       3               63              376    2821   \n",
       "4          91          542       1               28              197    2521   \n",
       "5          91          541       1               28              197    2521   \n",
       "\n",
       "   Probs_in_complaint  ViolationIssued  BoroughID ReceivedDate         BBL  \\\n",
       "0                   1                0          4   2014-11-01  4092050044   \n",
       "1                   7                0          4   2014-11-01  4092050044   \n",
       "2                   7                0          4   2014-11-01  4092050044   \n",
       "3                   7                0          4   2014-11-01  4092050044   \n",
       "4                   7                0          4   2014-11-01  4092050044   \n",
       "5                   7                0          4   2014-11-01  4092050044   \n",
       "\n",
       "   Tot_A_violations  Tot_B_violations  Tot_C_violations  \n",
       "0                 0                 0                 0  \n",
       "1                 0                 0                 0  \n",
       "2                 0                 0                 0  \n",
       "3                 0                 0                 0  \n",
       "4                 0                 0                 0  \n",
       "5                 0                 0                 0  "
      ]
     },
     "execution_count": 18,
     "metadata": {},
     "output_type": "execute_result"
    }
   ],
   "source": [
    "merged_complaints_problems_violations = merged_complaints_problems_violations.drop('ComplaintID', axis=1)\n",
    "merged_complaints_problems_violations.head(6)"
   ]
  },
  {
   "cell_type": "markdown",
   "metadata": {},
   "source": [
    "In addition, let's look at the distributions of informative features:"
   ]
  },
  {
   "cell_type": "code",
   "execution_count": 20,
   "metadata": {
    "collapsed": false
   },
   "outputs": [
    {
     "data": {
      "image/png": "[encoded data removed]",
      "text/plain": [
       "<matplotlib.figure.Figure at 0x10e19ff50>"
      ]
     },
     "metadata": {},
     "output_type": "display_data"
    }
   ],
   "source": [
    "import matplotlib.pyplot as plt\n",
    "%matplotlib inline\n",
    "\n",
    "StatusPlot = plt.hist(merged_complaints_problems_violations.ViolationIssued, bins=2, range=(0,1))\n",
    "plt.title('Distribution of target variable')\n",
    "plt.show(StatusPlot)"
   ]
  },
  {
   "cell_type": "markdown",
   "metadata": {},
   "source": [
    "Recall the codes mean:\n",
    "- 0: No violations issued\n",
    "- 1: Violations issued"
   ]
  },
  {
   "cell_type": "code",
   "execution_count": 21,
   "metadata": {
    "collapsed": false
   },
   "outputs": [
    {
     "data": {
      "image/png": "[encoded data removed]",
      "text/plain": [
       "<matplotlib.figure.Figure at 0x13e495290>"
      ]
     },
     "metadata": {},
     "output_type": "display_data"
    }
   ],
   "source": [
    "BoroPlt = plt.hist(merged_complaints_problems_violations.BoroughID, bins=9, range=(1,9))\n",
    "plt.title('Distribution of problems by Borough')\n",
    "plt.show(BoroPlt)"
   ]
  },
  {
   "cell_type": "markdown",
   "metadata": {},
   "source": [
    "Recall the codes represent:\n",
    "- 1: Manhattan\n",
    "- 2: The Bronx\n",
    "- 3: Brooklyn\n",
    "- 4: Queens\n",
    "- 5: Staten Island"
   ]
  },
  {
   "cell_type": "code",
   "execution_count": 22,
   "metadata": {
    "collapsed": false
   },
   "outputs": [
    {
     "data": {
      "image/png": "[encoded data removed]",
      "text/plain": [
       "<matplotlib.figure.Figure at 0x10b049890>"
      ]
     },
     "metadata": {},
     "output_type": "display_data"
    }
   ],
   "source": [
    "TypePlot = plt.hist(merged_complaints_problems_violations.TypeID, bins=9, range=(1,9))\n",
    "plt.title('Distribution of problem type')\n",
    "plt.show(TypePlot)"
   ]
  },
  {
   "cell_type": "markdown",
   "metadata": {},
   "source": [
    "Recall the Type codes mean the problem is considered (a/an):\n",
    "- 1: Emergency\n",
    "- 3: Non-emergency\n",
    "- 4: Immediate emergency"
   ]
  },
  {
   "cell_type": "code",
   "execution_count": 23,
   "metadata": {
    "collapsed": false
   },
   "outputs": [
    {
     "data": {
      "image/png": "[encoded data removed]",
      "text/plain": [
       "<matplotlib.figure.Figure at 0x10b066e10>"
      ]
     },
     "metadata": {},
     "output_type": "display_data"
    }
   ],
   "source": [
    "UnitTypePlot = plt.hist(merged_complaints_problems_violations.UnitTypeID, bins=3, range=(91,94))\n",
    "plt.title('Distribution of unit type')\n",
    "plt.show(UnitTypePlot)"
   ]
  },
  {
   "cell_type": "markdown",
   "metadata": {},
   "source": [
    "Recall the unit types are:\n",
    "- 91: Apartment\n",
    "- 92: Building wide\n",
    "- 93: Pubic area"
   ]
  },
  {
   "cell_type": "code",
   "execution_count": 24,
   "metadata": {
    "collapsed": false
   },
   "outputs": [
    {
     "data": {
      "image/png": "[encoded data removed]",
      "text/plain": [
       "<matplotlib.figure.Figure at 0x10ba214d0>"
      ]
     },
     "metadata": {},
     "output_type": "display_data"
    }
   ],
   "source": [
    "SpaceTypePlot = plt.hist(merged_complaints_problems_violations.SpaceTypeID, bins=40, range=(540,580))\n",
    "plt.title('Distribution of space type')\n",
    "plt.show(SpaceTypePlot)"
   ]
  },
  {
   "cell_type": "markdown",
   "metadata": {},
   "source": [
    "While there two many features to fully describe here, the top four space types are:\n",
    "- 543: Entire apartment\n",
    "- 550: Building wide\n",
    "- 541: Bathroom\n",
    "- 546: Kitchen"
   ]
  },
  {
   "cell_type": "code",
   "execution_count": 25,
   "metadata": {
    "collapsed": false
   },
   "outputs": [
    {
     "data": {
      "image/png": "[encoded data removed]",
      "text/plain": [
       "<matplotlib.figure.Figure at 0x10bb705d0>"
      ]
     },
     "metadata": {},
     "output_type": "display_data"
    }
   ],
   "source": [
    "MajorCat = plt.hist(merged_complaints_problems_violations.MajorCategoryID, bins=70, range=(0,70))\n",
    "plt.title('Distribution of Major Category')\n",
    "plt.show(MajorCat)"
   ]
  },
  {
   "cell_type": "markdown",
   "metadata": {},
   "source": [
    "Again there are too many features to fully describe here, but the top four space types are:\n",
    "- 9: Plumbing\n",
    "- 28: Paint/plaster\n",
    "- 59: Heat/hot water\n",
    "- 63: Unsanitary condition"
   ]
  },
  {
   "cell_type": "markdown",
   "metadata": {},
   "source": [
    "The distribution of minor category is shown somewhat differently. Since this is a higher cardinality categorical variable, the frequency of each code is shown. From this plot it is apparent that most of the observations fall into a smaller subset of minor categories."
   ]
  },
  {
   "cell_type": "code",
   "execution_count": 27,
   "metadata": {
    "collapsed": false
   },
   "outputs": [
    {
     "data": {
      "image/png": "[encoded data removed]",
      "text/plain": [
       "<matplotlib.figure.Figure at 0x10e169610>"
      ]
     },
     "metadata": {},
     "output_type": "display_data"
    },
    {
     "name": "stdout",
     "output_type": "stream",
     "text": [
      "There are  56  unique values for minor category represented in the dataset.\n"
     ]
    }
   ],
   "source": [
    "minorcat = plt.hist(merged_complaints_problems_violations[\"MinorCategoryID\"].value_counts().values, bins=len(merged_complaints_problems_violations[\"MinorCategoryID\"].value_counts().values))\n",
    "plt.title('Distribution of frequencies of minor category')\n",
    "plt.show(minorcat)\n",
    "print 'There are ', len(merged_complaints_problems_violations[\"MinorCategoryID\"].unique()), ' unique values for minor category represented in the dataset.'"
   ]
  },
  {
   "cell_type": "markdown",
   "metadata": {},
   "source": [
    "Again CodeID is a higher cardinality categorical variable, so the frequency of each code is shown. From this plot it is apparent that many of the observations fall into a smaller subset of CodeID, though this is less true than it was for Minor Category (i.e. the upper tail of this frequency distribution is not as fat)."
   ]
  },
  {
   "cell_type": "code",
   "execution_count": 29,
   "metadata": {
    "collapsed": false
   },
   "outputs": [
    {
     "data": {
      "image/png": "[encoded data removed]",
      "text/plain": [
       "<matplotlib.figure.Figure at 0x10bace290>"
      ]
     },
     "metadata": {},
     "output_type": "display_data"
    },
    {
     "name": "stdout",
     "output_type": "stream",
     "text": [
      "There are  161  unique value for CodeID represented in the dataset.\n"
     ]
    }
   ],
   "source": [
    "minorcat = plt.hist(merged_complaints_problems_violations[\"CodeID\"].value_counts().values, bins=50)\n",
    "plt.title('Distribution of frequencies of CodeID category')\n",
    "plt.show(minorcat)\n",
    "print 'There are ', len(merged_complaints_problems_violations[\"CodeID\"].unique()), ' unique value for CodeID represented in the dataset.'"
   ]
  },
  {
   "cell_type": "code",
   "execution_count": 30,
   "metadata": {
    "collapsed": false
   },
   "outputs": [
    {
     "data": {
      "image/png": "[encoded data removed]",
      "text/plain": [
       "<matplotlib.figure.Figure at 0x10ec41590>"
      ]
     },
     "metadata": {},
     "output_type": "display_data"
    }
   ],
   "source": [
    "Violations = plt.hist(merged_complaints_problems_violations.Tot_A_violations, bins=150, range=(0,150))\n",
    "plt.title('Distribution of violations- Type A')\n",
    "plt.show(Violations)"
   ]
  },
  {
   "cell_type": "code",
   "execution_count": 31,
   "metadata": {
    "collapsed": false
   },
   "outputs": [
    {
     "data": {
      "image/png": "[encoded data removed]",
      "text/plain": [
       "<matplotlib.figure.Figure at 0x10ec39f10>"
      ]
     },
     "metadata": {},
     "output_type": "display_data"
    }
   ],
   "source": [
    "Violations = plt.hist(merged_complaints_problems_violations.Tot_B_violations, bins=150, range=(0,150))\n",
    "plt.title('Distribution of violations- Type B')\n",
    "plt.show(Violations)"
   ]
  },
  {
   "cell_type": "code",
   "execution_count": 32,
   "metadata": {
    "collapsed": false
   },
   "outputs": [
    {
     "data": {
      "image/png": "[encoded data removed]",
      "text/plain": [
       "<matplotlib.figure.Figure at 0x110c59050>"
      ]
     },
     "metadata": {},
     "output_type": "display_data"
    }
   ],
   "source": [
    "Violations = plt.hist(merged_complaints_problems_violations.Tot_C_violations, bins=150, range=(0,150))\n",
    "plt.title('Distribution of violations- Type C')\n",
    "plt.show(Violations)"
   ]
  },
  {
   "cell_type": "markdown",
   "metadata": {},
   "source": [
    "Finally, we write this merged dataset to disc for fast loading in future sessions."
   ]
  },
  {
   "cell_type": "code",
   "execution_count": 33,
   "metadata": {
    "collapsed": true
   },
   "outputs": [],
   "source": [
    "merged_complaints_problems_violations.to_csv('../../data/merged_complaints_problems_violations.csv')"
   ]
  }
 ],
 "metadata": {
  "kernelspec": {
   "display_name": "Python 2",
   "language": "python",
   "name": "python2"
  },
  "language_info": {
   "codemirror_mode": {
    "name": "ipython",
    "version": 2
   },
   "file_extension": ".py",
   "mimetype": "text/x-python",
   "name": "python",
   "nbconvert_exporter": "python",
   "pygments_lexer": "ipython2",
   "version": "2.7.10"
  }
 },
 "nbformat": 4,
 "nbformat_minor": 0
}
