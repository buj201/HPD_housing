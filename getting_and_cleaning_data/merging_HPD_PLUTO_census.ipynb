{
 "cells": [
  {
   "cell_type": "markdown",
   "metadata": {},
   "source": [
    "# Merging Pluto and Census data with HPD data.\n",
    "In this notebook, we merge the processed HPD data with the PLUTO and census data. We will merge the HPD and PLUTO data first, using BBL as a merge key. Then we will merge this set with the census, using BoroughID and census tract as keys."
   ]
  },
  {
   "cell_type": "code",
   "execution_count": 26,
   "metadata": {
    "collapsed": false
   },
   "outputs": [
    {
     "data": {
      "text/html": [
       "<div>\n",
       "<table border=\"1\" class=\"dataframe\">\n",
       "  <thead>\n",
       "    <tr style=\"text-align: right;\">\n",
       "      <th></th>\n",
       "      <th>UnitsRes</th>\n",
       "      <th>AssessTot</th>\n",
       "      <th>BBL</th>\n",
       "      <th>CT2010</th>\n",
       "      <th>Avg_value_per_res_unit</th>\n",
       "      <th>BuildingAge</th>\n",
       "      <th>YearSinceLastAlter</th>\n",
       "      <th>Unnamed: 0</th>\n",
       "      <th>UnitTypeID</th>\n",
       "      <th>SpaceTypeID</th>\n",
       "      <th>...</th>\n",
       "      <th>MajorCategoryID</th>\n",
       "      <th>MinorCategoryID</th>\n",
       "      <th>CodeID</th>\n",
       "      <th>Probs_in_complaint</th>\n",
       "      <th>ViolationIssued</th>\n",
       "      <th>BoroughID</th>\n",
       "      <th>ReceivedDate</th>\n",
       "      <th>Tot_A_violations</th>\n",
       "      <th>Tot_B_violations</th>\n",
       "      <th>Tot_C_violations</th>\n",
       "    </tr>\n",
       "  </thead>\n",
       "  <tbody>\n",
       "    <tr>\n",
       "      <th>0</th>\n",
       "      <td>8</td>\n",
       "      <td>104219</td>\n",
       "      <td>2022600018</td>\n",
       "      <td>001900</td>\n",
       "      <td>13027.375</td>\n",
       "      <td>95</td>\n",
       "      <td>6</td>\n",
       "      <td>571341</td>\n",
       "      <td>92</td>\n",
       "      <td>550</td>\n",
       "      <td>...</td>\n",
       "      <td>59</td>\n",
       "      <td>349</td>\n",
       "      <td>2716</td>\n",
       "      <td>1</td>\n",
       "      <td>0</td>\n",
       "      <td>2</td>\n",
       "      <td>2015-04-28</td>\n",
       "      <td>1</td>\n",
       "      <td>0</td>\n",
       "      <td>4</td>\n",
       "    </tr>\n",
       "    <tr>\n",
       "      <th>1</th>\n",
       "      <td>8</td>\n",
       "      <td>104219</td>\n",
       "      <td>2022600018</td>\n",
       "      <td>001900</td>\n",
       "      <td>13027.375</td>\n",
       "      <td>95</td>\n",
       "      <td>6</td>\n",
       "      <td>571342</td>\n",
       "      <td>91</td>\n",
       "      <td>543</td>\n",
       "      <td>...</td>\n",
       "      <td>59</td>\n",
       "      <td>348</td>\n",
       "      <td>2713</td>\n",
       "      <td>1</td>\n",
       "      <td>0</td>\n",
       "      <td>2</td>\n",
       "      <td>2015-04-28</td>\n",
       "      <td>1</td>\n",
       "      <td>0</td>\n",
       "      <td>4</td>\n",
       "    </tr>\n",
       "    <tr>\n",
       "      <th>2</th>\n",
       "      <td>12</td>\n",
       "      <td>347400</td>\n",
       "      <td>2022610045</td>\n",
       "      <td>001900</td>\n",
       "      <td>28950.000</td>\n",
       "      <td>90</td>\n",
       "      <td>90</td>\n",
       "      <td>175068</td>\n",
       "      <td>92</td>\n",
       "      <td>550</td>\n",
       "      <td>...</td>\n",
       "      <td>59</td>\n",
       "      <td>349</td>\n",
       "      <td>2715</td>\n",
       "      <td>1</td>\n",
       "      <td>0</td>\n",
       "      <td>2</td>\n",
       "      <td>2014-11-05</td>\n",
       "      <td>1</td>\n",
       "      <td>1</td>\n",
       "      <td>0</td>\n",
       "    </tr>\n",
       "    <tr>\n",
       "      <th>3</th>\n",
       "      <td>12</td>\n",
       "      <td>347400</td>\n",
       "      <td>2022610045</td>\n",
       "      <td>001900</td>\n",
       "      <td>28950.000</td>\n",
       "      <td>90</td>\n",
       "      <td>90</td>\n",
       "      <td>175069</td>\n",
       "      <td>91</td>\n",
       "      <td>543</td>\n",
       "      <td>...</td>\n",
       "      <td>59</td>\n",
       "      <td>348</td>\n",
       "      <td>2713</td>\n",
       "      <td>1</td>\n",
       "      <td>0</td>\n",
       "      <td>2</td>\n",
       "      <td>2014-11-13</td>\n",
       "      <td>1</td>\n",
       "      <td>1</td>\n",
       "      <td>0</td>\n",
       "    </tr>\n",
       "    <tr>\n",
       "      <th>4</th>\n",
       "      <td>12</td>\n",
       "      <td>347400</td>\n",
       "      <td>2022610045</td>\n",
       "      <td>001900</td>\n",
       "      <td>28950.000</td>\n",
       "      <td>90</td>\n",
       "      <td>90</td>\n",
       "      <td>175070</td>\n",
       "      <td>92</td>\n",
       "      <td>550</td>\n",
       "      <td>...</td>\n",
       "      <td>59</td>\n",
       "      <td>349</td>\n",
       "      <td>2715</td>\n",
       "      <td>1</td>\n",
       "      <td>0</td>\n",
       "      <td>2</td>\n",
       "      <td>2014-11-13</td>\n",
       "      <td>1</td>\n",
       "      <td>1</td>\n",
       "      <td>0</td>\n",
       "    </tr>\n",
       "    <tr>\n",
       "      <th>5</th>\n",
       "      <td>12</td>\n",
       "      <td>347400</td>\n",
       "      <td>2022610045</td>\n",
       "      <td>001900</td>\n",
       "      <td>28950.000</td>\n",
       "      <td>90</td>\n",
       "      <td>90</td>\n",
       "      <td>175071</td>\n",
       "      <td>92</td>\n",
       "      <td>550</td>\n",
       "      <td>...</td>\n",
       "      <td>59</td>\n",
       "      <td>349</td>\n",
       "      <td>2715</td>\n",
       "      <td>1</td>\n",
       "      <td>0</td>\n",
       "      <td>2</td>\n",
       "      <td>2014-11-13</td>\n",
       "      <td>1</td>\n",
       "      <td>1</td>\n",
       "      <td>0</td>\n",
       "    </tr>\n",
       "  </tbody>\n",
       "</table>\n",
       "<p>6 rows × 21 columns</p>\n",
       "</div>"
      ],
      "text/plain": [
       "   UnitsRes  AssessTot         BBL  CT2010  Avg_value_per_res_unit  \\\n",
       "0         8     104219  2022600018  001900               13027.375   \n",
       "1         8     104219  2022600018  001900               13027.375   \n",
       "2        12     347400  2022610045  001900               28950.000   \n",
       "3        12     347400  2022610045  001900               28950.000   \n",
       "4        12     347400  2022610045  001900               28950.000   \n",
       "5        12     347400  2022610045  001900               28950.000   \n",
       "\n",
       "   BuildingAge  YearSinceLastAlter  Unnamed: 0  UnitTypeID  SpaceTypeID  \\\n",
       "0           95                   6      571341          92          550   \n",
       "1           95                   6      571342          91          543   \n",
       "2           90                  90      175068          92          550   \n",
       "3           90                  90      175069          91          543   \n",
       "4           90                  90      175070          92          550   \n",
       "5           90                  90      175071          92          550   \n",
       "\n",
       "         ...         MajorCategoryID  MinorCategoryID  CodeID  \\\n",
       "0        ...                      59              349    2716   \n",
       "1        ...                      59              348    2713   \n",
       "2        ...                      59              349    2715   \n",
       "3        ...                      59              348    2713   \n",
       "4        ...                      59              349    2715   \n",
       "5        ...                      59              349    2715   \n",
       "\n",
       "   Probs_in_complaint  ViolationIssued  BoroughID  ReceivedDate  \\\n",
       "0                   1                0          2    2015-04-28   \n",
       "1                   1                0          2    2015-04-28   \n",
       "2                   1                0          2    2014-11-05   \n",
       "3                   1                0          2    2014-11-13   \n",
       "4                   1                0          2    2014-11-13   \n",
       "5                   1                0          2    2014-11-13   \n",
       "\n",
       "  Tot_A_violations  Tot_B_violations  Tot_C_violations  \n",
       "0                1                 0                 4  \n",
       "1                1                 0                 4  \n",
       "2                1                 1                 0  \n",
       "3                1                 1                 0  \n",
       "4                1                 1                 0  \n",
       "5                1                 1                 0  \n",
       "\n",
       "[6 rows x 21 columns]"
      ]
     },
     "execution_count": 26,
     "metadata": {},
     "output_type": "execute_result"
    }
   ],
   "source": [
    "import pandas as pd\n",
    "from get_clean_pluto_building_data import *\n",
    "import re\n",
    "\n",
    "pluto = get_clean_pluto_data()\n",
    "hpd = pd.read_csv('../../data/merged_complaints_problems_violations.csv')\n",
    "\n",
    "merged_hpd_pluto = pd.merge(pluto, hpd, on='BBL', how='inner')\n",
    "merged_hpd_pluto.head(6)"
   ]
  },
  {
   "cell_type": "code",
   "execution_count": 27,
   "metadata": {
    "collapsed": false
   },
   "outputs": [
    {
     "data": {
      "text/plain": [
       "(609157, 21)"
      ]
     },
     "execution_count": 27,
     "metadata": {},
     "output_type": "execute_result"
    }
   ],
   "source": [
    "merged_hpd_pluto.shape"
   ]
  },
  {
   "cell_type": "code",
   "execution_count": 28,
   "metadata": {
    "collapsed": false
   },
   "outputs": [
    {
     "data": {
      "text/plain": [
       "Index([u'UnitsRes', u'AssessTot', u'BBL', u'CT2010', u'Avg_value_per_res_unit',\n",
       "       u'BuildingAge', u'YearSinceLastAlter', u'Unnamed: 0', u'UnitTypeID',\n",
       "       u'SpaceTypeID', u'TypeID', u'MajorCategoryID', u'MinorCategoryID',\n",
       "       u'CodeID', u'Probs_in_complaint', u'ViolationIssued', u'BoroughID',\n",
       "       u'ReceivedDate', u'Tot_A_violations', u'Tot_B_violations',\n",
       "       u'Tot_C_violations'],\n",
       "      dtype='object')"
      ]
     },
     "execution_count": 28,
     "metadata": {},
     "output_type": "execute_result"
    }
   ],
   "source": [
    "merged_hpd_pluto.columns"
   ]
  },
  {
   "cell_type": "markdown",
   "metadata": {},
   "source": [
    "Note the index of from hpd has been added as a feature to the merged dataset (as evidenced by the fact it has 609157 unique values in a dataframe with 609157 rows), so we'll drop it before proceeding."
   ]
  },
  {
   "cell_type": "code",
   "execution_count": 29,
   "metadata": {
    "collapsed": false
   },
   "outputs": [
    {
     "data": {
      "text/plain": [
       "609157"
      ]
     },
     "execution_count": 29,
     "metadata": {},
     "output_type": "execute_result"
    }
   ],
   "source": [
    "len(merged_hpd_pluto['Unnamed: 0'].unique())"
   ]
  },
  {
   "cell_type": "code",
   "execution_count": 30,
   "metadata": {
    "collapsed": true
   },
   "outputs": [],
   "source": [
    "merged_hpd_pluto = merged_hpd_pluto.drop('Unnamed: 0', axis=1)"
   ]
  },
  {
   "cell_type": "code",
   "execution_count": 31,
   "metadata": {
    "collapsed": false
   },
   "outputs": [
    {
     "data": {
      "text/plain": [
       "(609157, 20)"
      ]
     },
     "execution_count": 31,
     "metadata": {},
     "output_type": "execute_result"
    }
   ],
   "source": [
    "merged_hpd_pluto.shape"
   ]
  },
  {
   "cell_type": "code",
   "execution_count": 32,
   "metadata": {
    "collapsed": false
   },
   "outputs": [],
   "source": [
    "from get_income_data_from_census import *\n",
    "income = get_clean_income_data()\n",
    "\n",
    "merged_pluto_hpd_census = pd.merge(income, merged_hpd_pluto, on=['CT2010','BoroughID'], how='inner')"
   ]
  },
  {
   "cell_type": "code",
   "execution_count": 33,
   "metadata": {
    "collapsed": false
   },
   "outputs": [
    {
     "data": {
      "text/html": [
       "<div>\n",
       "<table border=\"1\" class=\"dataframe\">\n",
       "  <thead>\n",
       "    <tr style=\"text-align: right;\">\n",
       "      <th></th>\n",
       "      <th>Median_income</th>\n",
       "      <th>State</th>\n",
       "      <th>CT2010</th>\n",
       "      <th>BoroughID</th>\n",
       "      <th>UnitsRes</th>\n",
       "      <th>AssessTot</th>\n",
       "      <th>BBL</th>\n",
       "      <th>Avg_value_per_res_unit</th>\n",
       "      <th>BuildingAge</th>\n",
       "      <th>YearSinceLastAlter</th>\n",
       "      <th>...</th>\n",
       "      <th>TypeID</th>\n",
       "      <th>MajorCategoryID</th>\n",
       "      <th>MinorCategoryID</th>\n",
       "      <th>CodeID</th>\n",
       "      <th>Probs_in_complaint</th>\n",
       "      <th>ViolationIssued</th>\n",
       "      <th>ReceivedDate</th>\n",
       "      <th>Tot_A_violations</th>\n",
       "      <th>Tot_B_violations</th>\n",
       "      <th>Tot_C_violations</th>\n",
       "    </tr>\n",
       "  </thead>\n",
       "  <tbody>\n",
       "    <tr>\n",
       "      <th>0</th>\n",
       "      <td>69514</td>\n",
       "      <td>36</td>\n",
       "      <td>000200</td>\n",
       "      <td>2</td>\n",
       "      <td>2</td>\n",
       "      <td>7363</td>\n",
       "      <td>2034410083</td>\n",
       "      <td>3681.5</td>\n",
       "      <td>75</td>\n",
       "      <td>75</td>\n",
       "      <td>...</td>\n",
       "      <td>4</td>\n",
       "      <td>10</td>\n",
       "      <td>341</td>\n",
       "      <td>2678</td>\n",
       "      <td>1</td>\n",
       "      <td>0</td>\n",
       "      <td>2015-04-17</td>\n",
       "      <td>0</td>\n",
       "      <td>0</td>\n",
       "      <td>0</td>\n",
       "    </tr>\n",
       "    <tr>\n",
       "      <th>1</th>\n",
       "      <td>69514</td>\n",
       "      <td>36</td>\n",
       "      <td>000200</td>\n",
       "      <td>2</td>\n",
       "      <td>1</td>\n",
       "      <td>8060</td>\n",
       "      <td>2034420123</td>\n",
       "      <td>8060.0</td>\n",
       "      <td>70</td>\n",
       "      <td>70</td>\n",
       "      <td>...</td>\n",
       "      <td>1</td>\n",
       "      <td>61</td>\n",
       "      <td>365</td>\n",
       "      <td>2767</td>\n",
       "      <td>1</td>\n",
       "      <td>0</td>\n",
       "      <td>2015-03-28</td>\n",
       "      <td>0</td>\n",
       "      <td>0</td>\n",
       "      <td>0</td>\n",
       "    </tr>\n",
       "    <tr>\n",
       "      <th>2</th>\n",
       "      <td>69514</td>\n",
       "      <td>36</td>\n",
       "      <td>000200</td>\n",
       "      <td>2</td>\n",
       "      <td>1</td>\n",
       "      <td>8060</td>\n",
       "      <td>2034420123</td>\n",
       "      <td>8060.0</td>\n",
       "      <td>70</td>\n",
       "      <td>70</td>\n",
       "      <td>...</td>\n",
       "      <td>1</td>\n",
       "      <td>56</td>\n",
       "      <td>333</td>\n",
       "      <td>2664</td>\n",
       "      <td>5</td>\n",
       "      <td>0</td>\n",
       "      <td>2015-03-28</td>\n",
       "      <td>0</td>\n",
       "      <td>0</td>\n",
       "      <td>0</td>\n",
       "    </tr>\n",
       "    <tr>\n",
       "      <th>3</th>\n",
       "      <td>69514</td>\n",
       "      <td>36</td>\n",
       "      <td>000200</td>\n",
       "      <td>2</td>\n",
       "      <td>1</td>\n",
       "      <td>8060</td>\n",
       "      <td>2034420123</td>\n",
       "      <td>8060.0</td>\n",
       "      <td>70</td>\n",
       "      <td>70</td>\n",
       "      <td>...</td>\n",
       "      <td>3</td>\n",
       "      <td>9</td>\n",
       "      <td>65</td>\n",
       "      <td>2536</td>\n",
       "      <td>5</td>\n",
       "      <td>0</td>\n",
       "      <td>2015-03-28</td>\n",
       "      <td>0</td>\n",
       "      <td>0</td>\n",
       "      <td>0</td>\n",
       "    </tr>\n",
       "    <tr>\n",
       "      <th>4</th>\n",
       "      <td>69514</td>\n",
       "      <td>36</td>\n",
       "      <td>000200</td>\n",
       "      <td>2</td>\n",
       "      <td>1</td>\n",
       "      <td>8060</td>\n",
       "      <td>2034420123</td>\n",
       "      <td>8060.0</td>\n",
       "      <td>70</td>\n",
       "      <td>70</td>\n",
       "      <td>...</td>\n",
       "      <td>3</td>\n",
       "      <td>11</td>\n",
       "      <td>73</td>\n",
       "      <td>679</td>\n",
       "      <td>5</td>\n",
       "      <td>0</td>\n",
       "      <td>2015-03-28</td>\n",
       "      <td>0</td>\n",
       "      <td>0</td>\n",
       "      <td>0</td>\n",
       "    </tr>\n",
       "    <tr>\n",
       "      <th>5</th>\n",
       "      <td>69514</td>\n",
       "      <td>36</td>\n",
       "      <td>000200</td>\n",
       "      <td>2</td>\n",
       "      <td>1</td>\n",
       "      <td>8060</td>\n",
       "      <td>2034420123</td>\n",
       "      <td>8060.0</td>\n",
       "      <td>70</td>\n",
       "      <td>70</td>\n",
       "      <td>...</td>\n",
       "      <td>3</td>\n",
       "      <td>63</td>\n",
       "      <td>376</td>\n",
       "      <td>2822</td>\n",
       "      <td>5</td>\n",
       "      <td>0</td>\n",
       "      <td>2015-03-28</td>\n",
       "      <td>0</td>\n",
       "      <td>0</td>\n",
       "      <td>0</td>\n",
       "    </tr>\n",
       "  </tbody>\n",
       "</table>\n",
       "<p>6 rows × 22 columns</p>\n",
       "</div>"
      ],
      "text/plain": [
       "  Median_income  State  CT2010  BoroughID  UnitsRes  AssessTot         BBL  \\\n",
       "0         69514     36  000200          2         2       7363  2034410083   \n",
       "1         69514     36  000200          2         1       8060  2034420123   \n",
       "2         69514     36  000200          2         1       8060  2034420123   \n",
       "3         69514     36  000200          2         1       8060  2034420123   \n",
       "4         69514     36  000200          2         1       8060  2034420123   \n",
       "5         69514     36  000200          2         1       8060  2034420123   \n",
       "\n",
       "   Avg_value_per_res_unit  BuildingAge  YearSinceLastAlter        ...         \\\n",
       "0                  3681.5           75                  75        ...          \n",
       "1                  8060.0           70                  70        ...          \n",
       "2                  8060.0           70                  70        ...          \n",
       "3                  8060.0           70                  70        ...          \n",
       "4                  8060.0           70                  70        ...          \n",
       "5                  8060.0           70                  70        ...          \n",
       "\n",
       "   TypeID  MajorCategoryID  MinorCategoryID  CodeID  Probs_in_complaint  \\\n",
       "0       4               10              341    2678                   1   \n",
       "1       1               61              365    2767                   1   \n",
       "2       1               56              333    2664                   5   \n",
       "3       3                9               65    2536                   5   \n",
       "4       3               11               73     679                   5   \n",
       "5       3               63              376    2822                   5   \n",
       "\n",
       "   ViolationIssued  ReceivedDate  Tot_A_violations Tot_B_violations  \\\n",
       "0                0    2015-04-17                 0                0   \n",
       "1                0    2015-03-28                 0                0   \n",
       "2                0    2015-03-28                 0                0   \n",
       "3                0    2015-03-28                 0                0   \n",
       "4                0    2015-03-28                 0                0   \n",
       "5                0    2015-03-28                 0                0   \n",
       "\n",
       "   Tot_C_violations  \n",
       "0                 0  \n",
       "1                 0  \n",
       "2                 0  \n",
       "3                 0  \n",
       "4                 0  \n",
       "5                 0  \n",
       "\n",
       "[6 rows x 22 columns]"
      ]
     },
     "execution_count": 33,
     "metadata": {},
     "output_type": "execute_result"
    }
   ],
   "source": [
    "merged_pluto_hpd_census.head(6)"
   ]
  },
  {
   "cell_type": "code",
   "execution_count": 34,
   "metadata": {
    "collapsed": false
   },
   "outputs": [
    {
     "name": "stdout",
     "output_type": "stream",
     "text": [
      "(609157, 22)\n"
     ]
    }
   ],
   "source": [
    "print merged_pluto_hpd_census.shape"
   ]
  },
  {
   "cell_type": "code",
   "execution_count": 35,
   "metadata": {
    "collapsed": false
   },
   "outputs": [
    {
     "data": {
      "text/plain": [
       "Index([u'Median_income', u'State', u'CT2010', u'BoroughID', u'UnitsRes',\n",
       "       u'AssessTot', u'BBL', u'Avg_value_per_res_unit', u'BuildingAge',\n",
       "       u'YearSinceLastAlter', u'UnitTypeID', u'SpaceTypeID', u'TypeID',\n",
       "       u'MajorCategoryID', u'MinorCategoryID', u'CodeID',\n",
       "       u'Probs_in_complaint', u'ViolationIssued', u'ReceivedDate',\n",
       "       u'Tot_A_violations', u'Tot_B_violations', u'Tot_C_violations'],\n",
       "      dtype='object')"
      ]
     },
     "execution_count": 35,
     "metadata": {},
     "output_type": "execute_result"
    }
   ],
   "source": [
    "merged_pluto_hpd_census.columns"
   ]
  },
  {
   "cell_type": "markdown",
   "metadata": {},
   "source": [
    "Now, we drop features that we anticipate are non-informative."
   ]
  },
  {
   "cell_type": "code",
   "execution_count": 36,
   "metadata": {
    "collapsed": false
   },
   "outputs": [
    {
     "data": {
      "text/plain": [
       "(609157, 19)"
      ]
     },
     "execution_count": 36,
     "metadata": {},
     "output_type": "execute_result"
    }
   ],
   "source": [
    "merged_pluto_hpd_census = merged_pluto_hpd_census.drop(['State','CT2010','BBL'],axis=1)\n",
    "merged_pluto_hpd_census.shape"
   ]
  },
  {
   "cell_type": "code",
   "execution_count": 37,
   "metadata": {
    "collapsed": false
   },
   "outputs": [
    {
     "data": {
      "text/plain": [
       "Index([u'Median_income', u'BoroughID', u'UnitsRes', u'AssessTot',\n",
       "       u'Avg_value_per_res_unit', u'BuildingAge', u'YearSinceLastAlter',\n",
       "       u'UnitTypeID', u'SpaceTypeID', u'TypeID', u'MajorCategoryID',\n",
       "       u'MinorCategoryID', u'CodeID', u'Probs_in_complaint',\n",
       "       u'ViolationIssued', u'ReceivedDate', u'Tot_A_violations',\n",
       "       u'Tot_B_violations', u'Tot_C_violations'],\n",
       "      dtype='object')"
      ]
     },
     "execution_count": 37,
     "metadata": {},
     "output_type": "execute_result"
    }
   ],
   "source": [
    "merged_pluto_hpd_census.columns"
   ]
  },
  {
   "cell_type": "markdown",
   "metadata": {},
   "source": [
    "Now, let's see if it has any missing values:"
   ]
  },
  {
   "cell_type": "code",
   "execution_count": 38,
   "metadata": {
    "collapsed": false
   },
   "outputs": [
    {
     "data": {
      "text/plain": [
       "35"
      ]
     },
     "execution_count": 38,
     "metadata": {},
     "output_type": "execute_result"
    }
   ],
   "source": [
    "merged_pluto_hpd_census.isnull().any(axis=1).sum()"
   ]
  },
  {
   "cell_type": "markdown",
   "metadata": {},
   "source": [
    "It looks like we still have 35 records with missing values- since they represent an insignificant fraction of our total dataset, we drop them."
   ]
  },
  {
   "cell_type": "code",
   "execution_count": 39,
   "metadata": {
    "collapsed": false
   },
   "outputs": [],
   "source": [
    "merged_pluto_hpd_census = merged_pluto_hpd_census[~(merged_pluto_hpd_census.isnull().any(axis=1))]"
   ]
  },
  {
   "cell_type": "code",
   "execution_count": 40,
   "metadata": {
    "collapsed": false
   },
   "outputs": [
    {
     "data": {
      "text/plain": [
       "(609122, 19)"
      ]
     },
     "execution_count": 40,
     "metadata": {},
     "output_type": "execute_result"
    }
   ],
   "source": [
    "merged_pluto_hpd_census.shape"
   ]
  },
  {
   "cell_type": "code",
   "execution_count": 41,
   "metadata": {
    "collapsed": false
   },
   "outputs": [
    {
     "data": {
      "text/html": [
       "<div>\n",
       "<table border=\"1\" class=\"dataframe\">\n",
       "  <thead>\n",
       "    <tr style=\"text-align: right;\">\n",
       "      <th></th>\n",
       "      <th>Median_income</th>\n",
       "      <th>BoroughID</th>\n",
       "      <th>UnitsRes</th>\n",
       "      <th>AssessTot</th>\n",
       "      <th>Avg_value_per_res_unit</th>\n",
       "      <th>BuildingAge</th>\n",
       "      <th>YearSinceLastAlter</th>\n",
       "      <th>UnitTypeID</th>\n",
       "      <th>SpaceTypeID</th>\n",
       "      <th>TypeID</th>\n",
       "      <th>MajorCategoryID</th>\n",
       "      <th>MinorCategoryID</th>\n",
       "      <th>CodeID</th>\n",
       "      <th>Probs_in_complaint</th>\n",
       "      <th>ViolationIssued</th>\n",
       "      <th>ReceivedDate</th>\n",
       "      <th>Tot_A_violations</th>\n",
       "      <th>Tot_B_violations</th>\n",
       "      <th>Tot_C_violations</th>\n",
       "    </tr>\n",
       "  </thead>\n",
       "  <tbody>\n",
       "    <tr>\n",
       "      <th>0</th>\n",
       "      <td>69514</td>\n",
       "      <td>2</td>\n",
       "      <td>2</td>\n",
       "      <td>7363</td>\n",
       "      <td>3681.5</td>\n",
       "      <td>75</td>\n",
       "      <td>75</td>\n",
       "      <td>91</td>\n",
       "      <td>543</td>\n",
       "      <td>4</td>\n",
       "      <td>10</td>\n",
       "      <td>341</td>\n",
       "      <td>2678</td>\n",
       "      <td>1</td>\n",
       "      <td>0</td>\n",
       "      <td>2015-04-17</td>\n",
       "      <td>0</td>\n",
       "      <td>0</td>\n",
       "      <td>0</td>\n",
       "    </tr>\n",
       "    <tr>\n",
       "      <th>1</th>\n",
       "      <td>69514</td>\n",
       "      <td>2</td>\n",
       "      <td>1</td>\n",
       "      <td>8060</td>\n",
       "      <td>8060.0</td>\n",
       "      <td>70</td>\n",
       "      <td>70</td>\n",
       "      <td>93</td>\n",
       "      <td>573</td>\n",
       "      <td>1</td>\n",
       "      <td>61</td>\n",
       "      <td>365</td>\n",
       "      <td>2767</td>\n",
       "      <td>1</td>\n",
       "      <td>0</td>\n",
       "      <td>2015-03-28</td>\n",
       "      <td>0</td>\n",
       "      <td>0</td>\n",
       "      <td>0</td>\n",
       "    </tr>\n",
       "    <tr>\n",
       "      <th>2</th>\n",
       "      <td>69514</td>\n",
       "      <td>2</td>\n",
       "      <td>1</td>\n",
       "      <td>8060</td>\n",
       "      <td>8060.0</td>\n",
       "      <td>70</td>\n",
       "      <td>70</td>\n",
       "      <td>91</td>\n",
       "      <td>545</td>\n",
       "      <td>1</td>\n",
       "      <td>56</td>\n",
       "      <td>333</td>\n",
       "      <td>2664</td>\n",
       "      <td>5</td>\n",
       "      <td>0</td>\n",
       "      <td>2015-03-28</td>\n",
       "      <td>0</td>\n",
       "      <td>0</td>\n",
       "      <td>0</td>\n",
       "    </tr>\n",
       "    <tr>\n",
       "      <th>3</th>\n",
       "      <td>69514</td>\n",
       "      <td>2</td>\n",
       "      <td>1</td>\n",
       "      <td>8060</td>\n",
       "      <td>8060.0</td>\n",
       "      <td>70</td>\n",
       "      <td>70</td>\n",
       "      <td>91</td>\n",
       "      <td>546</td>\n",
       "      <td>3</td>\n",
       "      <td>9</td>\n",
       "      <td>65</td>\n",
       "      <td>2536</td>\n",
       "      <td>5</td>\n",
       "      <td>0</td>\n",
       "      <td>2015-03-28</td>\n",
       "      <td>0</td>\n",
       "      <td>0</td>\n",
       "      <td>0</td>\n",
       "    </tr>\n",
       "    <tr>\n",
       "      <th>4</th>\n",
       "      <td>69514</td>\n",
       "      <td>2</td>\n",
       "      <td>1</td>\n",
       "      <td>8060</td>\n",
       "      <td>8060.0</td>\n",
       "      <td>70</td>\n",
       "      <td>70</td>\n",
       "      <td>91</td>\n",
       "      <td>546</td>\n",
       "      <td>3</td>\n",
       "      <td>11</td>\n",
       "      <td>73</td>\n",
       "      <td>679</td>\n",
       "      <td>5</td>\n",
       "      <td>0</td>\n",
       "      <td>2015-03-28</td>\n",
       "      <td>0</td>\n",
       "      <td>0</td>\n",
       "      <td>0</td>\n",
       "    </tr>\n",
       "  </tbody>\n",
       "</table>\n",
       "</div>"
      ],
      "text/plain": [
       "  Median_income  BoroughID  UnitsRes  AssessTot  Avg_value_per_res_unit  \\\n",
       "0         69514          2         2       7363                  3681.5   \n",
       "1         69514          2         1       8060                  8060.0   \n",
       "2         69514          2         1       8060                  8060.0   \n",
       "3         69514          2         1       8060                  8060.0   \n",
       "4         69514          2         1       8060                  8060.0   \n",
       "\n",
       "   BuildingAge  YearSinceLastAlter  UnitTypeID  SpaceTypeID  TypeID  \\\n",
       "0           75                  75          91          543       4   \n",
       "1           70                  70          93          573       1   \n",
       "2           70                  70          91          545       1   \n",
       "3           70                  70          91          546       3   \n",
       "4           70                  70          91          546       3   \n",
       "\n",
       "   MajorCategoryID  MinorCategoryID  CodeID  Probs_in_complaint  \\\n",
       "0               10              341    2678                   1   \n",
       "1               61              365    2767                   1   \n",
       "2               56              333    2664                   5   \n",
       "3                9               65    2536                   5   \n",
       "4               11               73     679                   5   \n",
       "\n",
       "   ViolationIssued ReceivedDate  Tot_A_violations  Tot_B_violations  \\\n",
       "0                0   2015-04-17                 0                 0   \n",
       "1                0   2015-03-28                 0                 0   \n",
       "2                0   2015-03-28                 0                 0   \n",
       "3                0   2015-03-28                 0                 0   \n",
       "4                0   2015-03-28                 0                 0   \n",
       "\n",
       "   Tot_C_violations  \n",
       "0                 0  \n",
       "1                 0  \n",
       "2                 0  \n",
       "3                 0  \n",
       "4                 0  "
      ]
     },
     "execution_count": 41,
     "metadata": {},
     "output_type": "execute_result"
    }
   ],
   "source": [
    "merged_pluto_hpd_census.head(5)"
   ]
  },
  {
   "cell_type": "markdown",
   "metadata": {},
   "source": [
    "Now we convert ReceivedDate to a datetime feature, then extract the month (to use a categorical variable approximating season)."
   ]
  },
  {
   "cell_type": "code",
   "execution_count": 42,
   "metadata": {
    "collapsed": false
   },
   "outputs": [],
   "source": [
    "merged_pluto_hpd_census['ReceivedDate'] = pd.to_datetime(merged_pluto_hpd_census['ReceivedDate'])\n",
    "merged_pluto_hpd_census['Month'] = merged_pluto_hpd_census['ReceivedDate'].map(lambda x: x.month)\n",
    "merged_pluto_hpd_census = merged_pluto_hpd_census.drop('ReceivedDate', axis=1)"
   ]
  },
  {
   "cell_type": "markdown",
   "metadata": {},
   "source": [
    "Now, before we finish, we need to make the following dummy variables:\n",
    "  - Month\n",
    "  - BoroughID\n",
    "  - UnitTypeID\n",
    "  - SpaceTypeID\n",
    "  - TypeID\n",
    "  - MajorCategoryID\n",
    "  - MinorCategoryID\n",
    "  - CodeID\n",
    "Before we do, we describe the dataset (since adding the dummies will dramatically increase the number of features, we do this first)."
   ]
  },
  {
   "cell_type": "code",
   "execution_count": 43,
   "metadata": {
    "collapsed": false
   },
   "outputs": [
    {
     "data": {
      "text/html": [
       "<div>\n",
       "<table border=\"1\" class=\"dataframe\">\n",
       "  <thead>\n",
       "    <tr style=\"text-align: right;\">\n",
       "      <th></th>\n",
       "      <th>BoroughID</th>\n",
       "      <th>UnitsRes</th>\n",
       "      <th>AssessTot</th>\n",
       "      <th>Avg_value_per_res_unit</th>\n",
       "      <th>BuildingAge</th>\n",
       "      <th>YearSinceLastAlter</th>\n",
       "      <th>UnitTypeID</th>\n",
       "      <th>SpaceTypeID</th>\n",
       "      <th>TypeID</th>\n",
       "      <th>MajorCategoryID</th>\n",
       "      <th>MinorCategoryID</th>\n",
       "      <th>CodeID</th>\n",
       "      <th>Probs_in_complaint</th>\n",
       "      <th>ViolationIssued</th>\n",
       "      <th>Tot_A_violations</th>\n",
       "      <th>Tot_B_violations</th>\n",
       "      <th>Tot_C_violations</th>\n",
       "      <th>Month</th>\n",
       "    </tr>\n",
       "  </thead>\n",
       "  <tbody>\n",
       "    <tr>\n",
       "      <th>count</th>\n",
       "      <td>609122.000000</td>\n",
       "      <td>609122.000000</td>\n",
       "      <td>6.091220e+05</td>\n",
       "      <td>609122.000000</td>\n",
       "      <td>609122.000000</td>\n",
       "      <td>609122.000000</td>\n",
       "      <td>609122.000000</td>\n",
       "      <td>609122.000000</td>\n",
       "      <td>609122.000000</td>\n",
       "      <td>609122.000000</td>\n",
       "      <td>609122.000000</td>\n",
       "      <td>609122.000000</td>\n",
       "      <td>609122.000000</td>\n",
       "      <td>609122.000000</td>\n",
       "      <td>609122.000000</td>\n",
       "      <td>609122.000000</td>\n",
       "      <td>609122.000000</td>\n",
       "      <td>609122.000000</td>\n",
       "    </tr>\n",
       "    <tr>\n",
       "      <th>mean</th>\n",
       "      <td>2.419904</td>\n",
       "      <td>84.783628</td>\n",
       "      <td>2.220525e+06</td>\n",
       "      <td>23228.780804</td>\n",
       "      <td>83.888305</td>\n",
       "      <td>65.596491</td>\n",
       "      <td>91.354267</td>\n",
       "      <td>546.264729</td>\n",
       "      <td>1.785552</td>\n",
       "      <td>45.719830</td>\n",
       "      <td>293.525647</td>\n",
       "      <td>2565.203797</td>\n",
       "      <td>3.701505</td>\n",
       "      <td>0.191119</td>\n",
       "      <td>7.025087</td>\n",
       "      <td>22.061372</td>\n",
       "      <td>5.286616</td>\n",
       "      <td>6.216817</td>\n",
       "    </tr>\n",
       "    <tr>\n",
       "      <th>std</th>\n",
       "      <td>1.001496</td>\n",
       "      <td>417.443972</td>\n",
       "      <td>1.538070e+07</td>\n",
       "      <td>58894.912807</td>\n",
       "      <td>22.943957</td>\n",
       "      <td>32.934967</td>\n",
       "      <td>0.600159</td>\n",
       "      <td>6.046985</td>\n",
       "      <td>1.033644</td>\n",
       "      <td>21.369265</td>\n",
       "      <td>107.187189</td>\n",
       "      <td>495.660288</td>\n",
       "      <td>3.356061</td>\n",
       "      <td>0.393183</td>\n",
       "      <td>16.584919</td>\n",
       "      <td>48.557439</td>\n",
       "      <td>11.001849</td>\n",
       "      <td>3.832106</td>\n",
       "    </tr>\n",
       "    <tr>\n",
       "      <th>min</th>\n",
       "      <td>1.000000</td>\n",
       "      <td>1.000000</td>\n",
       "      <td>0.000000e+00</td>\n",
       "      <td>0.000000</td>\n",
       "      <td>1.000000</td>\n",
       "      <td>0.000000</td>\n",
       "      <td>91.000000</td>\n",
       "      <td>541.000000</td>\n",
       "      <td>1.000000</td>\n",
       "      <td>8.000000</td>\n",
       "      <td>59.000000</td>\n",
       "      <td>617.000000</td>\n",
       "      <td>1.000000</td>\n",
       "      <td>0.000000</td>\n",
       "      <td>0.000000</td>\n",
       "      <td>0.000000</td>\n",
       "      <td>0.000000</td>\n",
       "      <td>1.000000</td>\n",
       "    </tr>\n",
       "    <tr>\n",
       "      <th>25%</th>\n",
       "      <td>2.000000</td>\n",
       "      <td>8.000000</td>\n",
       "      <td>1.110160e+05</td>\n",
       "      <td>12515.625000</td>\n",
       "      <td>80.000000</td>\n",
       "      <td>30.000000</td>\n",
       "      <td>91.000000</td>\n",
       "      <td>543.000000</td>\n",
       "      <td>1.000000</td>\n",
       "      <td>28.000000</td>\n",
       "      <td>198.000000</td>\n",
       "      <td>2617.000000</td>\n",
       "      <td>1.000000</td>\n",
       "      <td>0.000000</td>\n",
       "      <td>0.000000</td>\n",
       "      <td>0.000000</td>\n",
       "      <td>0.000000</td>\n",
       "      <td>2.000000</td>\n",
       "    </tr>\n",
       "    <tr>\n",
       "      <th>50%</th>\n",
       "      <td>2.000000</td>\n",
       "      <td>31.000000</td>\n",
       "      <td>6.196500e+05</td>\n",
       "      <td>17318.181818</td>\n",
       "      <td>88.000000</td>\n",
       "      <td>84.000000</td>\n",
       "      <td>91.000000</td>\n",
       "      <td>543.000000</td>\n",
       "      <td>1.000000</td>\n",
       "      <td>59.000000</td>\n",
       "      <td>348.000000</td>\n",
       "      <td>2713.000000</td>\n",
       "      <td>2.000000</td>\n",
       "      <td>0.000000</td>\n",
       "      <td>1.000000</td>\n",
       "      <td>4.000000</td>\n",
       "      <td>1.000000</td>\n",
       "      <td>6.000000</td>\n",
       "    </tr>\n",
       "    <tr>\n",
       "      <th>75%</th>\n",
       "      <td>3.000000</td>\n",
       "      <td>64.000000</td>\n",
       "      <td>1.327050e+06</td>\n",
       "      <td>24347.727273</td>\n",
       "      <td>95.000000</td>\n",
       "      <td>90.000000</td>\n",
       "      <td>92.000000</td>\n",
       "      <td>550.000000</td>\n",
       "      <td>3.000000</td>\n",
       "      <td>59.000000</td>\n",
       "      <td>349.000000</td>\n",
       "      <td>2806.000000</td>\n",
       "      <td>6.000000</td>\n",
       "      <td>0.000000</td>\n",
       "      <td>7.000000</td>\n",
       "      <td>23.000000</td>\n",
       "      <td>6.000000</td>\n",
       "      <td>10.000000</td>\n",
       "    </tr>\n",
       "    <tr>\n",
       "      <th>max</th>\n",
       "      <td>5.000000</td>\n",
       "      <td>10914.000000</td>\n",
       "      <td>5.694651e+08</td>\n",
       "      <td>14307300.000000</td>\n",
       "      <td>215.000000</td>\n",
       "      <td>215.000000</td>\n",
       "      <td>93.000000</td>\n",
       "      <td>577.000000</td>\n",
       "      <td>4.000000</td>\n",
       "      <td>65.000000</td>\n",
       "      <td>381.000000</td>\n",
       "      <td>2834.000000</td>\n",
       "      <td>42.000000</td>\n",
       "      <td>1.000000</td>\n",
       "      <td>303.000000</td>\n",
       "      <td>896.000000</td>\n",
       "      <td>151.000000</td>\n",
       "      <td>12.000000</td>\n",
       "    </tr>\n",
       "  </tbody>\n",
       "</table>\n",
       "</div>"
      ],
      "text/plain": [
       "           BoroughID       UnitsRes     AssessTot  Avg_value_per_res_unit  \\\n",
       "count  609122.000000  609122.000000  6.091220e+05           609122.000000   \n",
       "mean        2.419904      84.783628  2.220525e+06            23228.780804   \n",
       "std         1.001496     417.443972  1.538070e+07            58894.912807   \n",
       "min         1.000000       1.000000  0.000000e+00                0.000000   \n",
       "25%         2.000000       8.000000  1.110160e+05            12515.625000   \n",
       "50%         2.000000      31.000000  6.196500e+05            17318.181818   \n",
       "75%         3.000000      64.000000  1.327050e+06            24347.727273   \n",
       "max         5.000000   10914.000000  5.694651e+08         14307300.000000   \n",
       "\n",
       "         BuildingAge  YearSinceLastAlter     UnitTypeID    SpaceTypeID  \\\n",
       "count  609122.000000       609122.000000  609122.000000  609122.000000   \n",
       "mean       83.888305           65.596491      91.354267     546.264729   \n",
       "std        22.943957           32.934967       0.600159       6.046985   \n",
       "min         1.000000            0.000000      91.000000     541.000000   \n",
       "25%        80.000000           30.000000      91.000000     543.000000   \n",
       "50%        88.000000           84.000000      91.000000     543.000000   \n",
       "75%        95.000000           90.000000      92.000000     550.000000   \n",
       "max       215.000000          215.000000      93.000000     577.000000   \n",
       "\n",
       "              TypeID  MajorCategoryID  MinorCategoryID         CodeID  \\\n",
       "count  609122.000000    609122.000000    609122.000000  609122.000000   \n",
       "mean        1.785552        45.719830       293.525647    2565.203797   \n",
       "std         1.033644        21.369265       107.187189     495.660288   \n",
       "min         1.000000         8.000000        59.000000     617.000000   \n",
       "25%         1.000000        28.000000       198.000000    2617.000000   \n",
       "50%         1.000000        59.000000       348.000000    2713.000000   \n",
       "75%         3.000000        59.000000       349.000000    2806.000000   \n",
       "max         4.000000        65.000000       381.000000    2834.000000   \n",
       "\n",
       "       Probs_in_complaint  ViolationIssued  Tot_A_violations  \\\n",
       "count       609122.000000    609122.000000     609122.000000   \n",
       "mean             3.701505         0.191119          7.025087   \n",
       "std              3.356061         0.393183         16.584919   \n",
       "min              1.000000         0.000000          0.000000   \n",
       "25%              1.000000         0.000000          0.000000   \n",
       "50%              2.000000         0.000000          1.000000   \n",
       "75%              6.000000         0.000000          7.000000   \n",
       "max             42.000000         1.000000        303.000000   \n",
       "\n",
       "       Tot_B_violations  Tot_C_violations          Month  \n",
       "count     609122.000000     609122.000000  609122.000000  \n",
       "mean          22.061372          5.286616       6.216817  \n",
       "std           48.557439         11.001849       3.832106  \n",
       "min            0.000000          0.000000       1.000000  \n",
       "25%            0.000000          0.000000       2.000000  \n",
       "50%            4.000000          1.000000       6.000000  \n",
       "75%           23.000000          6.000000      10.000000  \n",
       "max          896.000000        151.000000      12.000000  "
      ]
     },
     "execution_count": 43,
     "metadata": {},
     "output_type": "execute_result"
    }
   ],
   "source": [
    "merged_pluto_hpd_census.describe()"
   ]
  },
  {
   "cell_type": "code",
   "execution_count": 44,
   "metadata": {
    "collapsed": false
   },
   "outputs": [
    {
     "data": {
      "text/plain": [
       "(609122, 19)"
      ]
     },
     "execution_count": 44,
     "metadata": {},
     "output_type": "execute_result"
    }
   ],
   "source": [
    "merged_pluto_hpd_census.shape"
   ]
  },
  {
   "cell_type": "markdown",
   "metadata": {},
   "source": [
    "Now we make dummy variables for our categorical features."
   ]
  },
  {
   "cell_type": "code",
   "execution_count": 61,
   "metadata": {
    "collapsed": false
   },
   "outputs": [],
   "source": [
    "def make_dummy_variables(dataframe, feature):\n",
    "    uniques = dataframe[feature].unique()\n",
    "    dummies = pd.get_dummies(dataframe[feature])\n",
    "    colnames = ['{}_{}'.format(str(feature), str(int(x))) for x in uniques]\n",
    "    dummies.columns = colnames\n",
    "    dummies.drop(colnames[-1], axis=1, inplace=True)\n",
    "    return dummies\n",
    "\n",
    "def drop_minor_classes_for_feature(dataframe, feature, min_num_obs=500):\n",
    "    important_classes = dataframe[feature].value_counts()\n",
    "    important_classes = important_classes[important_classes > min_num_obs]\n",
    "    dataframe[feature] = dataframe[feature].map(lambda x: x if (int(x) in important_classes) else 0)\n",
    "    return dataframe\n",
    "\n",
    "def clean_categorical_vars(dataframe, list_of_cat_vars):\n",
    "    for var in list_of_cat_vars:\n",
    "        drop_minor_classes_for_feature(dataframe, var)\n",
    "        dummies = make_dummy_variables(dataframe, var)\n",
    "        dataframe = pd.concat([dataframe, dummies], axis=1)\n",
    "        dataframe = dataframe.drop(var, axis=1)\n",
    "    return dataframe"
   ]
  },
  {
   "cell_type": "code",
   "execution_count": 62,
   "metadata": {
    "collapsed": false
   },
   "outputs": [],
   "source": [
    "cat_vars = ['BoroughID','UnitTypeID','SpaceTypeID','TypeID','MajorCategoryID','MinorCategoryID','CodeID','Month']\n",
    "cleaned_df = clean_categorical_vars(merged_pluto_hpd_census, cat_vars)"
   ]
  },
  {
   "cell_type": "code",
   "execution_count": 63,
   "metadata": {
    "collapsed": false
   },
   "outputs": [
    {
     "data": {
      "text/plain": [
       "(609122, 214)"
      ]
     },
     "execution_count": 63,
     "metadata": {},
     "output_type": "execute_result"
    }
   ],
   "source": [
    "cleaned_df.shape"
   ]
  },
  {
   "cell_type": "code",
   "execution_count": 66,
   "metadata": {
    "collapsed": false
   },
   "outputs": [
    {
     "data": {
      "text/plain": [
       "0"
      ]
     },
     "execution_count": 66,
     "metadata": {},
     "output_type": "execute_result"
    }
   ],
   "source": [
    "cleaned_df.isnull().any(axis=1).sum()"
   ]
  },
  {
   "cell_type": "code",
   "execution_count": null,
   "metadata": {
    "collapsed": false
   },
   "outputs": [],
   "source": [
    "cleaned_df.to_csv('../../data/merged_hpd_census_pluto.csv')"
   ]
  }
 ],
 "metadata": {
  "kernelspec": {
   "display_name": "Python 2",
   "language": "python",
   "name": "python2"
  },
  "language_info": {
   "codemirror_mode": {
    "name": "ipython",
    "version": 2
   },
   "file_extension": ".py",
   "mimetype": "text/x-python",
   "name": "python",
   "nbconvert_exporter": "python",
   "pygments_lexer": "ipython2",
   "version": "2.7.10"
  }
 },
 "nbformat": 4,
 "nbformat_minor": 0
}
